{
 "cells": [
  {
   "cell_type": "markdown",
   "source": [
    "<h1 align=center>Capítulo 10 - Juntando tudo: projetando seu chatbot com spaCy</h1>\n",
    "<p align=center><img src=https://blog.desdelinux.net/wp-content/uploads/2021/02/procesamiento-de-lenguaje-natural.png width=500></p>\n",
    "\n",
    "Neste capítulo, você usará tudo o que aprendeu até agora para projetar um chatbot. Você realizará extração de entidade, reconhecimento de intenção e manipulação de contexto. Você usará diferentes formas de análise sintática e semântica, extração de entidade e classificação de texto.\n",
    "\n",
    "Primeiro, você explorará o conjunto de dados que usaremos para coletar informações linguísticas sobre os enunciados nele. Em seguida, você executará a extração de entidade combinando o modelo spaCy de **reconhecimento de entidade nomeada (NER)** e a classe spaCy **Matcher**. Depois disso, você realizará o reconhecimento de intenção com duas técnicas diferentes: um método baseado em padrões e classificação estatística de texto com TensorFlow e Keras. Você treinará um LSTM em nível de caractere para classificar as intenções de expressão.\n",
    "\n",
    "A seção final é uma seção dedicada à semântica em nível de sentença e diálogo. Você mergulhará profundamente em assuntos semânticos, como **resolução de anáforas**, **tipos de perguntas gramaticais** e **diferenciação de assuntos de objetos**.\n",
    "\n",
    "No final deste capítulo, você estará pronto para projetar um pipeline de **entendimento de linguagem natural (NLU)** de chatbot real. Você reunirá o que aprendeu em todos os capítulos anteriores – linguística e estatisticamente – combinando vários componentes de pipeline spaCy, como **NER**, um **analisador de dependência** e um **tagger POS**.\n",
    "\n",
    "Neste capítulo, abordaremos os seguintes tópicos principais:\n",
    "* Introdução à IA conversacional\n",
    "* Extração de entidade\n",
    "* Reconhecimento de intenção"
   ],
   "metadata": {
    "collapsed": false
   }
  },
  {
   "cell_type": "markdown",
   "source": [
    "## Introdução à IA conversacional\n",
    "\n",
    "Sejam bem-vindos ao nosso último e muito empolgante capítulo, onde você projetará um pipeline NLU de chatbot com spaCy e TensorFlow. Neste capítulo, você aprenderá as técnicas NLU para extrair significado das interações multiturno do chatbot-usuário. Ao aprender e aplicar essas técnicas, você dará um passo no **desenvolvimento de IA conversacional**.\n",
    "\n",
    "Antes de mergulhar nos detalhes técnicos, há uma pergunta fundamental: o que é um chatbot? Onde podemos encontrar um? O que exatamente significa IA conversacional?\n",
    "\n",
    "**A inteligência artificial conversacional (IA conversacional)** é um campo de aprendizado de máquina que visa criar tecnologia que permita que os usuários tenham interações baseadas em texto ou fala com máquinas. Chatbots, assistentes virtuais e assistentes de voz são produtos típicos de IA conversacional.\n",
    "\n",
    "Um **chatbot** é um aplicativo de software projetado para fazer conversas com humanos em aplicativos de bate-papo. Os chatbots são populares em uma ampla variedade de áreas comerciais, incluindo RH, marketing e vendas, bancos e saúde, bem como em áreas pessoais e não comerciais, como conversa fiada. Muitas empresas comerciais, como a Sephora (a Sephora possui dois chatbots – um chatbot de maquiador virtual na plataforma de mensagens do Facebook e um chatbot de atendimento ao cliente novamente no Facebook Messenger), IKEA (a IKEA tem um chatbot de atendimento ao cliente chamado Anna), AccuWeather e muitos mais, atendimento ao cliente próprio e chatbots de perguntas frequentes.\n",
    "\n",
    "Os serviços de mensagens instantâneas, como o Facebook Messenger e o Telegram, fornecem interfaces para os desenvolvedores conectarem seus bots. Essas plataformas também fornecem diretrizes detalhadas para desenvolvedores, como a documentação da API do Facebook Messenger: (https://developers.facebook.com/docs/messenger-platform/getting-start/quick-start/) ou a documentação da API do bot do Telegram: (https://core.telegram.org/bots).\n",
    "\n",
    "Um **assistente virtual** também é um agente de software que executa algumas tarefas mediante solicitação ou pergunta do usuário. Um exemplo bem conhecido é o **Amazon Alexa**. Alexa é um assistente virtual baseado em voz e pode executar muitas tarefas, incluindo tocar música, definir alarmes, ler audiolivros, reproduzir podcasts e fornecer informações em tempo real sobre clima, trânsito, esportes e assim por diante. O Alexa Home pode controlar dispositivos domésticos inteligentes conectados e executar uma variedade de tarefas, incluindo acender e apagar as luzes, controlar a porta da garagem e assim por diante.\n",
    "\n",
    "Outros exemplos conhecidos são Google Assistant e a Siri. A Siri está integrada em vários produtos da Apple, incluindo iPhone, iPad, iPod e macOS. No iPhone, a Siri pode fazer chamadas, atender chamadas e enviar e receber mensagens de texto, bem como mensagens do WhatsApp. O Google Assistant também pode executar uma ampla variedade de tarefas, como fornecer informações de voo, clima e tráfego em tempo real; enviar e receber mensagens de texto; configuração de alarmes; fornecimento de informações sobre a bateria do dispositivo; verificar sua caixa de entrada de e-mail; integração com dispositivos domésticos inteligentes; e assim por diante. O Google Assistant está disponível no Google Maps, na Pesquisa Google e em aplicativos autônomos para Android e iOS.\n",
    "\n",
    "Aqui está uma lista dos assistentes virtuais mais populares e conhecidos para lhe dar mais algumas idéias do que está por aí:\n",
    "* Amazon Alexa\n",
    "* AllGenie do Alibaba Group\n",
    "* Bixby da Samsung\n",
    "* Celia da Huawei\n",
    "* Duer do Baidu\n",
    "* Google Assistant\n",
    "* Microsoft Cortana\n",
    "* Siri da Apple\n",
    "* Xiaowei da Tencent\n",
    "\n",
    "Todos esses assistentes virtuais são baseados em voz e geralmente são invocados com uma **palavra de ativação**. Uma palavra de ativação é uma palavra ou frase especial usada para ativar um assistente de voz. Alguns exemplos são *Hey Alexa*, *Hey Google* e *Hey Siri*, que são as palavras de ativação do Amazon Alexa, Google Assistant e Siri, respectivamente.\n",
    "\n",
    "Agora vamos aos detalhes técnicos. Quais são os componentes de NLP desses produtos? Vejamos esses componentes da NLP em detalhes.\n",
    "\n",
    "### Componentes de NLP de produtos de IA conversacional\n",
    "Um produto típico de IA conversacional baseado em voz consiste nos seguintes componentes:\n",
    "* **Componente de fala para texto**: converte a fala do usuário em texto. A entrada para este componente é um arquivo WAV/mp3 e a saída é um arquivo de texto contendo o enunciado do usuário como texto.\n",
    "* **Componente NLU Conversacional**: Este componente realiza reconhecimento de intenção e extração de entidade no texto do enunciado do usuário. A saída é a intenção do usuário e uma lista de entidades. A resolução de referências no enunciado atual para os enunciados anteriores é feita neste componente (consulte a seção Resolução de anáfora).\n",
    "* **Gerenciador de diálogo**: Mantém a memória da conversa para fazer um bate-papo significativo e coerente. Você pode pensar nesse componente como a memória de diálogo, pois esse componente geralmente mantém um **estado de diálogo**. O estado do diálogo é o estado da conversa: as entidades que apareceram até agora, as intenções que apareceram até agora e assim por diante. A entrada para este componente é o estado de diálogo anterior e o usuário atual analisado com intenção e entidades. A saída deste componente é o novo estado de diálogo.\n",
    "* **Gerador de respostas**: Dadas todas as entradas das etapas anteriores, gera a resposta do sistema ao enunciado do usuário.\n",
    "* **Text-to-speech**: Este componente gera um arquivo de fala (WAV ou mp3) a partir da resposta do sistema.\n",
    "\n",
    "Cada um dos componentes é treinado e avaliado separadamente. Por exemplo, o componente de fala para texto é treinado em um corpus de fala anotado (o treinamento é feito em arquivos de fala e as transcrições correspondentes). O componente NLU é treinado na intenção e em uma entidade rotulada como corpus. Neste capítulo, vamos nos concentrar nas tarefas do componente NLU. Para produtos baseados em texto, o primeiro e os últimos componentes não são necessários e são substituídos pela integração do cliente de e-mail ou chat.\n",
    "\n",
    "Há outro paradigma que é chamado de **compreensão da linguagem falada de ponta a ponta (SLU)**. Nas arquiteturas SLU, o sistema é treinado de ponta a ponta, o que significa que a entrada do sistema é um arquivo de fala e a saída é a resposta do sistema. Cada abordagem tem prós e contras."
   ],
   "metadata": {
    "collapsed": false
   }
  },
  {
   "cell_type": "markdown",
   "source": [
    "Como vemos nos exemplos anteriores, a IA conversacional tornou-se um tema quente recentemente. Como profissional de NLP, é bem provável que você trabalhe para um produto de conversação ou trabalhe em uma área relacionada, como reconhecimento de fala, conversão de texto em fala ou resposta a perguntas. As técnicas apresentadas neste capítulo, como reconhecimento de intenção, extração de entidade e resolução de anáfora, também são aplicáveis a um amplo conjunto de problemas de NLU. Vamos mergulhar nas seções técnicas. Começaremos explorando o conjunto de dados que usaremos ao longo deste capítulo.\n",
    "\n",
    "### Conhecendo o conjunto de dados\n",
    "Nos Capítulos 6, 7, 8 e 9, trabalhamos em conjuntos de dados bem conhecidos do mundo real para fins de classificação de texto e extração de entidades. Nestes capítulos, sempre exploramos nosso conjunto de dados como a primeira tarefa. O ponto principal da exploração de dados é entender a natureza do texto do conjunto de dados para desenvolver estratégias em nossos algoritmos que possam lidar com esse conjunto de dados. Se nos lembrarmos do Capítulo 6, Juntando tudo: análise semântica com espaço, os pontos principais que devemos observar durante nossa exploração são os seguintes:\n",
    "* Que tipo de enunciados existem? Os enunciados são textos curtos ou frases completas ou parágrafos ou documentos longos? Qual é a duração média do enunciado?\n",
    "* Que tipo de entidades o corpus inclui? Nomes de pessoas, nomes de organizações, localizações geográficas, nomes de ruas? Quais queremos extrair?\n",
    "* Como a pontuação é usada? O texto está pontuado corretamente ou nenhuma pontuação é usada?\n",
    "* Como as regras gramaticais são seguidas? A capitalização está correta e os usuários seguiram as regras gramaticais? Existem palavras incorretas?\n",
    "\n",
    "Os conjuntos de dados anteriores que usamos consistiam em pares (**text**, **class_label**) a serem usados em tarefas de classificação de texto ou (**text**, **list_of_entities**) pares a serem usados em tarefas de extração de entidade. Neste capítulo, abordaremos uma tarefa muito mais complicada, o design do chatbot. Assim, o conjunto de dados será mais estruturado e mais complicado.\n",
    "\n",
    "Os conjuntos de dados de design do chatbot geralmente estão no formato JSON para manter a estrutura do conjunto de dados. Aqui, estrutura significa o seguinte:\n",
    "* Manter a ordem dos enunciados do usuário e do sistema\n",
    "* Marcar slots dos enunciados do usuário\n",
    "* Rotular a intenção dos enunciados do usuário\n",
    "\n",
    "Ao longo deste capítulo, usaremos o conjunto de dados **The Schema-Guided Dialogue (SGD)** do Google Research (https: //github.com/google-research-datasets/dstc8-schema-guided-dialogue). Esse conjunto de dados consiste em interações anotadas do assistente virtual do usuário. O conjunto de dados original contém mais de 20.000 segmentos de diálogo em diversas áreas, incluindo reservas de restaurantes, reservas de filmes, consultas meteorológicas e reservas de passagens. Os diálogos incluem enunciados do usuário e do assistente virtual turno a turno. Neste capítulo, não usaremos todo esse enorme conjunto de dados; em vez disso, usaremos um subconjunto sobre reservas em restaurantes.\n",
    "\n",
    "Vamos começar com o download do conjunto de dados. Você pode baixar o conjunto de dados do repositório GitHub em https://github.com/PacktPublishing/Mastering-spaCy/blob/main/Chapter10/data/restaurants.json. Alternativamente, você pode escrever o seguinte código:\n",
    "\n",
    "`$ wget https://github.com/PacktPublishing/Mastering-spaCy/blob/main/Chapter10/data/restaurants.json`\n",
    "\n",
    "~~~python\n",
    "{\n",
    "\"dialogue_id\": \"1_00000\",\n",
    "\"turns\": [\n",
    "{\n",
    "\"speaker\": \"USER\",\n",
    "\"utterance\": \"I am feeling hungry so I would like to find a\n",
    "place to eat.\",\n",
    "\"slots\": [],\n",
    "\"intent\": \"FindRestaurants\"\n",
    "},\n",
    "{\n",
    "\"speaker\": \"SYSTEM\",\n",
    "\"utterance\": \"Do you have a specific which you want the\n",
    "eating place to be located at?\",\n",
    "\"slots\": []\n",
    "}\n",
    "~~~\n",
    "Em primeiro lugar, o conjunto de dados consiste em segmentos de diálogo e cada segmento de diálogo tem uma instância **dialogue_id**. Cada segmento de diálogo é uma lista ordenada de turnos e cada turno pertence ao usuário ou ao sistema. Um **segmento de diálogo** contém vários turnos; aqui, o campo de **turnos** é uma lista dos turnos do usuário/sistema. Cada elemento da lista de **turnos** é um turno. Um turno consiste em um falante (usuário ou sistema), o enunciado do locutor, uma lista de slots e uma intenção para os enunciados do usuário.\n",
    "\n",
    "Aqui estão alguns exemplos de declarações de usuários do conjunto de dados:\n",
    "~~~python\n",
    "Hi. I'd like to find a place to eat.\n",
    "I want some ramen, I'm really craving it. Can you find me an afforadable place in Morgan Hill?\n",
    "I would like for it to be in San Jose.\n",
    "Yes, please make a reservation for me.\n",
    "No, Thanks\n",
    "Hi i need a help, i am very hungry, I am looking for a restaurant\n",
    "Yes, on the 7th for four people.\n",
    "No. Can you change it to 1 pm on the 9th?\n",
    "Yes. What is the phone number? Can I buy alcohol there?\n",
    "~~~"
   ],
   "metadata": {
    "collapsed": false
   }
  },
  {
   "cell_type": "markdown",
   "source": [
    "Como vemos nesses exemplos de enunciados, letras maiúsculas e pontuação são usadas nos enunciados do usuário. Os usuários podem cometer erros de digitação, como a palavra **afforadable** na segunda frase. Existem alguns erros gramaticais também, como o uso errado de uma letra maiúscula na palavra **Thanks** na quinta frase. Outro erro de capitalização ocorre na sexta frase, onde o pronome *I* é escrito como **i** duas vezes.\n",
    "\n",
    "Além disso, um enunciado pode conter várias frases. O primeiro enunciado começa com uma frase de saudação e as duas últimas frases começam com uma frase de resposta afirmativa ou negativa cada. A quarta frase também começa com um **Yes**, mas não como uma frase independente; em vez disso, é separado da segunda frase com uma vírgula.\n",
    "\n",
    "O reconhecimento de intenção para enunciados de várias frases é um ponto ao qual precisamos prestar atenção em geral – esses tipos de enunciados podem conter vários intentos. Além disso, a geração de respostas para enunciados com várias frases é um pouco complicada; às vezes precisamos gerar apenas uma resposta (como para a segunda frase do código anterior) ou às vezes precisamos gerar uma resposta para cada frase do usuário (como para a última frase do código anterior).\n",
    "\n",
    "Este é um conjunto de dados para reservas de restaurantes, então, naturalmente, inclui alguns slots nos enunciados do usuário, como local, culinária, hora, data, número de pessoas e assim por diante. Nosso conjunto de dados inclui os seguintes slots:"
   ],
   "metadata": {
    "collapsed": false
   }
  },
  {
   "cell_type": "markdown",
   "source": [
    "~~~python\n",
    "city\n",
    "cuisine\n",
    "date\n",
    "phone_number\n",
    "restaurant_name\n",
    "street_address\n",
    "time\n",
    "~~~\n",
    "Aqui estão algumas frases de exemplo com os tipos de slot anteriores e seus valores:\n",
    "\n",
    "~~~python\n",
    "Find me Ethiopian/cuisine cuisine in Berkeley/city.\n",
    "The phone number is 707-421-0835/phone_number. Your reservation is confirmed.\n",
    "No, change the time to 7 pm/time and for one person only.\n",
    "No, change it on next friday/date.\n",
    "~~~\n",
    "Agora, chegamos aos rótulos de classe para o reconhecimento de intenção e a distribuição desses rótulos de classe. Aqui está a distribuição de rótulos de classe:\n",
    "\n",
    "~~~python\n",
    "552 FindRestaurants\n",
    "625 ReserveRestaurant\n",
    "56 NONE\n",
    "~~~\n",
    "\n",
    "**NONE** é um rótulo de classe especial para enunciados que indicam o fim de uma conversa ou apenas um agradecimento. Essa classe de enunciados não está relacionada à reserva de restaurantes em geral. Os enunciados que pretendem listar restaurantes e obter algumas informações são rotulados com o rótulo de classe **FindRestaurants**, e os enunciados que incluem a intenção de fazer uma reserva são rotulados com **ReserveRestaurants**. Vejamos alguns exemplos de enunciados de cada classe:\n",
    "\n",
    "~~~python\n",
    "No, Thanks NONE\n",
    "No, thank you very much. NONE\n",
    "Nothing much. I'm good. NONE\n",
    "I am feeling hungry so I would like to find a place to eat. FindRestaurants\n",
    "Hi i need a help, i am very hungry, I am looking for a restaurant FindRestaurants\n",
    "Ok, What is the address? How pricey are they? FindRestaurants\n",
    "Please can you make the reservation ReserveRestaurant\n",
    "That's good. Do they serve liquor and what is there number? ReserveRestaurant\n",
    "Thank you so much for setting that up. ReserveRestaurant\n",
    "~~~\n",
    "Observamos que as frases de acompanhamento, como os enunciados 6, 8 e 9, são marcadas com as intenções **FindRestaurants** e **ReserveRestaurant**. Esses enunciados não contêm as intenções de encontrar/reservar diretamente, mas continuam o diálogo sobre encontrar/reservar um restaurante e ainda fazem consultas sobre o restaurante/reserva. Assim, embora não haja ações explícitas de encontrar/reservar expressas nesses enunciados, ainda assim as intenções são encontrar/reservar um restaurante.\n",
    "\n",
    "É isso – coletamos informações suficientes sobre nosso conjunto de dados usando o trabalho preliminar desta seção. Com esses insights, estamos prontos para construir nosso pipeline de NLU. Começaremos extraindo as entidades de enunciado do usuário.\n",
    "\n",
    "## Extração de entidade\n",
    "Nesta seção, implementaremos a primeira etapa do nosso pipeline NLU do chatbot e extrairemos entidades dos enunciados do conjunto de dados. A seguir estão as entidades marcadas em nosso conjunto de dados:"
   ],
   "metadata": {
    "collapsed": false
   }
  },
  {
   "cell_type": "markdown",
   "source": [
    "~~~python\n",
    "city\n",
    "date\n",
    "time\n",
    "phone_number\n",
    "cuisine\n",
    "restaurant_name\n",
    "street_address\n",
    "~~~\n",
    "Para extrair as entidades, usaremos o modelo spaCy NER e a classe spaCy **Matcher**. Vamos começar extraindo as entidades **city**.\n",
    "\n",
    "### Extraindo entidades da cidade\n",
    "Primeiro vamos extrair as entidades **city**. Começaremos lembrando algumas informações sobre o modelo spaCy NER e os rótulos de entidade do Capítulo 3, Recursos linguísticos e Capítulo 6, Juntando tudo: análise semântica com spaCy:\n",
    "* Primeiro, lembramos que o rótulo de entidade nomeado spaCy para cidades e países é **GPE**. Vamos pedir ao spaCy para explicar a que rótulo **GPE** corresponde mais uma vez:"
   ],
   "metadata": {
    "collapsed": false
   }
  },
  {
   "cell_type": "code",
   "execution_count": 28,
   "outputs": [
    {
     "data": {
      "text/plain": "'Countries, cities, states'"
     },
     "execution_count": 28,
     "metadata": {},
     "output_type": "execute_result"
    }
   ],
   "source": [
    "import spacy\n",
    "nlp = spacy.load('en_core_web_md')\n",
    "spacy.explain('GPE')"
   ],
   "metadata": {
    "collapsed": false
   }
  },
  {
   "cell_type": "markdown",
   "source": [
    "* Em segundo lugar, lembramos também que podemos acessar entidades de um objeto **Doc** através da propriedade **ents**. Podemos encontrar todas as entidades em um enunciado que são rotuladas pelo modelo spaCy NER da seguinte forma:"
   ],
   "metadata": {
    "collapsed": false
   }
  },
  {
   "cell_type": "code",
   "execution_count": 29,
   "outputs": [
    {
     "data": {
      "text/plain": "(2, 11:30 am, Bird, Palo Alto, today)"
     },
     "execution_count": 29,
     "metadata": {},
     "output_type": "execute_result"
    }
   ],
   "source": [
    "import spacy\n",
    "nlp = spacy.load(\"en_core_web_md\")\n",
    "doc = nlp(\"Can you please confirm that you want to book a table for 2 at 11:30 am at the Bird restaurant in Palo Alto for today\")\n",
    "doc.ents"
   ],
   "metadata": {
    "collapsed": false
   }
  },
  {
   "cell_type": "code",
   "execution_count": 30,
   "outputs": [
    {
     "name": "stdout",
     "output_type": "stream",
     "text": [
      "ENTIDADE: 2 - RÓTULO DA ENTIDADE:  CARDINAL\n",
      "ENTIDADE: 11:30 am - RÓTULO DA ENTIDADE:  TIME\n",
      "ENTIDADE: Bird - RÓTULO DA ENTIDADE:  ORG\n",
      "ENTIDADE: Palo Alto - RÓTULO DA ENTIDADE:  GPE\n",
      "ENTIDADE: today - RÓTULO DA ENTIDADE:  DATE\n"
     ]
    }
   ],
   "source": [
    "for ent in doc.ents:\n",
    "    print(f\"ENTIDADE: {ent.text} - RÓTULO DA ENTIDADE:  {ent.label_}\")"
   ],
   "metadata": {
    "collapsed": false
   }
  },
  {
   "cell_type": "markdown",
   "source": [
    "Neste segmento de código, listamos todas as entidades nomeadas desse enunciado chamando **doc.ents**. Em seguida, examinamos os rótulos de entidade chamando **ent.label_**. Examinando a saída, vemos que este enunciado contém cinco entidades – uma entidade de número **CARDINAL** (**2**), uma entidade **TIME** (**11:30 am**), uma entidade **ORG** (**Bird**, que pode ser um rótulo ideal para um restaurante), uma entidade **CITY** (**Palo Alto**) e uma entidade **DATE** (**today**). A entidade do tipo **GPE** é o que estamos procurando; **Palo Alto** é uma cidade nos EUA e, portanto, é rotulada pelo modelo spaCy NER como **GPE**. A partir da saída deste script, podemos ver que o modelo spaCy NER funciona muito bem neste corpus para entidades **GPE**. Não precisamos treinar o modelo spaCy NER com nossos dados personalizados. Extraímos entidades da cidade, e nosso chatbot sabe em qual cidade procurar um restaurante."
   ],
   "metadata": {
    "collapsed": false
   }
  },
  {
   "cell_type": "code",
   "execution_count": 31,
   "outputs": [
    {
     "name": "stdout",
     "output_type": "stream",
     "text": [
      "San Jose \t I would like for it to be in San Jose.\n",
      "San Jose \t I see that at 71 Saint Peter there is a good restaurant which is in San Jose.\n",
      "San Jose \t How would you like Bazille restaurant which is situated in San Jose.\n",
      "Palo Alto \t Do you have another restaurant matching my needs? For example a restaurant which is economical and is located in Palo Alto.\n",
      "Palo Alto \t I see that 7 restaurants suit to what you requested. Bird Dog seems as a good restaurant and is located in Palo Alto.\n",
      "Palo Alto \t Can you please confirm that you want to book a table for 2 at 11:30 am at the Bird Dog restaurant in Palo Alto for today.\n",
      "milpitas \t Some Punjabi kind of foods in milpitas\n",
      "Milpitas \t I found a good restaurant in Milpitas, The restaurant name is Anjappar Chettinad Restaurant\n",
      "Milpitas \t I found another restaurant for you, Aria Dining & Banquets Fine Indian Cuisine Restaurant at Milpitas\n",
      "Milpitas \t I found 2 Restaurants, Olive garden Italian Restaurant at Milpitas\n",
      "Milpitas \t Please confirm the following details: Booking a table at Olive Garden Italian Restaurant at Milpitas on March 11th reservation time is 1:30 pm, The reservation is for 2 people\n",
      "Berkeley \t Find me Ethiopian cuisine in Berkeley.\n",
      "Berkeley \t Of the 4 Ethiopian restaurants in Berkeley, Addis Restaurant is a good one.\n",
      "Addis Restaurant \t Of the 4 Ethiopian restaurants in Berkeley, Addis Restaurant is a good one.\n",
      "Berkeley \t Please confirm that you want to reserve a table for 2 at the Addis Restaurant in Berkeley for tomorrow at 5:15 pm.\n",
      "Berkeley \t Okay.Please confirm that you want to reserve a table for 2 at the Addis Restaurant in Berkeley for tomorrow at 5:30 pm.\n",
      "Palo Alto \t Some Freshwater fish kind of food in Palo Alto would be perfect.\n",
      "Palo Alto \t I found 4 restaurants. Odori Japanese Cuisine is a nice restaurant in Palo Alto.\n",
      "Palo Alto \t P.f. Chang's is another nice restaurant in Palo Alto.\n",
      "Palo Alto \t Please confirm: Booking a table for 1 at P.f. Chang's at 6:30 pm today in Palo Alto.\n",
      "San Mateo \t Lobster sounds great. Please search in San Mateo.\n",
      "San Mateo \t I have found 9 restaurants. Andes Cafe San Mateo is a great restaurant in San Mateo.\n",
      "San Mateo \t I have found 9 restaurants. Andes Cafe San Mateo is a great restaurant in San Mateo.\n",
      "San Mateo \t Fuji Sukiyaki is another great choice in San Mateo.\n",
      "San Mateo \t Golden Wok would be a great choice in San Mateo.\n",
      "San Mateo \t Please confirm the following: You want to eat at Golden Wok in San Mateo on March 14th starting at 5:30 pm. The reservation would be for 2 people.\n",
      "San Bruno \t I want to eat in San Bruno\n",
      "San Bruno \t I have 3 restaurants, Cabalen is a nice one in San Bruno.\n",
      "San Bruno \t What about Isla Restaurant in San Bruno?\n",
      "San Mateo Avenue \t It is moderate pricing and they are at 448 San Mateo Avenue\n",
      "San Bruno \t Please confirm: Booking a table for 2 at Isla Restaurant in San Bruno. It is on March 12th at 6 pm.\n",
      "San Jose \t The city is San Jose.\n",
      "San Jose \t I have one in San Jose called Ariake.\n",
      "San Jose \t Please confirm Ariake in San Jose for 6 pm on March 10th for 2.\n",
      "San Jose \t My family and I are in San Jose and the perfect place would have pizza and pasta. We don't have a price preference.\n",
      "San Jose \t San Jose has a restaurant called Al Castello Ristorante that is nice.\n",
      "San Jose \t There is also a nice restaurant called Angelo's Italian Restaurant in San Jose.\n",
      "San Jose \t There is another nice restaurant called Antonella's Ristorante in San Jose.\n",
      "San Jose \t I will be booking a table at Antonella's Ristorante in San Jose. The reservation will be set at 12:30 pm for today. And it is for 2 people is this correct.\n",
      "Pleasanton \t Can you find me something economical to eat in Pleasanton.\n",
      "Pleasanton \t Found 5 restaurants for you out of which De La Torre's Trattoria seems a great from Pleasanton.\n",
      "Pleasanton \t Another good restaurant in Pleasanton in Gay 90's Pizza Co.\n",
      "Pleasanton \t Please confirm that you want to make a reservation at Gay 90's Pizza Co. which is located in Pleasanton for 2 people. The reservation is for today at 1:30 pm.\n",
      "Fairfield \t I want some breakfast in Fairfield\n",
      "fairfield \t I recommend Mimi's cafe in fairfield\n",
      "Fairfield \t Please confirm your booking at mimi's cafe in Fairfield for 1 people today at 4:45 pm\n",
      "Fairfield \t I'm starving! Can you help me find a restaurant that serves Breakfast in Fairfield?\n",
      "Fairfield \t There is 1 restaurant that meets your needs. Mimi's Cafe in Fairfield serves breakfast.\n",
      "Fairfield \t You'd like a table for 2 today at Mimi's Cafe in Fairfield at 5:30 pm. Is this correct?\n",
      "Cupertino \t Cupertino, please.\n",
      "Cupertino \t I've found 2 Malaysian restaurants in Cupertino. Merlion Restaurant & Bar is one.\n",
      "Cupertino \t Rasa Sayang is also is Cupertino.\n",
      "Cupertino \t So you'd like a reservation for 2 at 5:15 pm today, at Rasa Sayang in Cupertino?\n",
      "SF \t I would prefer a restaurant which serves up Cambodian food in SF.\n",
      "Anh Hong \t I have managed to find a nice restaurant called Anh Hong which is located in San Francisco.\n",
      "San Francisco \t I have managed to find a nice restaurant called Anh Hong which is located in San Francisco.\n",
      "San Francisco \t Yes there is, Aux Delices is also a nice restaurant located in San Francisco.\n",
      "San Francisco \t Please confirm your reservation for 2 people at Aux Delices in San Francisco at 7:15 pm today.\n",
      "Fremont City \t Asian kind of food will be good for me and please search it in Fremont City.\n",
      "Fremont \t Found 3 results, Asian pearl Seafood Restaurant is the best one in Fremont city, hope you like it.\n",
      "Fremont \t Please confirm to book a table for 2 persons in Asian Pearl Seafood REstaurant in Fremont at 1:30 pm on today.\n",
      "Albany \t I want to find a restaurant in Albany.\n",
      "Albany \t I have 2 options. Cafe Eugene in Albany is a good choice.\n",
      "Albany \t Juanita & Maude in Albany is great.\n",
      "Albany \t Making a dinner reservation for 2 people at Juanita & Maude on March 13th at 5 pm in Albany. Is that Correct?\n",
      "San Francisco \t Search San Francisco for Asian Fusion food\n",
      "San Francisco \t Sure, I found 8 Immortals Restaurant in San Francisco\n",
      "San Francisco \t Okay, got it. I will book a table at 8 Immortals Restaurant in San Francisco for 5:30 pm today, for 6 people.\n",
      "San Francisco \t Certainly, please confirm: Reservation at 8 Immortals Restaurant in San Francisco is for 12 pm today for 4 people.\n",
      "Sushi \t Sure. What kind of food do you want? You can ask for Mexican, American, Sushi, or anything else. And also, what city should I search in?\n",
      "Oakland \t Oh, I'm in Oakland. Please find an American restaurant.\n",
      "Oakland \t I'd recommend Chop Bar in Oakland.\n",
      "Oakland \t Sure, please confirm that you'd like to book a table for 2 at Chop Bar in Oakland from 6 pm today.\n",
      "Oakland \t In Oakland.\n",
      "Oakland \t I found 8 places. A16 is a nice restaurant in Oakland.\n",
      "Oakland \t Just to confirm, you want a table today at A16 in Oakland for 2 people at 5:30 pm?\n",
      "Concord \t Asian Fusion in Concord.\n",
      "Concord \t Ozora Sushi is a restaurant in Concord.\n",
      "Concord \t Ozora Sushi in Concord today for 2 people at 5 pm.\n",
      "Rohnert Park \t Are there any Mexican places in Rohnert Park?\n",
      "Chili \t Chili's Grill & Bar is in Rohnert Park.\n",
      "Rohnert Park \t Chili's Grill & Bar is in Rohnert Park.\n",
      "Kyoto \t 1 restaurant named Kyoto fits that description. It's in Rohnert Park as well.\n",
      "Rohnert Park \t 1 restaurant named Kyoto fits that description. It's in Rohnert Park as well.\n",
      "Rohnert Park \t Just to confirm: I am booking a table for 3 today at 11:15 am at the Rohnert Park location of Kyoto.\n",
      "Kyoto \t Just to confirm: I am booking a table for 3 today at 11:15 am at the Rohnert Park location of Kyoto.\n",
      "San Fran \t I would like something that I can pick-up in San Fran at any price range.\n",
      "San Francisco \t There is a restaurant called Golden Gate Indian Cuisine & Pizza that is located in San Francisco.\n",
      "San Francisco \t I was able to locate 1 other nice restaurant called Hunan Empire Restaurant located in San Francisco.\n",
      "San Francisco \t Great, I have a dining reservation for 2 people, located at the Hunan Empire Restaurant in San Francisco, on March 13th at 12 pm. Does that sound correct?\n",
      "Redwood City \t I prefer Redwood City.\n",
      "Redwood City \t Redwood City has 1 Spanish restaurant, Estampas Peruanas Restaurant.\n",
      "Millbrae \t I am looking for restaurants located in Millbrae.\n",
      "Millbrae \t I found 1 result, Ipoh Garden Malaysian Cuisine located in Millbrae.\n",
      "Millbrae \t Okay. I have an 11 AM reservation for 2 people today, at Ipoh Garden Malaysian Cuisine in Millbrae. Is that correct?\n",
      "Lovina \t I've found 1 restaurant that could work. It's Lovina in Calistoga.\n",
      "Lovina \t Okay, so it's a reservation at Lovina in Calistoga at 12:30 pm today for 2 people?\n",
      "Burlingame \t I want to eat in Burlingame.\n",
      "Burlingame \t There are 2 possible restaurants. One of them is Grand Harbor located in Burlingame.\n",
      "Burlingame \t Please confirm: Booking a table for 2 people at 12:45 pm for today at the Grand Harbor in Burlingame.\n",
      "Rohnert Park \t I want something in Rohnert Park\n",
      "Rohnert Park \t There is a lovely restaurant in Rohnert Park called Hana\n",
      "Pleasant Hill \t Is there anything else? I want to go somewhere close to Pleasant Hill.\n",
      "Pleasant Hill \t There are 2 options available in Pleasant Hill. I would like to recommend Matsu Sushi Japanese Restaurant.\n",
      "Pleasant Hill \t I would like to confirm the following information: reservations for 1 for 8 pm today at the Matsu Sushi Japanese Restaurant at Pleasant Hill.\n",
      "Pleasant Hill \t I would like to confirm the following information: a table for 2 today at 8 pm at the Matsu Sushi Japanese Restaurant in Pleasant Hill.\n",
      "San Ramon \t I'd like some soup, and I'm looking in San Ramon.\n",
      "San Ramon \t Noodles And Company is a nice resturant in San Ramon.\n",
      "San Ramon \t I have booked a table at Noodles And Company in San Ramon at 7:30 pm today for 2 people. Is that correct?\n",
      "Cupertino \t Search in Cupertino for Dumplings.\n",
      "Cupertino \t Cupertino has a dumpling restaurant called A Plus Cafe.\n",
      "Santa Clara \t Can you look for another place to eat in Santa Clara?\n",
      "Santa Clara \t There's a nice place in Santa Clara called Chef Ming's.\n",
      "China \t How about China Stix in Santa Clara?\n",
      "Santa Clara \t How about China Stix in Santa Clara?\n",
      "China \t Can you confirm the details for me? You're booking a table for 2 next Thursday at 7:30 pm at China Stix in Santa Clara.\n",
      "Santa Clara \t Can you confirm the details for me? You're booking a table for 2 next Thursday at 7:30 pm at China Stix in Santa Clara.\n",
      "San Mateo \t I would love to taste some Seafood in San Mateo. Please find some good hotels.\n",
      "San Mateo \t Please give me a moment. There are 9 restaurants with good rating and the top among them is Andes Cafe San Mateo located in San Mateo. Would you prefer to have your lunch here?\n",
      "San Mateo \t Please give me a moment. There are 9 restaurants with good rating and the top among them is Andes Cafe San Mateo located in San Mateo. Would you prefer to have your lunch here?\n",
      "San Mateo \t Okay! Confirm me the details that you wish to book a table at Andes Cafe San Mateo in San Mateo at 1:15 pm by today and the reservation would be for 2 persons, right?\n",
      "San Mateo \t Okay! Confirm me the details that you wish to book a table at Andes Cafe San Mateo in San Mateo at 1:15 pm by today and the reservation would be for 2 persons, right?\n",
      "Dublin \t I'm looking for somewhere in Dublin to have a meal and a drink.\n",
      "Dublin \t I found 2 restaurants. One is the Black Angus Steakhouse in Dublin.\n",
      "Dublin \t Hot Crab is also located in Dublin.\n",
      "Dublin \t Okay. Please confirm that you'd like a booking for 3 at Hot Crab in Dublin today at 5 pm.\n",
      "Napa \t I found 1 Restaurant named as Bistro Don Giovanni which is located in Napa\n",
      "Milpitas \t Milpitas.\n",
      "Milpitas \t There is a Cambodian restaurant in Milpitas called Anh Hong.\n",
      "Anh Hong \t There is a Cambodian restaurant in Milpitas called Anh Hong.\n",
      "Anh Hong \t Sure. A reservation at Anh Hong in Milpitas for 4 at 6:30 pm today. Is that correct?\n",
      "Milpitas \t Sure. A reservation at Anh Hong in Milpitas for 4 at 6:30 pm today. Is that correct?\n",
      "Anh Hong \t Perfect. What are the prices at Anh Hong like?\n",
      "Martinez \t I'd like to go to a restaurant in Martinez that serves Thai food.\n",
      "Martinez \t Alright, please confirm that you'd like me to book a table for 2 at Lemongrass Bistro in Martinez for today at 7 pm.\n",
      "Pleasanton \t Any place in Pleasanton which serves Ramen kind of food and also alcohol will be ideal.\n",
      "Pleasanton \t There is a nice restaurant called Meiko Sushi in Pleasanton.\n",
      "Pleasanton \t So, a table reservation at Meiko Sushi in Pleasanton will be for 12 pm on the day after tomorrow for 6 people. Please confirm the aforementioned details.\n",
      "Pleasanton \t I would like to it in a place in Pleasanton.\n",
      "Pleasanton \t I have for you 3 option .One is a nice restaurant located in Pleasanton named Andy & Yu's.\n",
      "Pleasanton \t Book a table at Andy & Yu's in Pleasanton at 6:45 pm today for 2 person is correct?\n",
      "West Hacienda Avenue \t The address is 331 West Hacienda Avenue and they don't serve alcohol.\n",
      "Sushi \t I'd like another kind of restaurant. I'd like Sushi.\n",
      "Palo Alto \t Palo Alto.\n",
      "Pampas \t I found Pampas in Palo Alto.\n",
      "Palo Alto \t I found Pampas in Palo Alto.\n",
      "Pampas \t Please confirm a table at Pampas in Palo Alto at 5:15 pm for 2 people today.\n",
      "Palo Alto \t Please confirm a table at Pampas in Palo Alto at 5:15 pm for 2 people today.\n",
      "Pampas \t Okay. A table at Pampas at 6:15 pm.\n",
      "South Bascom \t 1875 South Bascom Avenue is their street address.\n",
      "Milpitas \t I want to go to Milpitas. Spicy Indian food sounds perfect.\n",
      "Milpitas \t I found 4 restaurants- how about Anjappar Chettinad Restaurant in Milpitas?\n",
      "Milpitas \t So I'll book a table for 4 at Anjappar Chettinad Restaurant in Milpitas for 1 pm today. Is that okay?\n",
      "Milpitas \t I would like to eat in Milpitas and the restaurant should be in the moderate price range.\n",
      "Milpitas \t There are 2 restaurants in Milpitas I have found. The Olive Garden Italian Restaurant meets your criteria.\n",
      "Milpitas \t The other restaurant in Milpitas is Red Chillies The Malabar Cuisine.\n",
      "Milpitas \t The reservation is for today at Red Chillies The Malabar Cuisine at 11 am in Milpitas. The reservation is for 2 people. Is this correct?\n",
      "Milpitas \t The reservation is in Milpitas on March 14th. Is this correct?\n",
      "Dublin \t Look for a place in Dublin.\n",
      "Dublin \t There are 7 restaurants that could work. There's a nice one called China Paradise Restaurant in Dublin.\n",
      "Dublin \t Your reservation will be for 1 person next Thursday at 1 pm at China Paradise Restaurant in Dublin. Is that correct?\n",
      "China \t So China Paradise Restaurant next Friday, is that right?\n",
      "Petaluma \t I want something with a moderate priced in Petaluma. It also needs to serve alcohol.\n",
      "Petaluma \t I found 1 restaurant, Shree Indian Cuisine. It's a nice restaurant in Petaluma.\n",
      "Petaluma \t Okay, making a reservation for 2 people Shree Indian Cuisine in Petaluma at 11 am today. Is that correct?\n",
      "Petaluma \t Okay, making the reservation for 1 person at Shree Indian Cuisine in Petaluma.\n",
      "San Francisco \t I have to have something in San Francisco.\n",
      "San Francisco \t I have a good option, try 54 Mint Ristorante Italiano in San Francisco.\n",
      "San Francisco \t Let me clarify your plans: You want a table at 54 Mint Ristorante Italiano in San Francisco at 5:15 pm. today for 2?\n",
      "Foster City \t Let's go with Foster City please.\n",
      "Foster City \t One moment. I found a great restaurant called Pastries N Chaat in Foster City.\n",
      "Foster City \t How about, Tabla Indian Restaurant in Foster City?\n",
      "Foster City \t One moment. Please confirm a reservation for 2 people, at Tabla Indian Restaurant in Foster City. At 1:45 pm today. Does this sound right?\n",
      "Mountain View \t Look in Mountain View.\n",
      "Mountain View \t I found 3 restaurants. One of them is China Wok located in Mountain View.\n",
      "Hunan Chili \t Hunan Chili is an inexpensive restaurant in Mountain View.\n",
      "Mountain View \t Hunan Chili is an inexpensive restaurant in Mountain View.\n",
      "Mountain View \t Ok, I will reserve a table for 4 at Hunan Chili in Mountain View. The reservation is today at 6 pm.\n",
      "San Mateo \t Search in San Mateo.\n",
      "San Mateo \t There are 5 restaurants, Gau Poang is a nice restaurant located in San Mateo.\n",
      "SF \t Can you suggest other restaurants in SF?\n",
      "San Francisco \t Alice's restaurant is located in San Francisco.\n",
      "San Francisco \t Bamboo Restaurant is located in San Francisco.\n",
      "San Francisco \t Please confirm you are booking a table for 2 at Bamboo Restaurant, located in San Francisco today at 12 pm.\n",
      "California \t Food kind of California will be perfect in SF.\n",
      "SF \t Food kind of California will be perfect in SF.\n",
      "San Francisco \t There are 10 restaurants, Al's Place is one of the good restaurant in San Francisco.\n",
      "San Francisco \t Alta Msp is one of the good restaurant in San Francisco.\n",
      "San Francisco \t Aq is one of the good restaurant in San Francisco.\n",
      "San Francisco \t Please confirm the details: You want me to make a reservation at Aq in San Francisco for today at 7:30 pm for 2 people.\n",
      "Foster City \t Some Izakaya kind of food good in Foster City\n",
      "Foster City \t The restaurant Tokyo Village Grill & Sushi located in Foster City is a nice one.\n",
      "Foster City \t please give the confirmation details:Booking the table at Tokyo Village Grill & Sushi at Foster City and the reservation is for 2 people at 6:30 pm on next monday\n",
      "San Francisco \t I like Pizza and Pasta kind of food and the place should be in San Francisco.\n",
      "San Francisco \t There are 10 restaurants. One among is 54 Mint Ristorante Italiano which is a nice restaurant located in San Francisco\n",
      "San Francisco \t Ok Please check and verify the following details so that i will confirm. Table has been booked at 54 Mint Ristorante Italiano in the city San Francisco and the reservation time is at 6 pm for 2 people and the date is today.\n",
      "Pleasanton \t Some Punjabi food would be great. Please look in Pleasanton.\n",
      "Pleasanton \t I found 7 restaurants in Pleasanton. The first one is Aappakadai.\n",
      "Pleasanton \t Please confirm the following details: Booking a table for 2 at Aappakadai in Pleasanton for today at 12:15 pm.\n",
      "Sunnyvale \t I'd like pizza and somewhere in Sunnyvale.\n",
      "Sunnyvale \t I found 3 places. Gumba's is a good place in Sunnyvale.\n",
      "Sunnyvale \t Just to confirm, you want a table at Gumba's in Sunnyvale for 2 people today at 7:15 pm?\n",
      "San Fran \t Look in San Fran.\n",
      "San Francisco \t There are 10 restaurants that fit what you're looking for. 1760 is a nice restaurant that's in San Francisco.\n",
      "San Francisco \t Okay, I'll you want a reservation at 1760 in San Francisco for 2 people, today at 4:45 pm, is that correct?\n",
      "San Jose \t Something Southern in the San Jose area would be great.\n",
      "San Jose \t There's a nice restaurant by the name of 71 Saint Peter in San Jose.\n",
      "San Jose \t Hukilau is another nice restaurant in San Jose that meets that criteria.\n",
      "San Jose \t Another nice restaurant in San Jose is Rosie Mccann's Irish Pub & Restaurant.\n",
      "San Jose \t To confirm: You'd like me to make a reservation for today a 11:45 am for 2 guests at Rosie Mccann's Irish Pub & Restaurant in San Jose, correct?\n",
      "Oakland \t I prefer it in Oakland. I am craving Pizza.\n",
      "Oakland \t Your search found 4 restaurants. One is Belotti Ristorante E Bottega which is located in Oakland.\n",
      "Oakland \t Contrasto is a nice restaurant and located in Oakland.\n",
      "Oakland \t Please say yes to confirm the following. Booking a table at Contrasto in Oakland with a reservation at 11:30 am today. The reservation is a party of 2.\n",
      "Oakland \t Please say yes to confirm the following. The city is Oakland, and the reservation is for a party of 4.\n",
      "San Francisco \t Bistro Aix is a good restaurant in San Francisco\n",
      "San Francisco \t Confirm Bistro Aix and the city is San Francisco. Reservation os 1:15 pm and for 2 people today\n",
      "Dublin \t Please look in Dublin, a burger is perfect to have now.\n",
      "Dublin \t I have found 1 restaurant that you might like, maybe you like McDonald's in Dublin?\n",
      "Dublin \t Please do confirm the following details: book seats at McDonald's in Dublin at 7:15 pm for 2 people today.\n",
      "Dublin \t Please do confirm the following details: book seats at McDonald's in Dublin at 7 pm.\n",
      "Dublin \t Please do confirm the following details: book seats at McDonald's in Dublin for 3 people on March 14th.\n",
      "Milpitas \t I would like to stay around Milpitas.\n",
      "Milpitas \t There is a great restaurant called Baja Cactus in Milpitas.\n",
      "Santa Clara \t That's great, are there any other restaurants, maybe in Santa Clara?\n",
      "Santa Clara \t Santa Clara has a nice restaurant named El Amigo Burrito.\n",
      "Santa Clara \t Santa Clara also has a great restaurant called La Paloma.\n",
      "Santa Clara \t Please confirm your reservation. I have booked a table for 2 at La Paloma in Santa Clara at 12:30 pm today. Is that correct?\n",
      "San Francisco \t Do you know of any places to eat in San Francisco?\n",
      "San Francisco \t There's a nice restaurant called 1760 in San Francisco.\n",
      "San Francisco \t There are 10 restaurants that match. There's a nice restaurant called Academy Bar and Kitchen that's in San Francisco.\n",
      "San Francisco \t So you'd like a 12:45 pm reservation today at Academy Bar and Kitchen in San Francisco for 2 people, is that right?\n",
      "Oakland \t In Oakland.\n",
      "Oakland \t I found 7 restaurants matching this query. One is Alamar Kitchen & Bar in Oakland.\n",
      "Oakland \t There's Judoku Sushi in Oakland.\n",
      "Oakland \t I found 4 restaurants to match. One is Lake Chalet in Oakland.\n",
      "Oakland \t Please confirm: Table for 2 at Lake Chalet, 10:30 am today in Oakland.\n",
      "Oakland \t Please confirm: Table for 1 at Lake Chalet, 12:30 pm today in Oakland.\n",
      "Alameda \t Find me a sushi place in Alameda.\n",
      "Alameda \t I have found a restaurant called Angel Fish in Alameda.\n",
      "Alameda \t Please confirm the following: You want a table at Angel Fish in Alameda at 1:15 pm today for 2 people.\n",
      "Millbrae \t I'm in the mood for some Chinese food tonight, preferably in Millbrae.\n",
      "Millbrae \t I managed to find 1 restaurant in Millbrae, it's called Tai Wu Restaurant. I think you'd like it.\n",
      "Millbrae \t So you'd like a table for today at Tai Wu Restaurant for 2 people at 7:30 pm in Millbrae. Is that correct?\n",
      "West Hacienda Avenue \t They don't serve drinks but their address is 331 West Hacienda Avenue.\n",
      "Berkeley \t I want some Noodles, and search in Berkeley.\n",
      "Berkeley \t Upon searching I have found 6 restaurants. There's one called Crave Asia which is pretty nice and situated in Berkeley.\n",
      "Berkeley \t Okay, please confirm the details one more time: Booking a table for 2 people at Crave Asia in Berkeley, the reservation should be for 11:30 AM and the date is today, correct?\n",
      "Petaluma \t I was thinking in Petaluma. Preferably a Pizza place.\n",
      "Petaluma \t I've found 4 in Petaluma, Brixx Pizzeria is a nice restaurant.\n",
      "Petaluma \t Cucina Paradiso is also a nice one in Petaluma.\n",
      "Petaluma \t Risibisi is another nice restaurant in Petaluma.\n",
      "Petaluma \t Please confirm that you are booking a table at risibisi in Petaluma. Your reservation will be at 1:30 pm. Set for today for 2 people.\n",
      "San Fran \t I'm looking for brunch in San Fran.\n",
      "Fillmore \t There is a nice restaurant named 1300 On Fillmore located in San Francisco.\n",
      "San Francisco \t There is a nice restaurant named 1300 On Fillmore located in San Francisco.\n",
      "San Francisco \t There is another nice restaurant named the Absinthe Brasserie & Bar in San Francisco.\n",
      "San Francisco \t Aperto is another nice restaurant in San Francisco.\n",
      "San Francisco \t Please confirm you want me to reserve a table for 2 people at 11 am at Aperto in San Francisco today.\n",
      "Pleasanton \t I need to find somewhere to get a good meal in Pleasanton, can you help?\n",
      "Osaka \t I want Japanese food, my girlfriend is from Osaka, I'm trying to impress her.\n",
      "Pleasanton \t Okay, I found 4 good Japanese places. How about Meiko Sushi in Pleasanton?\n",
      "Pleasanton \t I found 2 affordable places in Pleasanton. How about P.f. Chang's?\n",
      "Pleasanton \t Okay, please confirm that you'd like to book a table for 2 at P.F. Chang's in Pleasanton for 7:45 pm today.\n",
      "Petaluma \t Do you know a place to eat in Petaluma?\n",
      "Petaluma \t In Petaluma there are 4 restaurants. Brixx Pizzeria is a nice one.\n",
      "Petaluma \t You want to make a reservation at 5 pm today for 6 people at Brixx Pizzeria in Petaluma?\n",
      "Pleasanton \t I would prefer to eat at Pleasanton.\n",
      "Pleasanton \t There is a nice restaurant called Meiko Sushi located in Pleasanton.\n",
      "Pleasanton \t Please confirm your reservation for 2 at Meiko Sushi in Pleasanton at 12:30 pm today.\n",
      "Pleasanton \t Sure! Please confirm your reservation for 2 at Meiko Sushi in Pleasanton at 7:15 pm today.\n",
      "Pleasanton \t My apologies, I was not able to make the reservation. Alternatively, would you like a for 2 at Meiko Sushi in Pleasanton at 7:30 pm today instead? They are located at 4301 Valley Avenue B.\n",
      "San Francisco \t I've found 10 possible options - Amber in San Francisco has 4.2 stars.\n",
      "Amber \t To review: You'd like to make an 11 am reservation at Amber restaurant in San Francisco for 2 people, today.\n",
      "San Francisco \t To review: You'd like to make an 11 am reservation at Amber restaurant in San Francisco for 2 people, today.\n",
      "San Jose \t I have a friend visiting from out of town and need to find somewhere good for us to eat. Can you look up restaurants in San Jose?\n",
      "San Jose \t I found 10 possible options in San Jose. How about Ariake?\n",
      "San Jose \t Sure. Just to confirm, you'd like to make a reservation for 2 people at Ariake in San Jose on March 10th at 6:45 pm. Is that right?\n",
      "San Jose \t Sure. Just to confirm, you'd like to make a reservation for 2 people at Ariake in San Jose on March 10th at 1 pm. Is that right?\n",
      "San Francisco \t It will be fine at San Francisco and pizza and pasta will cherish me.\n",
      "San Francisco \t Then 54 Mint Ristorante Italiano in San Francisco will be the right one.\n",
      "San Francisco \t Please confirm, Today at 5:30 pm in San Francisco, table 54 Mint Ristorante Italiano for 2 people.\n",
      "San Francisco \t We are meeting in San Francisco.\n",
      "San Francisco \t There is a nice restaurant in San Francisco called Ala Romana.\n",
      "San Francisco \t Che Fico is another nice restaurant in San Francisco.\n",
      "San Francisco \t There are 3 Mexican restaurants in the area. Cala is a nice one in San Francisco.\n",
      "Cala \t To confirm, the reservation is at Cala in San Francisco at 1 pm next Thursday for 2 people.\n",
      "San Francisco \t To confirm, the reservation is at Cala in San Francisco at 1 pm next Thursday for 2 people.\n",
      "Milpitas \t I want to go out to eat in Milpitas.\n",
      "Milpitas \t I found 2 possibilities. There is an Olive Garden Italian restaurant in Milpitas.\n",
      "Milpitas \t Please confirm the following: You want a table for 3 at Olive Garden Italian Restaurant in Milpitas today at 1 pm?\n",
      "Milpitas \t Please confirm the following details: You want a table for 4 at Olive Garden Italian Restaurant in Milpitas today at 1 pm?\n",
      "San Jose \t If I got any place in San Jose then it will be nice for me.\n",
      "San Jose \t found 1 result, a restaurant in San Jose and its name is Mcdonald's.\n",
      "San Jose \t Please confirm to book a table for 2 persons at Mcdonald's in San Jose at 11:30 am on day after tomorrow.\n",
      "San Jose \t Please confirm to book the table for 1 person in San Jose.\n",
      "Santa Clara \t I'm looking to have Korean Barbeque. I'm looking in Santa Clara.\n",
      "Santa Clara \t There is 1 restaurant that matches that. There's a nice restaurant called Restaurant Chungdam in Santa Clara.\n",
      "Santa Clara \t Great. Please verify that the following is correct: one table to Restaurant Chungdam in Santa Clara at 8 pm today for 2 people.\n",
      "Santa Clara \t Great. Please verify that the following is correct: one table to Restaurant Chungdam in Santa Clara at 7 pm today for 2 people.\n",
      "San Francisco \t I've found 4 potential restaurants for you. How about Izakaya Sushi Ran in San Francisco?\n",
      "San Francisco \t Okay, please confirm: Table for 2 at Izakaya Sushi Ran in San Francisco today at 5:45 pm.\n",
      "Berkeley \t I'd like to eat somewhere in Berkeley.\n",
      "Berkeley \t The B&b Kitchen & Wine Bar is a great restaurant in Berkeley and a local favorite.\n",
      "Berkeley \t I have booked a table for 2 at B&b Kitchen & Wine Bar for today at 1:30 pm in Berkeley. Is this correct?\n",
      "Berkeley \t I have booked a table for 2 at B&b Kitchen & Wine Bar for today at 7 pm in Berkeley. Is this correct?\n",
      "San Mateo \t I want to eat in San Mateo.\n",
      "San Mateo \t There's a nice restaurant in San Mateo called Celia's.\n",
      "San Mateo \t Please confirm: Making a reservation for 2 people at Celia's in San Mateo for today at 11:30 am.\n",
      "San Francisco \t I found 10 restaurants. One of them is Baker Street Bistro in San Francisco.\n",
      "San Francisco \t Blue Mermaid in San Francisco.\n",
      "San Francisco \t Please confirm Blue Mermaid in San Francisco at 5:30 pm for 2 people today.\n",
      "Oakland \t I'd like to get some Middle eastern food in Oakland.\n",
      "Oakland \t There's a good restaurant in Oakland called Dyafa.\n",
      "Oakland \t I found 1 that might work for you. It is called Marhaba Indian & Pakistani Halal Cuisine and it is in Oakland.\n",
      "Oakland \t Okay, so you would like to reserve at table at Marhaba Indian & Pakistani Halal Cuisine in Oakland, for 2 people today at 1:30 pm. Is that correct?\n",
      "California \t Yes they supply alcohol and the address is 1354 California 29.\n",
      "Berkeley \t I will be in Berkeley and am in the mood for some Breakfast type of food.\n",
      "Berkeley \t I found 1 match called the Venus Restaurant in Berkeley.\n",
      "Berkeley \t You would like to book a table for 1 at 12:15 pm today at the Venus Restaurant in Berkeley. Is that correct?\n",
      "Sushi \t I would like a reasonably priced restaurant that serves Sushi in San Rafael.\n",
      "San Rafael \t I would like a reasonably priced restaurant that serves Sushi in San Rafael.\n",
      "San Rafael \t There is a great restaurant called Sushi To Dai For in San Rafael.\n",
      "Sichuan \t I would like the name of another restaurant, one that serves Sichuan food, please.\n",
      "Sichuan \t There is a great restaurant that serves Sichuan cuisine in San Rafael called Yet Wah Restaurant.\n",
      "San Rafael \t There is a great restaurant that serves Sichuan cuisine in San Rafael called Yet Wah Restaurant.\n",
      "San Rafael \t Excellent. Can you make a reservation at Yet Wah Restaurant in San Rafael for 7 pm next Monday for 2 people?\n",
      "Cotati \t Please book me a restaurant in Cotati.\n",
      "Cotati \t There is a restaurant called Mi Pueblo in Cotati that has good tacos.\n",
      "Cotati \t Can you find me another restaurant in Cotati with live music?\n",
      "Cotati \t There's 1 restaurant in Cotati that fits your criteria. It is called Mi Ranchito.\n",
      "Cotati \t Please verify the following details. You would like to reserve a table for 2 today at 6:30 pm at Mi Ranchito in Cotati.\n",
      "San Francisco \t Show me places to eat in San Francisco. I am looking for something afforadable priced.\n",
      "San Francisco \t I found 10 restaurants that serve pizza and pasta. 54 Mint Ristorante Italiano is a nice restaurant located in San Francisco.\n",
      "San Francisco \t Please confirm the following details: You are booking a table at 54 Mint Ristorante Italiano, the city is San Francisco, the reservation is at 5:30 pm, the date is the day after tomorrow, and the reservation is for 4 people.\n",
      "SF \t Somewhere in SF, and I am really craving Thai food at the moment!\n",
      "San Francisco \t I found a bunch of restaurants, there's actually 10 that you might like in San Francisco, one of them being Baan Thai House & Wine Bar\n",
      "San Francisco \t Confirming your 6 pm booking today for 2 people at Baan Thai House & Wine Bar in San Francisco.\n",
      "San Bruno \t San Bruno, I am looking for low priced, Taiwanese food.\n",
      "China \t China Garden fits your preferences in San Bruno.\n",
      "San Bruno \t China Garden fits your preferences in San Bruno.\n",
      "San Mateo Avenue \t 586 San Mateo Avenue\n",
      "San Bruno \t Dumpling Era in San Bruno serves alcohol.\n",
      "San Bruno \t I found 1 restaurant: Ming's in San Bruno.\n",
      "San Bruno \t Please confirm: I am booking a table at Ming's, in San Bruno. The reservation is for 6 people, today at 12:30 pm.\n",
      "San Bruno \t Please confirm: I am booking a table at Ming's in San Bruno, the reservation is at 11 am today for 6 people.\n",
      "San Carlos \t Please locate one in San Carlos.\n",
      "San Carlos \t I found 2 Greek restaurants. Agora is a nice one located in San Carlos.\n",
      "San Carlos \t I located 2 restaurants. Asya Restaurant is nice and located on San Carlos.\n",
      "San Carlos \t I found 1, Thai Time is nice and located in San Carlos.\n",
      "San Carlos \t Please confirm the following: Booking a table for 2 today at Thai Time in the city of San Carlos for 12:45 pm.\n",
      "Petaluma \t I am looking for a restaurant in Petaluma.\n",
      "Petaluma \t How about Flowering Tea House in Petaluma?\n",
      "Petaluma \t Please confirm your reservation details: Reservation for 2 next Friday, at 5:15 PM, in Petaluma at the Flowering Tea House.\n",
      "San Francisco \t I would like a restaurant that serves alcohol in San Francisco. I'd like to eat in a Burgers restaurant please.\n",
      "San Francisco \t There were 8 matches to your inquiry. 5a5 Steak Lounge is a nice place that's in San Francisco.\n",
      "San Francisco \t Alexander's Steakhouse is also a nice place in San Francisco.\n",
      "San Francisco \t There's another restaurant in San Francisco that's called Bourbon Steak Restaurant.\n",
      "San Francisco \t Can you confirm the reservation details please? I am booking a table at Bourbon Steak Restaurant in San Francisco. The reservation is for 1:30 pm for today and is for 2 people.\n",
      "Pleasanton \t Search in Pleasanton.\n",
      "Pleasanton \t There are 2 restaurants I've found. There's a nice restaurant called Baci Bistro And Bar in Pleasanton that might interest you.\n",
      "Pleasanton \t Okay, I'll make you a reservation for 2 at Baci Bistro And Bar in Pleasanton at 1:45 pm today, is that correct?\n",
      "Sushi \t I'm craving some Sushi in San Francisco if possible.\n",
      "San Francisco \t I'm craving some Sushi in San Francisco if possible.\n",
      "San Francisco \t There a good restaurant in San Francisco that sells sushi it is called 2g Japanese Brasserie.\n",
      "San Francisco \t Please confirm: Making a reservation for 1 person today at 12 pm at 2g Japanese Brasserie in San Francisco.\n",
      "San Francisco \t Please confirm: Making a reservation for 3 people today at 12 pm at 2g Japanese Brasserie in San Francisco.\n",
      "San Francisco \t Making a reservation for 3 people today at 12:30 pm at 2g Japanese Brasserie in San Francisco.\n",
      "Vallejo \t Find a place in Vallejo with live music.\n",
      "Vallejo \t How about Mcdonald's in Vallejo?\n",
      "Vallejo \t Mcdonald's in Vallejo for 2 at 1 pm today. Correct?\n",
      "Mountain View \t I'd like for a moderate costing meal in Mountain View, preferably French.\n",
      "Mountain View \t La Fontaine is a lovely diner situated in Mountain View.\n",
      "SF \t Is there any other restaurant you recommend, preferably in SF?\n",
      "San Francisco \t I discovered 10 restaurants. There is a wonderful diner called Amelie San Francisco located in San Francisco.\n",
      "San Francisco \t Please verify the following information: Reserve a table for 2 people at Amelie San Francisco for 10:30 am today in San Francisco.\n",
      "San Francisco \t Please verify the following information: Reserve a table for 2 people at Amelie San Francisco for 10:30 am today in San Francisco.\n",
      "San Francisco \t Please verify the following information: reserving a table for 2 people at Amelie San Francisco at 11 am today in San Francisco.\n",
      "San Francisco \t Please verify the following information: reserving a table for 2 people at Amelie San Francisco at 11 am today in San Francisco.\n",
      "San Francisco \t I am in San Francisco.\n",
      "San Francisco \t I have 1 restaurant you may like. Red Tavern is a nice place located in San Francisco.\n",
      "San Francisco \t Please confirm these details: I'm reserving a table for 2 people at Red Tavern in San Francisco, for next Thursday at 6:15 pm.\n",
      "San francisco \t San francisco is okay\n",
      "San francisco \t There is a nice returant called 1760 in San francisco\n",
      "San francisco \t booking table at 1760, city San francisco, time 4:45 pm, date today, reservation for 2 people. Confirm the details above\n",
      "Santa Rosa \t I would like to find a place to eat in Santa Rosa.\n",
      "Santa Rosa \t I have found 4 options. Hikuni is a great choice in Santa Rosa.\n",
      "Santa Rosa \t Osake is a great choice in Santa Rosa.\n",
      "Santa Rosa \t Please confirm the following: You want a table for 2 people at Osake in Santa Rosa at 10:45 am next Monday.\n",
      "San Francisco \t I found 10 restaurants in San Francisco including 8 Immortals Restaurant.\n",
      "San Francisco \t There is a nice restaurant in San Francisco called Butterfly Restaurant.\n",
      "San Francisco \t There is a nice restaurant in San Francisco called Chaat Corner.\n",
      "San Francisco \t Please confirm you want a reservation for 2 people at Chaat Corner in San Francisco today at 7:30 pm.\n",
      "San Francisco \t Please confirm you want the reservation in San Francisco on March 14th.\n",
      "Redwood City \t I'm looking for Mediterranean in Redwood City.\n",
      "Redwood City \t There is only 1 restaurant I could find in Redwood City, name Rocknwraps And Kabobs.\n",
      "Redwood City \t Ok, to confirm; you would like to eat at Rocknwraps And Kabobs in Redwood City at 5:30 pm today. I should make that reservation for 2 people?\n",
      "Fairfield \t I would love to have some kind of American food. Fairfield would be suitable to me.\n",
      "Fairfield \t Give me a moment ... There is a top-rated American restaurant in Fairfield and the restaurant name is Chuck E. Cheese's. Would you prefer this one?\n",
      "Fairfield \t Yup! Here, you go!!! Red Lobster, an American casual dining restaurant is nice one located in Fairfield. Do you like to have your food here?\n",
      "Fairfield \t Fortunately I can find one more for you. Texas Roadhouse, an American restaurant specializing in steaks is a very nice restaurant located in Fairfield.\n",
      "Fairfield \t Please confirm me that you are booking a table at Texas Roadhouse located in Fairfield for 2 people today at 11:15 am. Is that right?\n",
      "Texas \t Sure, I can do that. So, your booking would be at Texas Roadhouse on March 13th, right?\n",
      "Oakland \t I want a economical place that serves alcohol in Oakland.\n",
      "Oakland \t I found 1 Umami Burger Oakland restaurant in Oakland.\n",
      "Oakland \t A table at Umami Burger Oakland, in Oakland, at 6 pm, on March 11th, for 2 people.\n",
      "Oakland \t I would like to find a restaurant in Oakland\n",
      "Oakland \t There is a restaurant called Alamar Kitchen & Bar in Oakland that meets your preferences\n",
      "Oakland \t So to confirm, you would like a 6:15 pm reservation for 2 today at Alamar Kitchen & Bar in Oakland.\n",
      "Oakland \t To confirm, you would like a reservation for 2 for 5:30 pm today at Alamar Kitchen & Bar in Oakland\n",
      "Santa Clara \t Look in Santa Clara. Any Southern restaurants?\n",
      "Santa Clara \t I found 4 matches. There's Bennigan's in Santa Clara.\n",
      "Bennigan \t Please confirm: a table for 2 at Bennigan's in Santa Clara at 6:45 pm today\n",
      "Santa Clara \t Please confirm: a table for 2 at Bennigan's in Santa Clara at 6:45 pm today\n",
      "Burlingame \t I want in Burlingame.\n",
      "Burlingame \t Sure. I found 4 restaurants. In Burlingame 37 North is a nice.\n",
      "Pleasanton \t Italian food in Pleasanton.\n",
      "Pleasanton \t I found De La Torre's Trattoria in Pleasanton.\n",
      "Pleasanton \t Forno Vecchio in Pleasanton.\n",
      "Pleasanton \t Gay 90's Pizza Co. in Pleasanton.\n",
      "Pleasanton \t Please confirm table at Gay 90's Pizza Co. for 2 in Pleasanton at 1:15 pm on March 10th.\n",
      "San Francisco \t There is a nice restaurant named Alice's in San Francisco\n",
      "San Francisco \t I've found 9 restaurants in San Francisco, Bamboo restaurant is a nice one.\n",
      "San Francisco \t Bei Fang Style is another nice restaurant in San Francisco\n",
      "San Francisco \t Please confirm if the following is correct: reservation at Bei Fang Style in San Francisco for 3, today at 1:30 pm.\n",
      "Oakland \t I'd like to find a place to eat in Oakland.\n",
      "Eritrea \t I have found 2 different options. Cafe Eritrea D'afrique is a great choice in Oakland.\n",
      "Oakland \t I have found 2 different options. Cafe Eritrea D'afrique is a great choice in Oakland.\n",
      "Oakland \t I have found 1 place called Miliki Restaurant in Oakland.\n",
      "Oakland \t Please confirm the following: You want a table at Miliki Restaurant in Oakland at 11:15 am for 2 people on March 12th.\n",
      "Oakland \t Please confirm the following: You want a table for 2 people at Miliki Restaurant in Oakland at 11:15 am on the day after tomorrow.\n",
      "Walnut Creek \t I'm in Walnut Creek at the moment, please search there.\n",
      "Walnut Creek \t Okay, I found 3 restaurants in Walnut Creek. How about Panera Bread?\n",
      "Walnut Creek \t Okay sure, please confirm that you want a table for 2 at Panera Bread in Walnut Creek from 6 pm today.\n",
      "San Mateo \t I need it in San Mateo\n",
      "San Mateo \t Central Park Bistro is a good place in San Mateo\n",
      "San Mateo \t Book a table at Central Park Bistro in San Mateo for 5:45 pm for 2 people today.\n",
      "Newark \t I want some Indian food, preferable curry. Is there any place in Newark.\n",
      "Newark \t There are 4 places available. Biryani Pot in Newark has an excellent cuisine.\n",
      "Newark \t I would like to confirm the following: you would like to reserve a table for 2 persons for today at 7:30 pm at the Biryani Pot in Newark.\n",
      "San Bruno \t Somewhere to eat in San Bruno. Some Latin American food is what I'm looking for.\n",
      "San Bruno \t Celia's Mexican Restaurant is a nice restaurant located in San Bruno.\n",
      "Chili \t I found 1 restaurants. Chili's Grill & Bar is a nice restaurant located in San Bruno.\n",
      "San Bruno \t I found 1 restaurants. Chili's Grill & Bar is a nice restaurant located in San Bruno.\n",
      "Chili \t Please confirm the following details: Booking a table at Chili's Grill & Bar. The city is San Bruno. The reservation is at 5:30 pm. The date is March 9th. The reservation is for 6 people.\n",
      "San Bruno \t Please confirm the following details: Booking a table at Chili's Grill & Bar. The city is San Bruno. The reservation is at 5:30 pm. The date is March 9th. The reservation is for 6 people.\n",
      "San Bruno \t Please confirm the following details: The city is San Bruno. The reservation is at 6:30 pm.\n",
      "Chili \t Please confirm the following details: Booking a table at Chili's Grill & Bar. The city is San Bruno. The reservation is at 6:30 pm. The date is March 9th. The reservation is for 2 people.\n",
      "San Bruno \t Please confirm the following details: Booking a table at Chili's Grill & Bar. The city is San Bruno. The reservation is at 6:30 pm. The date is March 9th. The reservation is for 2 people.\n",
      "Berkeley \t I want Oriental food in Berkeley.\n",
      "Berkeley \t Mount Everest Restaurant in Berkeley is the number 1 hit.\n",
      "Berkeley \t I have one reservation at Mount Everest Restaurant in Berkeley on March 13th at 12:30 pm for 1 person. Is that correct?\n",
      "SF \t I want to eat in SF.\n",
      "Szcheuan \t I'm feeling some Szcheuan.\n",
      "San Francisco \t Okay, I've found 10 restaurants that could be good. How does Alice's in San Francisco sound?\n",
      "San Francisco \t Sure thing, please confirm: reservation for 2 people at Alice's in San Francisco at 11:45 am today.\n",
      "Morgan Hill \t I want some ramen, I'm really craving it. Can you find me an afforadable place in Morgan Hill?\n",
      "Morgan Hill \t Hanami Sushi does ramen in Morgan Hill. Is that okay?\n",
      "Morgan Hill \t Sushi Nara is another place that does ramen in Morgan Hill.\n",
      "Morgan Hill \t Please confirm that you'd like to book a table for 2 at Sushi Nara in Morgan Hill from 12:30 pm today.\n",
      "Fremont \t The location is Fremont, please.\n",
      "Fremont \t I found 4 restaurants in Fremont. Aniki's Sushi is a nice one.\n",
      "Sushi \t Please confirm that you'd like a table for 1 today at 12:30 pm at Aniki's Sushi in Fremont.\n",
      "Fremont \t Please confirm that you'd like a table for 1 today at 12:30 pm at Aniki's Sushi in Fremont.\n",
      "San Mateo \t Please search in San Mateo, price is not an issue.\n",
      "San Mateo \t I have found a restaurant in San Mateo called Izakaya Ginji.\n",
      "San Mateo \t Can you confirm the following details: Reservation at Izakaya Ginji in San Mateo, for 1:30 pm today for 1 person.\n",
      "South San Francisco \t I want to find one in South San Francisco.\n",
      "South San Francisco \t There are 3 restaurants. Amami San is a restaurant in South San Francisco.\n",
      "San Mateo \t Can you find another restaurant? I am looking for some thing with afforadable prices in San Mateo.\n",
      "San Mateo \t I have found 7 restaurants. Daiki Sushi is a restaurant located in San Mateo.\n",
      "San Mateo \t Dash Japanese Tapas And Sushi is a restaurant located in San Mateo.\n",
      "San Mateo \t Please confirm: You would like to book a table for 2 at Dash Japanese Tapas And Sushi in San Mateo at 12:15 pm today.\n",
      "San Francisco \t There are 4 restaurants that serve Pakistani cuisine in San Francisco. Aslam's Rasoi is a nice restaurant.\n",
      "San Francisco \t Ok, I am booking a table at Aslam's Rasoi in San Francisco on March 14th at 5:30 pm for 2 people. Is that correct?\n",
      "San Francisco \t Ok, I changed your reservation at Aslam's Rasoi in San Francisco to 3 people. Is that correct?\n",
      "San Francisco \t The phone number for Aslam's Rasoi in San Francisco is 415-695-0599.\n",
      "San Jose \t I'd like it to be in San Jose\n",
      "San Jose \t I found 4 restaurants in the San Jose area. I would recommend 4th St Pizza Co\n",
      "San Jose \t I would recommend a nice restaurant in San Jose called Mimi's Cafe\n",
      "San Jose \t Is this correct? I'm booking a table for 4 people at Mimi's Cafe in San Jose at 6 pm for next Thursday.\n",
      "San Francisco \t In San Francisco.\n",
      "San Francisco \t I found 10 possible restaurants. One is Amelie San Francisco, in San Francisco.\n",
      "San Francisco \t Please confirm the following: You want a table for 2 at 11:15 am today at Amelie San Francisco in San Francisco.\n",
      "San Francisco \t Please confirm the following: You want a table for 2 at 6 pm today at Amelie San Francisco in San Francisco.\n",
      "Pleasanton \t I'd like the restaurant to be in Pleasanton. I'm in the mood for some Taiwanese food.\n",
      "Pleasanton \t Great! Andy & Yu's is a great restaurant in Pleasanton. Does that interest you at all?\n",
      "Pleasanton \t No problem. China Lounge Restaurant & Bar in Pleasanton is a great place. Does that interest you at all?\n",
      "Pleasanton \t There is! I recommend Hunan Chef Chinese Restaurant in Pleasanton. Does that interest you at all?\n",
      "Pleasanton \t Perfect. Can you confirm the following details, please? You have a table for 2 people at Hunan Chef Chinese Restaurant in Pleasanton at 12 pm today.\n",
      "St. Helena \t I'd like something in a moderate price range. How about Gastrobar type food, in St. Helena.\n",
      "St. Helena \t St. Helena has a nice restaurant called Cook Tavern & Pizzeria.\n",
      "St. Helena \t Please confirm that you would like to book a table for 2 people at the Cook Tavern & Pizzeria, in St. Helena, at 12:30 pm today.\n",
      "San Francisco \t I'd like to find a Burger in San Francisco.\n",
      "San Francisco \t I found about 10 restaurants in San Francisco. What about 1760?\n",
      "San Francisco \t Please confirm: reservation for 2 people next Tuesday at 5 pm at 1760 restaurant in San Francisco.\n",
      "Dublin \t Can you find me somewhere to eat in Dublin?\n",
      "Dublin \t Here are 7 options, one of which is China Paradise Restaurant in Dublin.\n",
      "Dublin \t I am making a reservation for 4 at China Paradise Restaurant in Dublin next Thursday at 2 pm. Is that correct?\n",
      "Dublin \t I am making a reservation for 2 people at China Paradise Restaurant in Dublin next Thursday at 2 pm. Is that correct?\n",
      "Dublin \t I am making a reservation for 2 people at China Paradise Restaurant in Dublin on March 9th at 2 pm. Is that correct?\n",
      "Dublin \t I am making a reservation for 2 people at China Paradise Restaurant in Dublin on March 9th at 1:45 pm. Is that correct?\n",
      "Pleasant Hill \t Ya, I prefer Asian food which I am always dreaming to eat and please search for me in Pleasant Hill.\n",
      "Pleasant Hill \t China Chef Restaurant is best for Asian foods which is located in Pleasant Hill, can you confirm whether this is convenient to you?\n"
     ]
    }
   ],
   "source": [
    "import spacy\n",
    "\n",
    "nlp = spacy.load(\"en_core_web_md\")\n",
    "\n",
    "\n",
    "with open(\"utterances.txt\", \"r\") as utterances:\n",
    "    for utterance in utterances:\n",
    "        utterance = utterance.strip()\n",
    "        doc = nlp(utterance)\n",
    "        ents = doc.ents\n",
    "        if ents:\n",
    "            for ent in ents:\n",
    "                if ent.label_ == \"GPE\":\n",
    "                    print(ent.text, \"\\t\", utterance)"
   ],
   "metadata": {
    "collapsed": false
   }
  },
  {
   "cell_type": "markdown",
   "source": [
    "Agora, vamos extrair datas e horários para permitir que nosso chatbot faça uma reserva real.\n",
    "\n",
    "### Extraindo entidades de data e hora\n",
    "A extração de entidades **DATE** e **TIME** é semelhante à extração de entidades **CITY**, que vimos na seção anterior. Voltaremos a examinar os enunciados do corpus e ver o sucesso do modelo spaCy NER na extração de entidades **DATE** e **TIME** de nosso corpus.\n",
    "\n",
    "Vejamos alguns exemplos de enunciados do corpus:"
   ],
   "metadata": {
    "collapsed": false
   }
  },
  {
   "cell_type": "code",
   "execution_count": 32,
   "outputs": [],
   "source": [
    "import spacy\n",
    "nlp = spacy.load(\"en_core_web_md\")\n",
    "sentences = [\n",
    "    \"I will be eating there at 11:30 am so make it for then.\",\n",
    "    \"I'll reach there at 1:30 pm.\",\n",
    "    \"No, change it on next friday\",\n",
    "    \"Sure. Please confirm that the date is now next Friday and for 1 person.\",\n",
    "\t\"I need to make it on Monday next week at half past 12 in the afternoon.\",\n",
    "\t\"A quarter past 5 in the evening, please.\"\n",
    "]"
   ],
   "metadata": {
    "collapsed": false
   }
  },
  {
   "cell_type": "markdown",
   "source": [
    "No código a seguir, extrairemos as entidades desses enunciados de exemplo:"
   ],
   "metadata": {
    "collapsed": false
   }
  },
  {
   "cell_type": "code",
   "execution_count": 33,
   "outputs": [
    {
     "name": "stdout",
     "output_type": "stream",
     "text": [
      "[('11:30 am', 'TIME')]\n",
      "[('1:30 pm', 'TIME')]\n",
      "[('next friday', 'DATE')]\n",
      "[('next Friday', 'DATE'), ('1', 'CARDINAL')]\n",
      "[('Monday next week', 'DATE'), ('half past 12', 'CARDINAL')]\n",
      "[('A quarter past 5', 'DATE'), ('evening', 'TIME')]\n"
     ]
    }
   ],
   "source": [
    "for sent in sentences:\n",
    "    doc = nlp(sent)\n",
    "    ents = doc.ents\n",
    "    print([(ent.text, ent.label_) for ent in ents])"
   ],
   "metadata": {
    "collapsed": false
   }
  },
  {
   "cell_type": "markdown",
   "source": [
    "Parece bom! A saída parece bastante bem-sucedida:\n",
    "* As entidades de horário **11:30 am** e **1:30 pm** da primeira e segunda frases são extraídas com sucesso.\n",
    "* As entidades **DATE** na próxima **next friday** e **next Friday** da terceira e quarta frases também são extraídas. Observe que a primeira entidade inclui um erro de digitação: **friday** deve ser escrita como **Friday** – ainda assim, o modelo spaCy NER extraiu essa entidade com sucesso.\n",
    "* A quinta frase incluiu uma entidade **DATE** e uma entidade **TIME**. Podemos dividir a entidade **DATE** **Monday next week** em duas partes: **Monday** – um dia da semana e **next week** – uma data relativa (a data exata depende da data do enunciado). Essa entidade consiste em dois sintagmas nominais: **Monday** (substantivo) e **next week** (substantivo adjetivo). spaCy pode lidar com essas entidades de várias palavras. A entidade de tempo, **half past 12**, desse enunciado também é uma entidade multipalavra. Essa entidade consiste em um substantivo (**half**), uma preposição (**past**) e um número (**12**).\n",
    "* O mesmo vale para a entidade **TIME** multipalavra do sexto enunciado, **A quarter past 5**. Aqui está a árvore de dependências desta entidade:"
   ],
   "metadata": {
    "collapsed": false
   }
  },
  {
   "cell_type": "code",
   "execution_count": 34,
   "outputs": [
    {
     "data": {
      "text/plain": "<IPython.core.display.HTML object>",
      "text/html": "<span class=\"tex2jax_ignore\"><svg xmlns=\"http://www.w3.org/2000/svg\" xmlns:xlink=\"http://www.w3.org/1999/xlink\" xml:lang=\"en\" id=\"1575513721684c67b26ab25bb713815f-0\" class=\"displacy\" width=\"750\" height=\"224.5\" direction=\"ltr\" style=\"max-width: none; height: 224.5px; color: #000000; background: #ffffff; font-family: Arial; direction: ltr\">\n<text class=\"displacy-token\" fill=\"currentColor\" text-anchor=\"middle\" y=\"134.5\">\n    <tspan class=\"displacy-word\" fill=\"currentColor\" x=\"50\">A</tspan>\n    <tspan class=\"displacy-tag\" dy=\"2em\" fill=\"currentColor\" x=\"50\">DET</tspan>\n</text>\n\n<text class=\"displacy-token\" fill=\"currentColor\" text-anchor=\"middle\" y=\"134.5\">\n    <tspan class=\"displacy-word\" fill=\"currentColor\" x=\"225\">quarter</tspan>\n    <tspan class=\"displacy-tag\" dy=\"2em\" fill=\"currentColor\" x=\"225\">NOUN</tspan>\n</text>\n\n<text class=\"displacy-token\" fill=\"currentColor\" text-anchor=\"middle\" y=\"134.5\">\n    <tspan class=\"displacy-word\" fill=\"currentColor\" x=\"400\">past</tspan>\n    <tspan class=\"displacy-tag\" dy=\"2em\" fill=\"currentColor\" x=\"400\">ADP</tspan>\n</text>\n\n<text class=\"displacy-token\" fill=\"currentColor\" text-anchor=\"middle\" y=\"134.5\">\n    <tspan class=\"displacy-word\" fill=\"currentColor\" x=\"575\">5</tspan>\n    <tspan class=\"displacy-tag\" dy=\"2em\" fill=\"currentColor\" x=\"575\">NUM</tspan>\n</text>\n\n<g class=\"displacy-arrow\">\n    <path class=\"displacy-arc\" id=\"arrow-1575513721684c67b26ab25bb713815f-0-0\" stroke-width=\"2px\" d=\"M70,89.5 C70,2.0 225.0,2.0 225.0,89.5\" fill=\"none\" stroke=\"currentColor\"/>\n    <text dy=\"1.25em\" style=\"font-size: 0.8em; letter-spacing: 1px\">\n        <textPath xlink:href=\"#arrow-1575513721684c67b26ab25bb713815f-0-0\" class=\"displacy-label\" startOffset=\"50%\" side=\"left\" fill=\"currentColor\" text-anchor=\"middle\">det</textPath>\n    </text>\n    <path class=\"displacy-arrowhead\" d=\"M70,91.5 L62,79.5 78,79.5\" fill=\"currentColor\"/>\n</g>\n\n<g class=\"displacy-arrow\">\n    <path class=\"displacy-arc\" id=\"arrow-1575513721684c67b26ab25bb713815f-0-1\" stroke-width=\"2px\" d=\"M245,89.5 C245,2.0 400.0,2.0 400.0,89.5\" fill=\"none\" stroke=\"currentColor\"/>\n    <text dy=\"1.25em\" style=\"font-size: 0.8em; letter-spacing: 1px\">\n        <textPath xlink:href=\"#arrow-1575513721684c67b26ab25bb713815f-0-1\" class=\"displacy-label\" startOffset=\"50%\" side=\"left\" fill=\"currentColor\" text-anchor=\"middle\">prep</textPath>\n    </text>\n    <path class=\"displacy-arrowhead\" d=\"M400.0,91.5 L408.0,79.5 392.0,79.5\" fill=\"currentColor\"/>\n</g>\n\n<g class=\"displacy-arrow\">\n    <path class=\"displacy-arc\" id=\"arrow-1575513721684c67b26ab25bb713815f-0-2\" stroke-width=\"2px\" d=\"M420,89.5 C420,2.0 575.0,2.0 575.0,89.5\" fill=\"none\" stroke=\"currentColor\"/>\n    <text dy=\"1.25em\" style=\"font-size: 0.8em; letter-spacing: 1px\">\n        <textPath xlink:href=\"#arrow-1575513721684c67b26ab25bb713815f-0-2\" class=\"displacy-label\" startOffset=\"50%\" side=\"left\" fill=\"currentColor\" text-anchor=\"middle\">pobj</textPath>\n    </text>\n    <path class=\"displacy-arrowhead\" d=\"M575.0,91.5 L583.0,79.5 567.0,79.5\" fill=\"currentColor\"/>\n</g>\n</svg></span>"
     },
     "metadata": {},
     "output_type": "display_data"
    }
   ],
   "source": [
    "from spacy import displacy\n",
    "doc = nlp('A quarter past 5')\n",
    "displacy.render(doc, style='dep')"
   ],
   "metadata": {
    "collapsed": false
   }
  },
  {
   "cell_type": "markdown",
   "source": [
    "Os exemplos anteriores parecem muito bons, mas que tal os seguintes enunciados:"
   ],
   "metadata": {
    "collapsed": false
   }
  },
  {
   "cell_type": "code",
   "execution_count": 35,
   "outputs": [
    {
     "name": "stdout",
     "output_type": "stream",
     "text": [
      "[]\n",
      "[('a nice day', 'DATE')]\n",
      "[('a good day', 'DATE')]\n",
      "[]\n",
      "[('nice day', 'DATE')]\n"
     ]
    }
   ],
   "source": [
    "sentences = [\n",
    "    \"Have a great day.\",\n",
    "    \"Have a nice day.\",\n",
    "    \"Have a good day\",\n",
    "    \"Have a wonderful day.\",\n",
    "    \"Have a sunny and nice day\"\n",
    "]\n",
    "for sent in sentences:\n",
    "    doc = nlp(sent)\n",
    "    ents = doc.ents\n",
    "    print([(ent.text, ent.label_) for ent in ents])"
   ],
   "metadata": {
    "collapsed": false
   }
  },
  {
   "cell_type": "markdown",
   "source": [
    "Ops! Parece que temos alguns **falsos positivos** aqui. O modelo spaCy NER rotulou algumas frases, incluindo a palavra **day**, como entidades de data incorretamente. O que podemos fazer aqui?\n",
    "\n",
    "Felizmente, essas correspondências falsas não formam um padrão como o **determinante** do **adjetivo dia**, porque as sequências de palavras **a great day** e **a wonderfull day** da primeira e quarta sentença não são rotuladas como entidades. Apenas as sequências de palavras **a nice day** e **a good day** são rotuladas como entidades. Então, podemos filtrar os resultados do spaCy NER com os dois padrões a seguir:"
   ],
   "metadata": {
    "collapsed": false
   }
  },
  {
   "cell_type": "code",
   "execution_count": 36,
   "outputs": [
    {
     "data": {
      "text/plain": "[]"
     },
     "execution_count": 36,
     "metadata": {},
     "output_type": "execute_result"
    }
   ],
   "source": [
    "sentence = 'Have a nice day.'\n",
    "doc = nlp(sentence)\n",
    "wrong_matches = [\"a good day\", \"a nice day\"]\n",
    "date_ents = [ent for ent in doc.ents if ent.label_ == \"DATE\"]\n",
    "date_ents = list(filter(lambda e: e.text not in wrong_matches, date_ents))\n",
    "date_ents"
   ],
   "metadata": {
    "collapsed": false
   }
  },
  {
   "cell_type": "markdown",
   "source": [
    "O bloco de código anterior executa as seguintes etapas:\n",
    "1. Primeiro, definimos uma lista de frases que não queremos que apareçam como entidades **DATE**.\n",
    "2. Extraímos as entidades **DATE** do objeto **Doc** na terceira linha, iterando sobre todas as entidades de **doc** e escolhendo as entidades cujos rótulos eram **DATE**.\n",
    "3. Na próxima linha, filtramos as entidades que não apareceram na lista de **correspondências erradas**.\n",
    "4. Imprimimos o resultado. Como esperado, o resultado final da entidade de **date** é uma lista vazia.\n",
    "\n",
    "Ótimo, extraímos as entidades **DATE** e **TIME** junto com as entidades **CITY**. Para todos os três tipos de entidade, usamos o modelo spaCy NER diretamente, porque spaCy NER reconhece entidades de data, hora e local. E quanto às entidades **phone_number**? O SpaCy NER não inclui esse rótulo. Então, usaremos alguns truques da classe **Matcher** para lidar com esse tipo de entidade. Vamos extrair os números de telefone.\n",
    "\n",
    "### Extraindo números de telefone\n",
    "Tivemos alguma prática da classe **Matcher** em entidades que incluem números no Capítulo 4, Correspondência Baseada em Regras. Também podemos nos lembrar do Capítulo 4, Correspondência Baseada em Regras, que combinar entidades de tipo numérico pode ser bastante complicado; extrair números de telefone especialmente requer atenção. Os números de telefone podem vir em diferentes formatos, com traços (212-44-44), códigos de área ((312) 790 12 31), códigos de país e de área (+49 30 456 222) e o número de dígitos difere de país para país. país. Como resultado, geralmente examinamos os seguintes pontos:\n",
    "* Em quantos formatos de país as entidades de número de telefone do corpus são escritas?\n",
    "* Como os blocos de dígitos são separados – com um traço, ou espaço em branco, ou ambos?\n",
    "* Existe um bloco de código de área em alguns números de telefone?\n",
    "* Existe um bloco de código de país em alguns números de telefone?\n",
    "* Os blocos de código de país são precedidos por + ou 00, ou ambos os formatos são usados? Vamos examinar algumas de nossas entidades de número de telefone, então:\n",
    "~~~python\n",
    "You can call them at 415-775-1800. And they do not serve alcohol.\n",
    "Their phone number is 408-374-3400 and they don't have live music.\n",
    "Unfortunately no, they do not have live music, however here is the number: 510-558-8367.\n",
    "~~~"
   ],
   "metadata": {
    "collapsed": false
   }
  },
  {
   "cell_type": "markdown",
   "source": [
    "Todas as entidades do tipo telefone ocorrem em enunciados do sistema. O chatbot busca números de telefone de restaurantes e os fornece aos usuários. O chatbot formou entidades de número de telefone colocando um traço entre os blocos de dígitos. Além disso, todos os números de telefone estão no formato de número de telefone dos EUA. Portanto, o formato do número de telefone é uniforme e tem a forma **ddd-ddd-dddd**. Isso é muito bom para definir um padrão **Matcher**. Podemos definir apenas um padrão e ele corresponde a todas as entidades de número de telefone. Vamos primeiro ver como um número de telefone de exemplo é tokenizado:"
   ],
   "metadata": {
    "collapsed": false
   }
  },
  {
   "cell_type": "code",
   "execution_count": 37,
   "outputs": [
    {
     "data": {
      "text/plain": "[The, phone, number, is, 707, -, 766, -, 7600, .]"
     },
     "execution_count": 37,
     "metadata": {},
     "output_type": "execute_result"
    }
   ],
   "source": [
    "doc= nlp(\"The phone number is 707-766-7600.\")\n",
    "[token for token in doc]"
   ],
   "metadata": {
    "collapsed": false
   }
  },
  {
   "cell_type": "markdown",
   "source": [
    "Cada bloco de dígitos é tokenizado como um token e cada caractere de traço é tokenizado como um token também. Portanto, em nosso padrão Matcher, procuraremos uma sequência de cinco tokens: um número de três dígitos, um traço, um número de três dígitos novamente, um traço novamente e, finalmente, um número de quatro dígitos. Então, nosso padrão Matcher deve ficar assim:"
   ],
   "metadata": {
    "collapsed": false
   }
  },
  {
   "cell_type": "code",
   "execution_count": 38,
   "outputs": [
    {
     "data": {
      "text/plain": "({'SHAPE': 'ddd'},\n {'TEXT': '-'},\n {'SHAPE': 'ddd'},\n {'TEXT': '-'},\n {'SHAPE': 'dddd'})"
     },
     "execution_count": 38,
     "metadata": {},
     "output_type": "execute_result"
    }
   ],
   "source": [
    "{\"SHAPE\": \"ddd\"}, {\"TEXT\": \"-\"}, {\"SHAPE\": \"ddd\"}, {\"TEXT\": \"-\"}, {\"SHAPE\": \"dddd\"}"
   ],
   "metadata": {
    "collapsed": false
   }
  },
  {
   "cell_type": "markdown",
   "source": [
    "Se você se lembrar do Capítulo 4, Correspondência Baseada em Regras, o atributo **SHAPE** se refere à forma do token. A forma do token representa a forma dos caracteres: **d** significa um dígito, **X** significa um caractere maiúsculo e **x** significa um caractere minúsculo. Portanto, **{\"SHAPE\": \"ddd\"}** significa um token que consiste em três dígitos. Esse padrão corresponderá a cinco tokens da forma **ddd-ddd-dddd**. Vamos tentar nosso novo padrão em um enunciado de corpus:"
   ],
   "metadata": {
    "collapsed": false
   }
  },
  {
   "cell_type": "code",
   "execution_count": 39,
   "outputs": [
    {
     "name": "stdout",
     "output_type": "stream",
     "text": [
      "707-766-7600\n"
     ]
    }
   ],
   "source": [
    "from spacy.matcher import Matcher\n",
    "matcher = Matcher(nlp.vocab)\n",
    "pattern = [{\"SHAPE\": \"ddd\"},\n",
    "           {\"TEXT\": \"-\"},\n",
    "           {\"SHAPE\": \"ddd\"},\n",
    "           {\"TEXT\": \"-\"},\n",
    "           {\"SHAPE\": \"dddd\"}]\n",
    "matcher.add(\"usPhoneNum\", [pattern])\n",
    "doc= nlp(\"The phone number is 707-766-7600.\")\n",
    "matches = matcher(doc)\n",
    "for mid, start, end in matches:\n",
    "    print(doc[start:end])"
   ],
   "metadata": {
    "collapsed": false
   }
  },
  {
   "cell_type": "markdown",
   "source": [
    "Voilá! Nosso novo padrão correspondeu a uma entidade do tipo de número de telefone conforme o esperado! Agora, trataremos do tipo de cozinha para que nosso chatbot possa fazer uma reserva. Vamos ver como extrair o tipo de cozinha.\n",
    "\n",
    "### Extraindo tipos de cozinha\n",
    "Extrair tipos de cozinha é muito mais fácil do que extrair um número de pessoas ou tipos de telefone; na verdade, é semelhante à extração de entidades da cidade. Podemos usar um rótulo spaCy NER diretamente para tipos de cozinha – **NORP**. O rótulo de entidade **NORP** refere-se a grupos étnicos ou políticos:"
   ],
   "metadata": {
    "collapsed": false
   }
  },
  {
   "cell_type": "code",
   "execution_count": 40,
   "outputs": [
    {
     "data": {
      "text/plain": "'Nationalities or religious or political groups'"
     },
     "execution_count": 40,
     "metadata": {},
     "output_type": "execute_result"
    }
   ],
   "source": [
    "spacy.explain(\"NORP\")"
   ],
   "metadata": {
    "collapsed": false
   }
  },
  {
   "cell_type": "markdown",
   "source": [
    "Felizmente, os nomes das cozinhas em nosso corpus coincidem com as nacionalidades. Assim, os nomes das cozinhas são rotulados como NORP pelo NER da spaCy. Primeiro, vamos dar uma olhada em alguns enunciados de exemplo:\n",
    "~~~python\n",
    "Is there a specific cuisine type you enjoy, such as Mexican, Italian or something else?\n",
    "I usually like eating the American type of food.\n",
    "Find me Ethiopian cuisine in Berkeley.\n",
    "I'm looking for a Filipino place to eat.\n",
    "I would like some Italian food.\n",
    "Malaysian sounds good right now.\n",
    "~~~\n",
    "Vamos extrair as entidades desses enunciados e examinar como o NER do spaCy rotula os tipos de cozinha da seguinte forma:"
   ],
   "metadata": {
    "collapsed": false
   }
  },
  {
   "cell_type": "code",
   "execution_count": 41,
   "outputs": [
    {
     "name": "stdout",
     "output_type": "stream",
     "text": [
      "[('Mexican', 'NORP'), ('Italian', 'NORP')]\n",
      "[('American', 'NORP')]\n",
      "[('Ethiopian', 'NORP'), ('Berkeley', 'GPE')]\n",
      "[('Filipino', 'NORP')]\n",
      "[('Italian', 'NORP')]\n",
      "[('Malaysian', 'NORP')]\n"
     ]
    }
   ],
   "source": [
    "sentences = [\n",
    "    \"Is there a specific cuisine type you enjoy, such as Mexican,Italian or something else?\",\n",
    "\t\"I usually like eating the American type of food.\",\n",
    "    \"Find me Ethiopian cuisine in Berkeley.\",\n",
    "    \"I'm looking for a Filipino place to eat.\",\n",
    "    \"I would like some Italian food.\",\"Malaysian sounds good right now.\"\n",
    "    ]\n",
    "for sent in sentences:\n",
    "    doc = nlp(sent)\n",
    "    print([(ent.text, ent.label_) for ent in doc.ents])"
   ],
   "metadata": {
    "collapsed": false
   }
  },
  {
   "cell_type": "markdown",
   "source": [
    "Agora, podemos extrair a cidade, data e hora, número de pessoas e entidades culinárias dos enunciados dos usuários. O resultado do módulo de extração de entidades nomeadas que construímos aqui carrega todas as informações que o chatbot precisa fornecer ao sistema de reservas. Aqui está um exemplo de enunciado anotado com entidades extraídas:"
   ],
   "metadata": {
    "collapsed": false
   }
  },
  {
   "cell_type": "markdown",
   "source": [
    "~~~python\n",
    "I'd like to reserve an Italian place for 4 people by tomorrow 19:00 in Berkeley.\n",
    "{\n",
    "entities: {\n",
    "\t\"cuisine\": \"Italian\",\n",
    "\t\"date\": \"tomorrow\",\n",
    "\t\"time\": \"19:00\",\n",
    "\t\"number_people\": 4,\n",
    "\t\"city\": \"Berkeley\"\n",
    "}\n",
    "~~~\n",
    "\n",
    "Aqui, concluímos a primeira parte de nossa análise semântica, extraindo entidades. Uma análise semântica completa também precisa de uma intenção. Agora, passaremos para a próxima seção e faremos o reconhecimento de intenção com o TensorFlow e o Keras.\n",
    "\n",
    "## Reconhecimento de intenção\n",
    "O **reconhecimento de intenção** (também chamado de **classificação de intenção**) é a tarefa de classificar os enunciados do usuário com rótulos predefinidos (intenções). A classificação de intenção é basicamente a classificação de texto. A classificação de intenção é uma tarefa de NLP bem conhecida e comum. O GitHub e o Kaggle hospedam muitos conjuntos de dados de classificação de intenção.\n",
    "\n",
    "Em aplicativos de chatbot do mundo real, primeiro determinamos o domínio em que nosso chatbot deve funcionar, como finanças e bancos, saúde, marketing e assim por diante. Em seguida, executamos o seguinte loop de ações:\n",
    "1. Determinamos um conjunto de intents que queremos suportar e preparamos um conjunto de dados rotulado de pares (**utterance, label**). Treinamos nosso classificador de *intent* nesse conjunto de dados.\n",
    "2. Em seguida, implantamos nosso chatbot para os usuários e coletamos dados reais do usuário.\n",
    "3. Em seguida, examinamos o desempenho do nosso chatbot com dados reais do usuário. Nesse estágio, geralmente, identificamos algumas novas intenções e alguns enunciados que nosso chatbot não conseguiu reconhecer. Estendemos nosso conjunto de *intents* com os novos *intents*, adicionamos os enunciados não reconhecidos ao nosso conjunto de treinamento e treinamos novamente nosso classificador de *intents*.\n",
    "4. Vamos para a etapa 2 e executamos as etapas 2-3 até que a qualidade do chatbot NLU atinja um bom nível de precisão (> 0,95)\n",
    "\n",
    "Nosso conjunto de dados é um conjunto de dados do mundo real; contém erros de digitação e erros gramaticais. Ao projetar nossos classificadores de intenção – especialmente ao fazer classificação baseada em padrões – precisamos ser robustos a esses erros.\n",
    "\n",
    "Faremos o reconhecimento de intenção em duas etapas: *classificação de texto baseada em padrões* e *classificação estatística de texto*. Vimos como fazer classificação estatística de texto com *TensorFlow* e *Keras* no Capítulo 8, Classificação de texto com spaCy. Nesta seção, trabalharemos com *Tensorflow* e *Keras* novamente. Antes disso, veremos como projetar um classificador de texto baseado em padrões.\n",
    "\n",
    "### Classificação de texto baseada em padrões\n",
    "A **classificação baseada em padrões** significa classificar o texto combinando uma lista predefinida de padrões com o texto. Comparamos uma lista pré-compilada de padrões com os enunciados e verificamos se há correspondência.\n",
    "\n",
    "Um exemplo imediato é a **classificação de spam**. Se um e-mail contiver um dos padrões, como *you won a lottery* e *I'm a Nigerian prince*, esse e-mail deve ser classificado como spam. **Classificadores baseados em padrões** são combinados com **classificadores estatísticos** para aumentar a precisão geral do sistema.\n",
    "\n",
    "Ao contrário dos classificadores estatísticos, os classificadores baseados em padrões são fáceis de construir. Não precisamos fazer nenhum esforço para treinar um modelo do TensorFlow. Vamos compilar uma lista de padrões do nosso corpus e alimentá-los para o Matcher. Em seguida, o Matcher pode procurar correspondências de padrões em enunciados.\n",
    "\n",
    "Para construir um classificador baseado em padrões, primeiro precisamos coletar alguns padrões. Nesta seção, classificaremos os enunciados com o rótulo **NONE**. Vamos ver alguns exemplos de enunciados primeiro:\n",
    "~~~python\n",
    "No, Thanks\n",
    "No, thank you very much.\n",
    "That is all thank you so much.\n",
    "No, that is all.\n",
    "Nope, that'll be all. Thanks!\n",
    "No, that's okay.\n",
    "No thanks. That's all I needed help with.\n",
    "No. This should be enough for now.\n",
    "No, thanks.\n",
    "No, thanks a lot.\n",
    "No, thats all thanks.\n",
    "~~~\n",
    "\n",
    "Observando esses enunciados, vemos que os enunciados com o rótulo **NONE** seguem alguns padrões:\n",
    " * A maioria dos enunciados começa com **No,** ou **No.**.\n",
    " * Padrões de *thank you* também são bastante comuns. Os padrões **Thanks, thank you** e **thanks a lot** ocorrem na maioria dos enunciados no código anterior.\n",
    " * Algumas frases auxiliares como **that is all, that'll be all, that's OK,** e **this should be enough** também são comumente usadas.\n",
    "\n",
    "Com base nessas informações, podemos criar três padrões de Matcher da seguinte forma:"
   ],
   "metadata": {
    "collapsed": false
   }
  },
  {
   "cell_type": "code",
   "execution_count": 42,
   "outputs": [
    {
     "data": {
      "text/plain": "[{'LOWER': {'IN': ['that', \"that's\", 'thats', \"that'll\", 'thatll']}},\n {'LOWER': {'IN': ['is', 'will']}, 'OP': '*'},\n {'LOWER': 'all'}]"
     },
     "execution_count": 42,
     "metadata": {},
     "output_type": "execute_result"
    }
   ],
   "source": [
    "[{\"LOWER\": {\"IN\": [\"no\", \"nope\"]}}, {\"TEXT\": {\"IN\": [\",\", \".\"]}}]\n",
    "[{\"TEXT\": {\"REGEX\": \"[Tt]hanks?\"}}, {\"LOWER\": {\"IN\": [\"you\", \"a lot\"]}, \"OP\": \"*\"}]\n",
    "[{\"LOWER\": {\"IN\": [\"that\", \"that's\", \"thats\", \"that'll\", \"thatll\"]}}, {\"LOWER\": {\"IN\": [\"is\", \"will\"]}, \"OP\": \"*\"},{\"LOWER\": \"all\"}]"
   ],
   "metadata": {
    "collapsed": false
   }
  },
  {
   "cell_type": "markdown",
   "source": [
    "Vamos examinar os padrões um por um:\n",
    "* O primeiro padrão corresponde às sequências de token **no,**, **no.**, **nope,**, **nope.**, **No,**, **No.**, **Nope,**, e **Nope.**. O primeiro item corresponde a dois tokens **no** e **nope** em maiúsculas ou minúsculas. O segundo item corresponde aos sinais de pontuação **,** e **.**.\n",
    "* O segundo padrão corresponde a **thank**, **thank you**, **thanks**, e **thanks a lot,**, em maiúsculas ou minúsculas. O primeiro item corresponde a **thank** e **thanks s?**. Na sintaxe regex, o caractere **s** é opcional. O segundo item corresponde às palavras **you** e **a lot**, que possivelmente podem seguir **thanks?**. O segundo item é opcional; portanto, o padrão corresponde a **thanks** e **thank** também. Usamos o operador **OP: *** para tornar o segundo item opcional; Lembre-se do Capítulo 4, Correspondência Baseada em Regras, que o Matcher suporta a sintaxe do operador com diferentes operadores, como *** , + e ?**.\n",
    "* O terceiro padrão corresponde às sequências de tokens que é **that is all**, **that's all**, **thats all**, e assim por diante. Observe que o primeiro item inclui algumas palavras com erros ortográficos, como **thats** e **thatll**. Incluímos as palavras com erros ortográficos de propósito, para que a correspondência seja mais robusta aos erros de digitação do usuário.\n",
    "\n",
    "Diferentes combinações dos três padrões anteriores corresponderão aos enunciados da classe **NONE**. Você pode experimentar os padrões adicionando-os a um objeto Matcher e ver como eles combinam.\n",
    "> #### DICA PRO\n",
    " > Ao projetar um sistema baseado em regras, tenha sempre em mente que os dados do usuário não são perfeitos. Os dados do usuário contêm erros de digitação, erros gramaticais e capitalização errada. Sempre mantenha a robustez como alta prioridade e teste seus padrões nos dados do usuário.\n",
    "\n",
    "Fizemos um classificador estatístico sem modelo usando alguns padrões comuns e classificamos uma intenção com sucesso. E quanto às outras duas intenções – **FindRestaurants** e **ReserveRestaurant?** Enunciados dessas duas intenções são semanticamente muito mais complicados, então não podemos lidar com listas de padrões. Precisamos de modelos estatísticos para reconhecer essas duas intenções. Vamos treinar nossos classificadores de texto estatísticos com TensorFlow e Keras.\n",
    "\n",
    "### Classificando texto com um LSTM em nível de caractere\n",
    "\n",
    "Nesta seção, treinaremos uma **arquitetura LSTM em nível de caractere para reconhecer as intenções**. Já praticamos classificação de texto com TensorFlow e Keras no Capítulo 8, Classificação de texto com spaCy. Lembre-se deste capítulo que LSTMs são modelos sequenciais que processam uma entrada em uma etapa de tempo. Alimentamos uma palavra em cada passo de tempo da seguinte forma:"
   ],
   "metadata": {
    "collapsed": false
   }
  },
  {
   "cell_type": "code",
   "execution_count": 1,
   "outputs": [
    {
     "data": {
      "image/png": "[encoded data removed]",
      "text/plain": "<IPython.core.display.Image object>"
     },
     "execution_count": 1,
     "metadata": {},
     "output_type": "execute_result"
    }
   ],
   "source": [
    "from IPython.display import Image\n",
    "Image('images/LTSM.PNG')"
   ],
   "metadata": {
    "collapsed": false
   }
  },
  {
   "cell_type": "markdown",
   "source": [
    "Como observamos no Capítulo 8, Classificação de texto com spaCy, os LSTMs têm um estado interno (você pode pensar nisso como uma memória), de modo que os LSTMs podem modelar as dependências sequenciais na sequência de entrada mantendo informações passadas em seu estado interno.\n",
    "\n",
    "Nesta seção, vamos treinar um LSTM de nível caractere. Como o nome sugere, alimentaremos os enunciados caractere por caractere, não palavra por palavra. Cada enunciado será representado como uma sequência de caracteres. A cada passo de tempo, alimentaremos um caractere. É assim que alimenta o enunciado da Figura anterior:"
   ],
   "metadata": {
    "collapsed": false
   }
  },
  {
   "cell_type": "code",
   "execution_count": 2,
   "outputs": [
    {
     "data": {
      "image/png": "[encoded data removed]",
      "text/plain": "<IPython.core.display.Image object>"
     },
     "execution_count": 2,
     "metadata": {},
     "output_type": "execute_result"
    }
   ],
   "source": [
    "Image('images/LTSM1.PNG')"
   ],
   "metadata": {
    "collapsed": false
   }
  },
  {
   "cell_type": "markdown",
   "source": [
    "Notamos que o caractere de espaço também é alimentado como entrada, pois o caractere de espaço também faz parte do enunciado; para tarefas de nível de caractere, não há distinção entre dígitos, espaços e letras.\n",
    "\n",
    "Vamos começar a construir o modelo Keras. Vamos pular a etapa de preparação de dados aqui. Você pode encontrar o código completo no notebook de classificação de intenção https://github.com/PacktPublishing/Mastering- spaCy/blob/main/Chapter10/Intent-classifier-char-LSTM.ipynb.\n",
    "\n",
    "Começaremos diretamente com o Tokenizer do Keras para criar um vocabulário. Lembre-se do Capítulo 8, Classificação de texto com spaCy, que usamos o Tokenizer para fazer o seguinte:\n",
    "* Criar um vocabulário a partir das sentenças do conjunto de dados.\n",
    "* Atribua um ID de token a cada token do conjunto de dados.\n",
    "* Transforme frases de entrada em IDs de token.\n",
    "\n",
    "Vamos ver como executar cada etapa:\n",
    "1. No Capítulo 8, Classificação de texto com spaCy, tokenizamos as frases em palavras e atribuímos IDs de token às palavras. Desta vez, dividiremos a frase de entrada em seus caracteres e atribuiremos IDs de token aos caracteres. O Tokenizer fornece um parâmetro chamado **char_level**. Aqui está o código do Tokenizer para tokenização em nível de caractere:"
   ],
   "metadata": {
    "collapsed": false
   }
  },
  {
   "cell_type": "code",
   "execution_count": 7,
   "outputs": [
    {
     "data": {
      "text/plain": "['I am feeling hungry so I would like to find a place to eat.',\n 'I would like for it to be in San Jose.',\n 'I usually like eating the American type of food.',\n 'Can you give me the address of this restaurant.',\n 'Can you give me the phone number that I can contact them with?',\n 'Is there some other restaurant which you can suggest?',\n 'Do you have another restaurant matching my needs? For example a restaurant which is economical and is located in Palo Alto.',\n 'Alright, that seems good. I would like to make a booking at this restaurant.',\n 'I will be eating there at 11:30 am so make it for then.',\n 'That suits me well. Can you tell me if they feature live music?']"
     },
     "execution_count": 7,
     "metadata": {},
     "output_type": "execute_result"
    }
   ],
   "source": [
    "import json\n",
    "utterances = []\n",
    "labels = []\n",
    "\n",
    "with open(\"restaurants.json\", \"r\") as jfile:\n",
    "    data = json.load(jfile)\n",
    "\n",
    "    for dialogue in data:\n",
    "        turns = dialogue[\"turns\"]\n",
    "        for turn in turns:\n",
    "            speaker = turn[\"speaker\"]\n",
    "            if speaker == \"USER\":\n",
    "                utterance, intent = turn[\"utterance\"], turn[\"intent\"]\n",
    "                label = 1 if intent == \"FindRestaurants\" else 0\n",
    "                utterances.append(utterance)\n",
    "                labels.append(label)\n",
    "\n",
    "utterances[:10]"
   ],
   "metadata": {
    "collapsed": false
   }
  },
  {
   "cell_type": "code",
   "execution_count": 8,
   "outputs": [
    {
     "data": {
      "text/plain": "[1, 1, 1, 1, 1, 1, 1, 0, 0, 0]"
     },
     "execution_count": 8,
     "metadata": {},
     "output_type": "execute_result"
    }
   ],
   "source": [
    "labels[:10]"
   ],
   "metadata": {
    "collapsed": false
   }
  },
  {
   "cell_type": "code",
   "execution_count": 9,
   "outputs": [
    {
     "data": {
      "text/plain": "(1233, 1233)"
     },
     "execution_count": 9,
     "metadata": {},
     "output_type": "execute_result"
    }
   ],
   "source": [
    "len(utterances), len(labels)"
   ],
   "metadata": {
    "collapsed": false
   }
  },
  {
   "cell_type": "code",
   "execution_count": 10,
   "outputs": [],
   "source": [
    "from sklearn.utils import shuffle\n",
    "#Vamos embaralhar para melhorar. Assinalar um random_state para deixar reprodutível os resultados.\n",
    "utterances, labels = shuffle(utterances, labels, random_state=0)"
   ],
   "metadata": {
    "collapsed": false
   }
  },
  {
   "cell_type": "code",
   "execution_count": 11,
   "outputs": [],
   "source": [
    "from tensorflow.keras.preprocessing.text import Tokenizer\n",
    "# Vamos aplicar ao nível caractere=True e realizar alguns filtros de sinais desnecessários.\n",
    "tokenizer = Tokenizer(char_level=True,filters=\".,;'\\\"-\", lower=True)\n",
    "tokenizer.fit_on_texts(utterances)"
   ],
   "metadata": {
    "collapsed": false
   }
  },
  {
   "cell_type": "markdown",
   "source": [
    "2. O segmento de código anterior criará um vocabulário a partir dos caracteres de entrada. Usamos o parâmetro **lower=True**, então todos os caracteres da sentença de entrada são tornados minúsculos pelo Tokenizer. Após inicializar o objeto **Tokenizer** em nosso vocabulário, agora podemos examinar seu vocabulário. Aqui estão os 10 primeiros itens do vocabulário Tokenizer:"
   ],
   "metadata": {
    "collapsed": false
   }
  },
  {
   "cell_type": "code",
   "execution_count": 26,
   "outputs": [
    {
     "name": "stdout",
     "output_type": "stream",
     "text": [
      "  1\n",
      "e 2\n",
      "a 3\n",
      "t 4\n",
      "o 5\n",
      "n 6\n",
      "i 7\n",
      "r 8\n",
      "s 9\n",
      "h 10\n"
     ]
    }
   ],
   "source": [
    "for key, value in tokenizer.word_index.items():\n",
    "\tif value <11:\n",
    "\t\tprint(key,value)"
   ],
   "metadata": {
    "collapsed": false
   }
  },
  {
   "cell_type": "markdown",
   "source": [
    "Assim como no vocabulário em nível de palavra, o índice **0** é reservado para um token especial, que é o caractere de preenchimento. Lembre-se do Capítulo 8, Classificação de texto com spaCy, que Keras não pode processar sequências de comprimento variável; cada sentença no conjunto de dados deve ter o mesmo comprimento. Portanto, preenchemos todas as frases com um comprimento máximo anexando um caractere de preenchimento ao final ou início da frase.\n",
    "3. Em seguida, converteremos cada sentença do conjunto de dados em IDs de token. Isso é feito chamando o método **text_to_sequences** do Tokenizer:"
   ],
   "metadata": {
    "collapsed": false
   }
  },
  {
   "cell_type": "code",
   "execution_count": 27,
   "outputs": [
    {
     "data": {
      "text/plain": "[17,\n 2,\n 9,\n 25,\n 1,\n 7,\n 1,\n 22,\n 3,\n 6,\n 4,\n 1,\n 7,\n 4,\n 1,\n 5,\n 6,\n 1,\n 4,\n 10,\n 2,\n 1,\n 28,\n 28,\n 4,\n 10]"
     },
     "execution_count": 27,
     "metadata": {},
     "output_type": "execute_result"
    }
   ],
   "source": [
    "utterances = tokenizer.texts_to_sequences(utterances)\n",
    "utterances[0]"
   ],
   "metadata": {
    "collapsed": false
   }
  },
  {
   "cell_type": "markdown",
   "source": [
    "4. Em seguida, preencheremos todas as frases de entrada para um comprimento de **150**:"
   ],
   "metadata": {
    "collapsed": false
   }
  },
  {
   "cell_type": "code",
   "execution_count": 31,
   "outputs": [
    {
     "name": "stdout",
     "output_type": "stream",
     "text": [
      "156\n"
     ]
    }
   ],
   "source": [
    "from tensorflow.keras.preprocessing.sequence import pad_sequences\n",
    "# Pegando com base a frase com maior número de caracteres.\n",
    "mutt_len = max([len(ans) for ans in utterances])\n",
    "print(mutt_len)\n",
    "\n",
    "\n",
    "MAX_LEN = 150\n",
    "utterances = pad_sequences(utterances, MAX_LEN, padding=\"post\")"
   ],
   "metadata": {
    "collapsed": false
   }
  },
  {
   "cell_type": "markdown",
   "source": [
    "Estamos prontos para alimentar nosso conjunto de dados transformado em nosso modelo LSTM. Nosso modelo é simples, mas muito eficiente: colocamos uma camada densa em cima de uma camada LSTM bidirecional. Aqui está a arquitetura do modelo:"
   ],
   "metadata": {
    "collapsed": false
   }
  },
  {
   "cell_type": "code",
   "execution_count": 36,
   "outputs": [
    {
     "data": {
      "text/plain": "(numpy.ndarray, numpy.ndarray)"
     },
     "execution_count": 36,
     "metadata": {},
     "output_type": "execute_result"
    }
   ],
   "source": [
    "# O tensorflow gera um np.array como saída.\n",
    "type(utterances[0]), type(utterances[1])"
   ],
   "metadata": {
    "collapsed": false
   }
  },
  {
   "cell_type": "code",
   "execution_count": 37,
   "outputs": [
    {
     "data": {
      "text/plain": "((1233, 150), (1233,))"
     },
     "execution_count": 37,
     "metadata": {},
     "output_type": "execute_result"
    }
   ],
   "source": [
    "import numpy as np\n",
    "# para facilitar vamos nomear utterantes e labels como np.array (facilita na inserção do código)\n",
    "utterances, labels = np.array(utterances), np.array(labels)\n",
    "utterances.shape, labels.shape"
   ],
   "metadata": {
    "collapsed": false
   }
  },
  {
   "cell_type": "code",
   "execution_count": 38,
   "outputs": [],
   "source": [
    "from tensorflow.keras.layers import LSTM,Dense, Conv1D, MaxPooling1D, Bidirectional, Dropout, Input, Embedding\n",
    "\n",
    "utt_in = Input(shape=(MAX_LEN,))\n",
    "\n",
    "embedding_layer =  Embedding(input_dim = len(tokenizer.word_index)+1, output_dim = 100, input_length=MAX_LEN)\n",
    "lstm =  Bidirectional(LSTM(units=100, return_sequences=False))\n",
    "\n",
    "utt_embedding = embedding_layer(utt_in)\n",
    "utt_encoded = lstm(utt_embedding)\n",
    "\n",
    "output = Dense(1, activation='sigmoid')(utt_encoded)"
   ],
   "metadata": {
    "collapsed": false
   }
  },
  {
   "cell_type": "markdown",
   "source": [
    "Uma camada LSTM bidirecional significa dois LSTMs empilhados um em cima do outro. O primeiro LSTM percorre a sequência de entrada da esquerda para a direita (na direção para frente) e o segundo LSTM percorre a sequência de entrada da direita para a esquerda (na direção para trás). Para cada passo de tempo, as saídas do LSTM direto e do LSTM retroativo são concatenadas para gerar um único vetor de saída. A figura a seguir mostra nossa arquitetura com um LSTM bidirecional:"
   ],
   "metadata": {
    "collapsed": false
   }
  },
  {
   "cell_type": "code",
   "execution_count": 42,
   "outputs": [
    {
     "data": {
      "image/png": "[encoded data removed]",
      "text/plain": "<IPython.core.display.Image object>"
     },
     "execution_count": 42,
     "metadata": {},
     "output_type": "execute_result"
    }
   ],
   "source": [
    "Image('images/bidirecional_LTSM.PNG')"
   ],
   "metadata": {
    "collapsed": false
   }
  },
  {
   "cell_type": "markdown",
   "source": [
    "5. Em seguida, compilamos nosso modelo e o treinamos em nosso conjunto de dados chamando **model.fit**:"
   ],
   "metadata": {
    "collapsed": false
   }
  },
  {
   "cell_type": "code",
   "execution_count": 43,
   "outputs": [
    {
     "name": "stdout",
     "output_type": "stream",
     "text": [
      "Model: \"model\"\n",
      "_________________________________________________________________\n",
      " Layer (type)                Output Shape              Param #   \n",
      "=================================================================\n",
      " input_1 (InputLayer)        [(None, 150)]             0         \n",
      "                                                                 \n",
      " embedding (Embedding)       (None, 150, 100)          4700      \n",
      "                                                                 \n",
      " bidirectional (Bidirectiona  (None, 200)              160800    \n",
      " l)                                                              \n",
      "                                                                 \n",
      " dense (Dense)               (None, 1)                 201       \n",
      "                                                                 \n",
      "=================================================================\n",
      "Total params: 165,701\n",
      "Trainable params: 165,701\n",
      "Non-trainable params: 0\n",
      "_________________________________________________________________\n"
     ]
    }
   ],
   "source": [
    "from tensorflow.keras.models import Model\n",
    "model = Model(utt_in, output)\n",
    "model.compile(loss = 'binary_crossentropy', optimizer = \"adam\", metrics=[\"accuracy\"])\n",
    "model.summary()"
   ],
   "metadata": {
    "collapsed": false
   }
  },
  {
   "cell_type": "code",
   "execution_count": 44,
   "outputs": [
    {
     "name": "stdout",
     "output_type": "stream",
     "text": [
      "Epoch 1/10\n",
      "18/18 [==============================] - 6s 82ms/step - loss: 0.6791 - accuracy: 0.5546 - val_loss: 0.6431 - val_accuracy: 0.6774\n",
      "Epoch 2/10\n",
      "18/18 [==============================] - 1s 32ms/step - loss: 0.6000 - accuracy: 0.7205 - val_loss: 0.5119 - val_accuracy: 0.8145\n",
      "Epoch 3/10\n",
      "18/18 [==============================] - 1s 31ms/step - loss: 0.5139 - accuracy: 0.7619 - val_loss: 0.4601 - val_accuracy: 0.7984\n",
      "Epoch 4/10\n",
      "18/18 [==============================] - 1s 31ms/step - loss: 0.4405 - accuracy: 0.8007 - val_loss: 0.3567 - val_accuracy: 0.8548\n",
      "Epoch 5/10\n",
      "18/18 [==============================] - 1s 31ms/step - loss: 0.3871 - accuracy: 0.8503 - val_loss: 0.3595 - val_accuracy: 0.8629\n",
      "Epoch 6/10\n",
      "18/18 [==============================] - 1s 30ms/step - loss: 0.3521 - accuracy: 0.8683 - val_loss: 0.3520 - val_accuracy: 0.8871\n",
      "Epoch 7/10\n",
      "18/18 [==============================] - 1s 31ms/step - loss: 0.3103 - accuracy: 0.8792 - val_loss: 0.2921 - val_accuracy: 0.9032\n",
      "Epoch 8/10\n",
      "18/18 [==============================] - 1s 30ms/step - loss: 0.2945 - accuracy: 0.8855 - val_loss: 0.3169 - val_accuracy: 0.8629\n",
      "Epoch 9/10\n",
      "18/18 [==============================] - 1s 31ms/step - loss: 0.2945 - accuracy: 0.8864 - val_loss: 0.2933 - val_accuracy: 0.8871\n",
      "Epoch 10/10\n",
      "18/18 [==============================] - 1s 32ms/step - loss: 0.2887 - accuracy: 0.8900 - val_loss: 0.2876 - val_accuracy: 0.8871\n"
     ]
    },
    {
     "data": {
      "text/plain": "<keras.callbacks.History at 0x264627495a0>"
     },
     "execution_count": 44,
     "metadata": {},
     "output_type": "execute_result"
    }
   ],
   "source": [
    "model.fit(utterances, labels, validation_split=0.1, epochs = 10, batch_size = 64)"
   ],
   "metadata": {
    "collapsed": false
   }
  },
  {
   "cell_type": "markdown",
   "source": [
    "Aqui, compilamos nosso modelo com o seguinte:\n",
    "1. Perda de entropia cruzada binária, porque esta é uma tarefa de classificação binária (temos dois rótulos de classe).\n",
    "2. O otimizador **Adam**, que ajudará o procedimento de treinamento a ser executado mais rapidamente, organizando o tamanho das etapas de treinamento.\n",
    "3. *Accuracy** como nossa métrica de sucesso. A *Accuracy* é calculada comparando a frequência com que o rótulo previsto é igual ao rótulo real.\n",
    "\n",
    "Depois de ajustar nosso modelo, nosso modelo fornece uma precisão de **0,9032** no conjunto de validação, o que é bastante bom. Agora, resta apenas uma pergunta: por que preferimos treinar um modelo de nível de personagem desta vez? Os modelos em nível de caractere definitivamente têm algumas vantagens:\n",
    "* Os modelos em nível de caractere são altamente tolerantes a erros de ortografia. Considere a palavra incorreta **charactr** – se o e está faltando ou não, não afeta muito a semântica geral da frase. Para nosso conjunto de dados, nos beneficiaremos dessa robustez, pois já vimos erros de ortografia de usuários em nossa exploração de conjunto de dados.\n",
    "* O tamanho do vocabulário é menor do que um modelo de nível de palavra. O número de caracteres no alfabeto (para qualquer idioma) é fixo e baixo (no máximo 50 caracteres, incluindo letras maiúsculas e minúsculas, dígitos e alguma pontuação); mas o número de palavras em uma língua é muito maior. Como resultado, os tamanhos dos modelos podem diferir. A principal diferença está na camada de incorporação; uma tabela de incorporação é de tamanho (**vocabulary_size, output_dim**) (consulte o código do modelo). Dado que as dimensões de saída são as mesmas, **50 linhas** são muito pequenas em comparação com milhares de linhas.\n",
    "\n",
    "Nesta seção, conseguimos extrair a intenção do usuário dos enunciados. O reconhecimento de intenção é o principal passo para entender a semântica da sentença, mas há algo mais? Na próxima seção, vamos mergulhar na semântica em nível de frase e em nível de diálogo. Mais análise semântica.\n",
    "\n",
    "Esta é uma seção exclusivamente sobre chatbot NLU. Nesta seção, exploraremos informações semânticas e sintáticas em nível de sentença para gerar uma compreensão mais profunda dos enunciados de entrada, além de fornecer pistas para a geração de respostas.\n",
    "\n",
    "No restante desta seção, pense no componente de geração de respostas como uma caixa preta. Fornecemos a análise semântica da frase e ela gera uma resposta com base nessa análise semântica. Vamos começar dissecando a sintaxe das frases e examinando os sujeitos e objetos dos enunciados.\n",
    "\n",
    "### Diferenciando sujeitos de objetos\n",
    "Lembre-se do Capítulo 3, Características linguísticas, que uma sentença tem dois componentes gramaticais importantes: um **sujeito** e um **objeto**. O sujeito é a pessoa ou coisa que realiza a ação dada pelo verbo da frase:\n",
    "\n",
    "* **Mary** picked up her brother.\n",
    "* **He** was a great performer.\n",
    "* **It** was rainy on Sunday.\n",
    "* **Who** is responsible for this mess?\n",
    "* **The cat** is very cute.\n",
    "* **Seeing you** makes me happy.\n",
    "\n",
    "Um sujeito pode ser um substantivo, um pronome ou uma frase nominal.\n",
    "\n",
    "Um objeto é a coisa ou pessoa sobre a qual o sujeito realiza a ação dada pelo verbo. Um objeto pode ser um substantivo, um pronome ou uma frase nominal também. aqui estão alguns exemplos:\n",
    "* Lauren lost **her book**.\n",
    "I gave **her**/direct object **a book**/indirect object."
   ],
   "metadata": {
    "collapsed": false
   }
  },
  {
   "cell_type": "markdown",
   "source": [
    "Até aqui tudo bem, mas como essa informação nos ajuda em nosso chatbot NLU? Extrair o sujeito e o objeto nos ajuda a entender a estrutura da frase, adicionando mais uma camada à análise semântica da frase. As informações do sujeito e do objeto da sentença estão diretamente relacionadas à geração de respostas. Vejamos alguns exemplos de enunciados do nosso conjunto de dados:\n",
    "\n",
    "* Where is this restaurant?\n",
    "\n",
    "A figura a seguir mostra a análise de dependência desse enunciado. O assunto é a frase nominal **this restaurant**:"
   ],
   "metadata": {
    "collapsed": false
   }
  }
 ],
 "metadata": {
  "kernelspec": {
   "display_name": "Python 3",
   "language": "python",
   "name": "python3"
  },
  "language_info": {
   "codemirror_mode": {
    "name": "ipython",
    "version": 2
   },
   "file_extension": ".py",
   "mimetype": "text/x-python",
   "name": "python",
   "nbconvert_exporter": "python",
   "pygments_lexer": "ipython2",
   "version": "2.7.6"
  }
 },
 "nbformat": 4,
 "nbformat_minor": 0
}
