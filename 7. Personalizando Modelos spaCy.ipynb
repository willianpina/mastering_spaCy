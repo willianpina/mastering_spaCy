{
 "cells": [
  {
   "cell_type": "markdown",
   "source": [
    "<h1 align=center>Capítulo 7: Personalizando Modelos SpaCy</h1>\n",
    "<p align=center><img src=https://blog.desdelinux.net/wp-content/uploads/2021/02/procesamiento-de-lenguaje-natural.png width=500></p>\n",
    "\n",
    "Neste capítulo, você aprenderá a treinar, armazenar e usar componentes de pipeline estatísticos personalizados. Primeiro, discutiremos quando exatamente devemos realizar o treinamento de modelo personalizado. Em seguida, você aprenderá uma etapa fundamental do treinamento de modelos – como coletar e rotular seus próprios dados.\n",
    "\n",
    "Neste capítulo, você também aprenderá a fazer o melhor uso do **Prodigy**, a ferramenta de anotação. Em seguida, você aprenderá como atualizar um componente de pipeline estatístico existente com seus próprios dados. Atualizaremos o componente **reconhecedor de entidade nomeada (NER)** do pipeline spaCy com nossos próprios dados rotulados.\n",
    "\n",
    "Por fim, você aprenderá a criar um componente de pipeline estatístico do zero com seus próprios dados e rótulos. Para isso, voltaremos a treinar um modelo NER. Este capítulo apresenta uma prática completa de aprendizado de máquina, incluindo coleta de dados, anotação de dados e treinamento de um modelo para extração de informações.\n",
    "\n",
    "Ao final deste capítulo, você estará pronto para treinar modelos spaCy em seus próprios dados. Você terá o conjunto completo de habilidades para coletar dados, pré-processar dados no formato que o spaCy pode reconhecer e, finalmente, treinar modelos spaCy com esses dados. Neste capítulo, abordaremos os seguintes tópicos principais:\n",
    " * Introdução à preparação de dados\n",
    " * Anotação e preparação de dados\n",
    " * Atualização de um componente de pipeline existente\n",
    " * Treinando um componente de pipeline do zero\n",
    "\n",
    "## Introdução à preparação de dados\n",
    "Nos capítulos anteriores, vimos como tirar o melhor proveito dos modelos estatísticos pré-treinados do spaCy (incluindo o **tagger POS**, **NER** e **analisador de dependência**) em nossos aplicativos. Neste capítulo, veremos como personalizar os modelos estatísticos para nosso domínio e dados personalizados.\n",
    "\n",
    "Os modelos *spaCy* são muito bem-sucedidos para propósitos gerais de NLP, como entender a sintaxe de uma frase, dividir um parágrafo em frases e extrair algumas entidades. No entanto, às vezes, trabalhamos em domínios muito específicos que os modelos *spaCy* não viram durante o treinamento.\n",
    "\n",
    "Por exemplo, o texto do Twitter contém muitas palavras não regulares, como hashtags, emoticons e menções. Além disso, as frases do Twitter geralmente são apenas frases, não frases completas. Aqui, é inteiramente razoável que o tagger POS da spaCy funcione de maneira abaixo do padrão, já que o tagger POS é treinado em frases completas e gramaticalmente corretas em inglês. Outro exemplo é o domínio médico. O domínio médico contém muitas entidades, como nomes de drogas, doenças e compostos químicos. Não se espera que essas entidades sejam reconhecidas pelo modelo NER da spaCy porque não possui rótulos de entidade de doença ou medicamento. O NER não sabe nada sobre o domínio médico. Treinar seus modelos personalizados requer tempo e esforço. Antes mesmo de iniciar o processo de treinamento, você deve decidir se o treinamento é realmente necessário. Para determinar se você realmente precisa de treinamento personalizado, você precisará se fazer as seguintes perguntas: Os modelos spaCy funcionam bem o suficiente em seus dados? Seu domínio inclui muitos rótulos ausentes nos modelos spaCy? Já existe um modelo/aplicativo pré-treinado no GitHub ou em outro lugar? (Não gostaríamos de reinventar a roda.) Vamos discutir essas questões em detalhes nas próximas seções. Os modelos spaCy funcionam bem o suficiente em seus dados? Se o modelo tiver um desempenho suficientemente bom (acima de 0,75 de precisão), você poderá personalizar a saída do modelo por meio de outro componente spaCy. Por exemplo, digamos que trabalhamos no domínio de navegação e temos enunciados como os seguintes:"
   ],
   "metadata": {
    "collapsed": false
   }
  }
 ],
 "metadata": {
  "kernelspec": {
   "display_name": "Python 3",
   "language": "python",
   "name": "python3"
  },
  "language_info": {
   "codemirror_mode": {
    "name": "ipython",
    "version": 2
   },
   "file_extension": ".py",
   "mimetype": "text/x-python",
   "name": "python",
   "nbconvert_exporter": "python",
   "pygments_lexer": "ipython2",
   "version": "2.7.6"
  }
 },
 "nbformat": 4,
 "nbformat_minor": 0
}
