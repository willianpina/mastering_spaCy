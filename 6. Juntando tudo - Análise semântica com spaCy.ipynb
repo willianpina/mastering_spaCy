{
 "cells": [
  {
   "cell_type": "markdown",
   "source": [
    "<h1 align=center>Capítulo 6: Juntando tudo: Análise semântica com spaCy</h1>\n",
    "<p align=center><img src=https://miro.medium.com/max/1050/1*6WATd2e85VuqFhkg5RQonQ.jpeg width=500></p>\n",
    "\n",
    "Esta é uma seção puramente prática. Neste capítulo, aplicaremos o que aprendemos até agora ao **Airline Travel Information System (ATIS)**, um conhecido conjunto de dados do sistema de reserva de passagens aéreas. Em primeiro lugar, conheceremos nosso conjunto de dados e faremos as estatísticas básicas. Como a primeira tarefa de **compreensão de linguagem natural (NLU)**, vamos extrair as entidades nomeadas com dois métodos diferentes, com *spaCy Matcher*, e andando na árvore de dependências.\n",
    "\n",
    "A próxima tarefa é determinar a intenção do enunciado do usuário. Também exploraremos o reconhecimento de intenção de diferentes maneiras: extraindo os verbos e seus objetos diretos, usando listas de palavras e andando na árvore de dependência para reconhecer várias intenções. Em seguida, você combinará suas palavras-chave com sinônimos de uma lista de sinônimos para detectar semelhança semântica.\n",
    "\n",
    "Além disso, você fará a correspondência de palavras-chave com métodos de semelhança semântica baseados em vetor de palavras. Por fim, combinaremos todas essas informações para gerar uma representação semântica para os enunciados do conjunto de dados.\n",
    "\n",
    "No final deste capítulo, você aprenderá a processar completamente um conjunto de dados do mundo real semanticamente. Você aprenderá a extrair entidades, reconhecer *intents* e realizar cálculos de similaridade semântica. As ferramentas deste capítulo são realmente o que você construirá para um pipeline de **processamento de linguagem natural (NLP)** do mundo real, incluindo um chatbot NLU e um aplicativo de suporte ao cliente NLU.\n",
    "\n",
    "Neste capítulo, abordaremos os seguintes tópicos principais:\n",
    "1. Extraindo entidades nomeadas\n",
    "2. Usando relações de dependência para reconhecimento de intenção\n",
    "3. Métodos de similaridade semântica para análise semântica\n",
    "4. Juntando tudo"
   ],
   "metadata": {
    "collapsed": false
   }
  },
  {
   "cell_type": "markdown",
   "source": [
    "## Extraindo entidades nomeadas\n",
    "Em muitos aplicativos de NLP, incluindo análise semântica, começamos a procurar significado em um texto examinando os tipos de entidade e colocando um componente de extração de entidade em nossos pipelines de NLP. **As entidades nomeadas** desempenham um papel fundamental na compreensão do significado do texto do usuário.\n",
    "\n",
    "Também iniciaremos um pipeline de análise semântica extraindo as entidades nomeadas de nosso corpus. Para entender que tipo de entidades queremos extrair, primeiro, conheceremos o conjunto de dados ATIS.\n",
    "\n",
    "### Conhecendo o conjunto de dados ATIS\n",
    "Ao longo deste capítulo, trabalharemos com o corpus ATIS. ATIS é um conjunto de dados bem conhecido; é um dos conjuntos de dados de referência padrão para classificação de intenção. O conjunto de dados consiste em declarações de clientes que desejam reservar um voo, obter informações sobre os voos, incluindo custos de voo, destinos de voo e horários.\n",
    "\n",
    "Não importa qual seja a tarefa da NLP, você deve sempre examinar seu corpus a olho nu. Queremos conhecer nosso corpus para integrar nossas observações de corpus em nosso código. Ao visualizar nossos dados de texto, geralmente observamos o seguinte:\n",
    "* Que tipo de enunciados existem? É um corpus de texto curto ou o corpus consiste em documentos longos ou parágrafos de tamanho médio?\n",
    "* Que tipo de entidades o corpus inclui? Nomes de pessoas, nomes de cidades, nomes de países, nomes de organizações e assim por diante. Quais queremos extrair?\n",
    "* Como a pontuação é usada? O texto está pontuado corretamente ou nenhuma pontuação é usada?\n",
    "* Como as regras gramaticais são seguidas? A capitalização está correta? Os usuários seguiram as regras gramaticais? Existem palavras incorretas?\n",
    "\n",
    "Antes de iniciar qualquer processamento, examinaremos nosso corpus. Vamos em frente e baixar o conjunto de dados:\n",
    "~~~python\n",
    "https://github.com/PacktPublishing/Mastering-spaCy/blob/main/Chapter06/data/atis_intents.csv\n",
    "~~~\n",
    "\n",
    "O conjunto de dados é um arquivo CSV de duas colunas. Primeiro, obteremos alguns insights sobre as estatísticas do conjunto de dados com pandas. pandas é uma biblioteca de manipulação de dados popular que é frequentemente usada por cientistas de dados. Você pode ler mais em https://pandas.pydata.org/pandas-docs/version/0.15/tutorials.html.\n",
    "\n",
    "1. Vamos começar lendo o arquivo CSV em Python. Usaremos o método **read_csv** dos pandas:"
   ],
   "metadata": {
    "collapsed": false
   }
  },
  {
   "cell_type": "code",
   "execution_count": 2,
   "outputs": [],
   "source": [
    "import pandas as pd\n",
    "dataset = pd.read_csv('atis_intents.csv', header=None, encoding='utf8', sep=',')"
   ],
   "metadata": {
    "collapsed": false
   }
  },
  {
   "cell_type": "markdown",
   "source": [
    "A variável do conjunto de dados mantém o CSV como um objeto para nós.\n",
    "2. Em seguida, chamaremos **head()** no objeto dataset. **head()** gera as primeiras 10 colunas do conjunto de dados:"
   ],
   "metadata": {
    "collapsed": false
   }
  },
  {
   "cell_type": "code",
   "execution_count": 3,
   "outputs": [
    {
     "data": {
      "text/plain": "                  0                                                  1\n0       atis_flight   i want to fly from boston at 838 am and arriv...\n1       atis_flight   what flights are available from pittsburgh to...\n2  atis_flight_time   what is the arrival time in san francisco for...\n3      atis_airfare            cheapest airfare from tacoma to orlando\n4      atis_airfare   round trip fares from pittsburgh to philadelp...",
      "text/html": "<div>\n<style scoped>\n    .dataframe tbody tr th:only-of-type {\n        vertical-align: middle;\n    }\n\n    .dataframe tbody tr th {\n        vertical-align: top;\n    }\n\n    .dataframe thead th {\n        text-align: right;\n    }\n</style>\n<table border=\"1\" class=\"dataframe\">\n  <thead>\n    <tr style=\"text-align: right;\">\n      <th></th>\n      <th>0</th>\n      <th>1</th>\n    </tr>\n  </thead>\n  <tbody>\n    <tr>\n      <th>0</th>\n      <td>atis_flight</td>\n      <td>i want to fly from boston at 838 am and arriv...</td>\n    </tr>\n    <tr>\n      <th>1</th>\n      <td>atis_flight</td>\n      <td>what flights are available from pittsburgh to...</td>\n    </tr>\n    <tr>\n      <th>2</th>\n      <td>atis_flight_time</td>\n      <td>what is the arrival time in san francisco for...</td>\n    </tr>\n    <tr>\n      <th>3</th>\n      <td>atis_airfare</td>\n      <td>cheapest airfare from tacoma to orlando</td>\n    </tr>\n    <tr>\n      <th>4</th>\n      <td>atis_airfare</td>\n      <td>round trip fares from pittsburgh to philadelp...</td>\n    </tr>\n  </tbody>\n</table>\n</div>"
     },
     "execution_count": 3,
     "metadata": {},
     "output_type": "execute_result"
    }
   ],
   "source": [
    "dataset.head()"
   ],
   "metadata": {
    "collapsed": false
   }
  },
  {
   "cell_type": "markdown",
   "source": [
    "Como você vê, o objeto de conjunto de dados contém linhas e colunas. Na verdade, é um objeto CSV. A primeira coluna contém a intenção e a segunda coluna contém o enunciado do usuário.\n",
    "3. Agora podemos imprimir alguns enunciados de exemplo:"
   ],
   "metadata": {
    "collapsed": false
   }
  },
  {
   "cell_type": "code",
   "execution_count": 4,
   "outputs": [
    {
     "name": "stdout",
     "output_type": "stream",
     "text": [
      " i want to fly from boston at 838 am and arrive in denver at 1110 in the morning\n",
      " what flights are available from pittsburgh to baltimore on thursday morning\n",
      " what is the arrival time in san francisco for the 755 am flight leaving washington\n",
      " cheapest airfare from tacoma to orlando\n",
      " round trip fares from pittsburgh to philadelphia under 1000 dollars\n"
     ]
    }
   ],
   "source": [
    "for text in dataset[1].head():\n",
    "\tprint(text)"
   ],
   "metadata": {
    "collapsed": false
   }
  },
  {
   "cell_type": "markdown",
   "source": [
    "Como podemos ver, o primeiro usuário deseja reservar um voo; incluíam o destino, as cidades de origem e o tempo de voo. O terceiro usuário está perguntando sobre o horário de chegada de um voo específico e o quinto usuário fez uma consulta com um limite de preço. Os enunciados não são capitalizados ou pontuados. Isso ocorre porque esses enunciados são uma saída de um mecanismo de *speech-to-text*.\n",
    "\n",
    "4. Por último, podemos ver a distribuição do número de enunciados por intenção:"
   ],
   "metadata": {
    "collapsed": false
   }
  },
  {
   "cell_type": "code",
   "execution_count": 5,
   "outputs": [
    {
     "name": "stdout",
     "output_type": "stream",
     "text": [
      "0\n",
      "atis_abbreviation                            147\n",
      "atis_aircraft                                 81\n",
      "atis_aircraft#atis_flight#atis_flight_no       1\n",
      "atis_airfare                                 423\n",
      "atis_airfare#atis_flight_time                  1\n",
      "atis_airline                                 157\n",
      "atis_airline#atis_flight_no                    2\n",
      "atis_airport                                  20\n",
      "atis_capacity                                 16\n",
      "atis_cheapest                                  1\n",
      "atis_city                                     19\n",
      "atis_distance                                 20\n",
      "atis_flight                                 3666\n",
      "atis_flight#atis_airfare                      21\n",
      "atis_flight_no                                12\n",
      "atis_flight_time                              54\n",
      "atis_ground_fare                              18\n",
      "atis_ground_service                          255\n",
      "atis_ground_service#atis_ground_fare           1\n",
      "atis_meal                                      6\n",
      "atis_quantity                                 51\n",
      "atis_restriction                               6\n",
      "dtype: int64\n"
     ]
    }
   ],
   "source": [
    "grouped = dataset.groupby(0).size()\n",
    "print(grouped)"
   ],
   "metadata": {
    "collapsed": false
   }
  },
  {
   "cell_type": "markdown",
   "source": [
    "5. Após este ponto, processaremos apenas o texto do enunciado. Portanto, podemos descartar a primeira coluna. Para fazer isso, vamos fazer um pequeno truque com a ferramenta Unix awk:\n",
    "~~~python\n",
    "awk -F ',' '{print $2}' atis_intents.csv > atis_utterances.txt\n",
    "~~~\n",
    "Aqui, imprimimos a segunda coluna do arquivo CSV de entrada (onde o separador de arquivo é um **,**) e direcionamos a saída para um arquivo de texto chamado **atis_utterances.txt**. Agora que nossos enunciados estão prontos para serem processados, podemos prosseguir e extrair as entidades."
   ],
   "metadata": {
    "collapsed": false
   }
  },
  {
   "cell_type": "code",
   "execution_count": 6,
   "outputs": [],
   "source": [
    "dataset[1].to_csv('atis_utterances.csv', header=None)"
   ],
   "metadata": {
    "collapsed": false
   }
  },
  {
   "cell_type": "markdown",
   "source": [
    "### Extraindo entidades nomeadas com o Matcher\n",
    "Como já vimos, este é um conjunto de dados de voos. Portanto, esperamos ver nomes de cidades/países, nomes de aeroportos e nomes de companhias aéreas:\n",
    "1. Aqui estão alguns exemplos:\n",
    "~~~python\n",
    "does american airlines fly from boston to san francisco\n",
    "what flights go from dallas to tampa\n",
    "show me the flights from montreal to chicago\n",
    "what flights do you have from ontario\n",
    "The users also provide the dates, times, days of the weeks they\n",
    "wish to fly on. These entities include numbers, month names, day\n",
    "of the week names as well as time adverbs such as next week,\n",
    "today, tomorrow, next month. Let's see some example entities:\n",
    "list flights from atlanta to boston leaving between 6 pm and 10\n",
    "pm on august eighth\n",
    "i need a flight after 6 pm on wednesday from oakland to salt\n",
    "lake city\n",
    "show me flights from minneapolis to seattle on july second\n",
    "what flights leave after 7 pm from philadelphia to boston\n",
    "~~~\n",
    "2. Além disso, a intenção **atis_abbreviation** contém enunciados que são perguntas sobre algumas abreviações. As abreviações de voos podem ser códigos de tarifa (por exemplo, M = Economy), códigos de nome de companhia aérea (por exemplo, United Airlines = UA) e códigos de aeroporto (por exemplo, Aeroporto de Berlim = BER) e assim por diante. Os exemplos incluem o seguinte:\n",
    "~~~python\n",
    "what does the abbreviation ua mean\n",
    "what does restriction ap 57 mean\n",
    "explain restriction ap please\n",
    "what's fare code yn\n",
    "~~~\n",
    "3. Vamos visualizar alguns enunciados do conjunto de dados. A captura de tela a seguir mostra as entidades com seus tipos:"
   ],
   "metadata": {
    "collapsed": false
   }
  },
  {
   "cell_type": "code",
   "execution_count": 7,
   "outputs": [
    {
     "data": {
      "text/plain": "<IPython.core.display.HTML object>",
      "text/html": "<span class=\"tex2jax_ignore\"><div class=\"entities\" style=\"line-height: 2.5; direction: ltr\">show me the flights from \n<mark class=\"entity\" style=\"background: #feca74; padding: 0.45em 0.6em; margin: 0 0.25em; line-height: 1; border-radius: 0.35em;\">\n    montreal\n    <span style=\"font-size: 0.8em; font-weight: bold; line-height: 1; border-radius: 0.35em; vertical-align: middle; margin-left: 0.5rem\">GPE</span>\n</mark>\n to \n<mark class=\"entity\" style=\"background: #feca74; padding: 0.45em 0.6em; margin: 0 0.25em; line-height: 1; border-radius: 0.35em;\">\n    chicago\n    <span style=\"font-size: 0.8em; font-weight: bold; line-height: 1; border-radius: 0.35em; vertical-align: middle; margin-left: 0.5rem\">GPE</span>\n</mark>\n</div></span>"
     },
     "metadata": {},
     "output_type": "display_data"
    },
    {
     "data": {
      "text/plain": "<IPython.core.display.HTML object>",
      "text/html": "<span class=\"tex2jax_ignore\"><div class=\"entities\" style=\"line-height: 2.5; direction: ltr\">does \n<mark class=\"entity\" style=\"background: #7aecec; padding: 0.45em 0.6em; margin: 0 0.25em; line-height: 1; border-radius: 0.35em;\">\n    american airlines\n    <span style=\"font-size: 0.8em; font-weight: bold; line-height: 1; border-radius: 0.35em; vertical-align: middle; margin-left: 0.5rem\">ORG</span>\n</mark>\n fly from \n<mark class=\"entity\" style=\"background: #feca74; padding: 0.45em 0.6em; margin: 0 0.25em; line-height: 1; border-radius: 0.35em;\">\n    boston\n    <span style=\"font-size: 0.8em; font-weight: bold; line-height: 1; border-radius: 0.35em; vertical-align: middle; margin-left: 0.5rem\">GPE</span>\n</mark>\n to \n<mark class=\"entity\" style=\"background: #feca74; padding: 0.45em 0.6em; margin: 0 0.25em; line-height: 1; border-radius: 0.35em;\">\n    san francisco\n    <span style=\"font-size: 0.8em; font-weight: bold; line-height: 1; border-radius: 0.35em; vertical-align: middle; margin-left: 0.5rem\">GPE</span>\n</mark>\n</div></span>"
     },
     "metadata": {},
     "output_type": "display_data"
    },
    {
     "data": {
      "text/plain": "<IPython.core.display.HTML object>",
      "text/html": "<span class=\"tex2jax_ignore\"><div class=\"entities\" style=\"line-height: 2.5; direction: ltr\">show me flights from \n<mark class=\"entity\" style=\"background: #feca74; padding: 0.45em 0.6em; margin: 0 0.25em; line-height: 1; border-radius: 0.35em;\">\n    minneapolis\n    <span style=\"font-size: 0.8em; font-weight: bold; line-height: 1; border-radius: 0.35em; vertical-align: middle; margin-left: 0.5rem\">GPE</span>\n</mark>\n to \n<mark class=\"entity\" style=\"background: #feca74; padding: 0.45em 0.6em; margin: 0 0.25em; line-height: 1; border-radius: 0.35em;\">\n    seattle\n    <span style=\"font-size: 0.8em; font-weight: bold; line-height: 1; border-radius: 0.35em; vertical-align: middle; margin-left: 0.5rem\">GPE</span>\n</mark>\n on \n<mark class=\"entity\" style=\"background: #bfe1d9; padding: 0.45em 0.6em; margin: 0 0.25em; line-height: 1; border-radius: 0.35em;\">\n    july second\n    <span style=\"font-size: 0.8em; font-weight: bold; line-height: 1; border-radius: 0.35em; vertical-align: middle; margin-left: 0.5rem\">DATE</span>\n</mark>\n</div></span>"
     },
     "metadata": {},
     "output_type": "display_data"
    },
    {
     "data": {
      "text/plain": "<IPython.core.display.HTML object>",
      "text/html": "<span class=\"tex2jax_ignore\"><div class=\"entities\" style=\"line-height: 2.5; direction: ltr\">what flights leave after \n<mark class=\"entity\" style=\"background: #bfe1d9; padding: 0.45em 0.6em; margin: 0 0.25em; line-height: 1; border-radius: 0.35em;\">\n    7 pm\n    <span style=\"font-size: 0.8em; font-weight: bold; line-height: 1; border-radius: 0.35em; vertical-align: middle; margin-left: 0.5rem\">TIME</span>\n</mark>\n from \n<mark class=\"entity\" style=\"background: #feca74; padding: 0.45em 0.6em; margin: 0 0.25em; line-height: 1; border-radius: 0.35em;\">\n    philadelphia\n    <span style=\"font-size: 0.8em; font-weight: bold; line-height: 1; border-radius: 0.35em; vertical-align: middle; margin-left: 0.5rem\">GPE</span>\n</mark>\n to \n<mark class=\"entity\" style=\"background: #feca74; padding: 0.45em 0.6em; margin: 0 0.25em; line-height: 1; border-radius: 0.35em;\">\n    boston\n    <span style=\"font-size: 0.8em; font-weight: bold; line-height: 1; border-radius: 0.35em; vertical-align: middle; margin-left: 0.5rem\">GPE</span>\n</mark>\n</div></span>"
     },
     "metadata": {},
     "output_type": "display_data"
    }
   ],
   "source": [
    "import spacy\n",
    "from spacy import displacy\n",
    "nlp = spacy.load('en_core_web_md')\n",
    "\n",
    "doc1 =nlp('show me the flights from montreal to chicago')\n",
    "doc2 = nlp('does american airlines fly from boston to san francisco')\n",
    "doc3 = nlp('show me flights from minneapolis to seattle on july second')\n",
    "doc4 = nlp(\"what flights leave after 7 pm from philadelphia to boston\")\n",
    "\n",
    "displacy.render(doc1, style='ent')\n",
    "displacy.render(doc2, style='ent')\n",
    "displacy.render(doc3, style='ent')\n",
    "displacy.render(doc4, style='ent')"
   ],
   "metadata": {
    "collapsed": false
   }
  },
  {
   "cell_type": "markdown",
   "source": [
    "4. Podemos ver todos os tipos de entidade e suas frequências de forma mais sistemática. O segmento de código a seguir realiza as seguintes ações:\n",
    "   * Lê o arquivo de texto dos enunciados que criamos na subseção anterior de exploração do conjunto de dados.\n",
    "   * Ele itera sobre cada enunciado e cria um objeto Doc.\n",
    "   * Extrai entidades do objeto doc atual.\n",
    "   * Atualiza a lista global de rótulos de entidades com os rótulos das entidades.\n",
    "   * Finalmente calcula a frequência de cada etiqueta com um objeto contador.\n",
    "\n",
    "Aqui está o código:"
   ],
   "metadata": {
    "collapsed": false
   }
  },
  {
   "cell_type": "code",
   "execution_count": 8,
   "outputs": [
    {
     "name": "stdout",
     "output_type": "stream",
     "text": [
      "Counter({'GPE': 9125, 'CARDINAL': 4144, 'DATE': 2283, 'TIME': 993, 'ORG': 420, 'ORDINAL': 218, 'NORP': 74, 'QUANTITY': 44, 'MONEY': 42, 'LOC': 17, 'PRODUCT': 16, 'FAC': 9, 'PERSON': 6, 'EVENT': 2})\n"
     ]
    }
   ],
   "source": [
    "from collections import Counter\n",
    "import spacy\n",
    "nlp = spacy.load(\"en_core_web_md\")\n",
    "corpus = open(\"atis_utterances.csv\", \"r\").read().split(\"\\n\")\n",
    "all_ent_labels = []\n",
    "for sentence in corpus:\n",
    "    doc = nlp(sentence.strip())\n",
    "    ents = doc.ents\n",
    "    all_ent_labels += [ent.label_ for ent in ents]\n",
    "c = Counter(all_ent_labels)\n",
    "print(c)"
   ],
   "metadata": {
    "collapsed": false
   }
  },
  {
   "cell_type": "markdown",
   "source": [
    "Nosso palpite inicial parece correto. Os rótulos de entidade mais frequentes são **GPE** (nomes de local), **DATE**, **TIME**, **CARDINAL** e **ORGANIZATION**. Obviamente, as entidades de localização referem-se a cidades/países de destino e origem, portanto, desempenham um papel muito importante no sucesso semântico geral de nossa aplicação.\n",
    "\n",
    "5. Primeiro vamos extrair as entidades de localização pelo spaCy Matcher procurando por um padrão do formulário de **preposição nome_local**. O código a seguir extrai entidades de localização precedidas por uma preposição:"
   ],
   "metadata": {
    "collapsed": false
   }
  },
  {
   "cell_type": "code",
   "execution_count": 12,
   "outputs": [
    {
     "name": "stdout",
     "output_type": "stream",
     "text": [
      "from denver\n",
      "to boston\n"
     ]
    }
   ],
   "source": [
    "import spacy\n",
    "from spacy.matcher import Matcher\n",
    "nlp = spacy.load(\"en_core_web_md\")\n",
    "matcher = Matcher(nlp.vocab)\n",
    "pattern = [{\"POS\": \"ADP\"}, {\"ENT_TYPE\": \"GPE\"}]\n",
    "matcher.add(\"prepositionLocation\", [pattern])\n",
    "doc = nlp(\"show me flights from denver to boston on tuesday\")\n",
    "matches = matcher(doc)\n",
    "for mid, start, end in matches:\n",
    "    print(doc[start:end])"
   ],
   "metadata": {
    "collapsed": false
   }
  },
  {
   "cell_type": "code",
   "execution_count": 14,
   "outputs": [
    {
     "data": {
      "text/plain": "<IPython.core.display.HTML object>",
      "text/html": "<span class=\"tex2jax_ignore\"><svg xmlns=\"http://www.w3.org/2000/svg\" xmlns:xlink=\"http://www.w3.org/1999/xlink\" xml:lang=\"en\" id=\"8f436db9f7934c748f0d78ea651194a1-0\" class=\"displacy\" width=\"1625\" height=\"399.5\" direction=\"ltr\" style=\"max-width: none; height: 399.5px; color: #000000; background: #ffffff; font-family: Arial; direction: ltr\">\n<text class=\"displacy-token\" fill=\"currentColor\" text-anchor=\"middle\" y=\"309.5\">\n    <tspan class=\"displacy-word\" fill=\"currentColor\" x=\"50\">show</tspan>\n    <tspan class=\"displacy-tag\" dy=\"2em\" fill=\"currentColor\" x=\"50\">VERB</tspan>\n</text>\n\n<text class=\"displacy-token\" fill=\"currentColor\" text-anchor=\"middle\" y=\"309.5\">\n    <tspan class=\"displacy-word\" fill=\"currentColor\" x=\"225\">me</tspan>\n    <tspan class=\"displacy-tag\" dy=\"2em\" fill=\"currentColor\" x=\"225\">PRON</tspan>\n</text>\n\n<text class=\"displacy-token\" fill=\"currentColor\" text-anchor=\"middle\" y=\"309.5\">\n    <tspan class=\"displacy-word\" fill=\"currentColor\" x=\"400\">flights</tspan>\n    <tspan class=\"displacy-tag\" dy=\"2em\" fill=\"currentColor\" x=\"400\">NOUN</tspan>\n</text>\n\n<text class=\"displacy-token\" fill=\"currentColor\" text-anchor=\"middle\" y=\"309.5\">\n    <tspan class=\"displacy-word\" fill=\"currentColor\" x=\"575\">from</tspan>\n    <tspan class=\"displacy-tag\" dy=\"2em\" fill=\"currentColor\" x=\"575\">ADP</tspan>\n</text>\n\n<text class=\"displacy-token\" fill=\"currentColor\" text-anchor=\"middle\" y=\"309.5\">\n    <tspan class=\"displacy-word\" fill=\"currentColor\" x=\"750\">denver</tspan>\n    <tspan class=\"displacy-tag\" dy=\"2em\" fill=\"currentColor\" x=\"750\">PROPN</tspan>\n</text>\n\n<text class=\"displacy-token\" fill=\"currentColor\" text-anchor=\"middle\" y=\"309.5\">\n    <tspan class=\"displacy-word\" fill=\"currentColor\" x=\"925\">to</tspan>\n    <tspan class=\"displacy-tag\" dy=\"2em\" fill=\"currentColor\" x=\"925\">ADP</tspan>\n</text>\n\n<text class=\"displacy-token\" fill=\"currentColor\" text-anchor=\"middle\" y=\"309.5\">\n    <tspan class=\"displacy-word\" fill=\"currentColor\" x=\"1100\">boston</tspan>\n    <tspan class=\"displacy-tag\" dy=\"2em\" fill=\"currentColor\" x=\"1100\">PROPN</tspan>\n</text>\n\n<text class=\"displacy-token\" fill=\"currentColor\" text-anchor=\"middle\" y=\"309.5\">\n    <tspan class=\"displacy-word\" fill=\"currentColor\" x=\"1275\">on</tspan>\n    <tspan class=\"displacy-tag\" dy=\"2em\" fill=\"currentColor\" x=\"1275\">ADP</tspan>\n</text>\n\n<text class=\"displacy-token\" fill=\"currentColor\" text-anchor=\"middle\" y=\"309.5\">\n    <tspan class=\"displacy-word\" fill=\"currentColor\" x=\"1450\">tuesday</tspan>\n    <tspan class=\"displacy-tag\" dy=\"2em\" fill=\"currentColor\" x=\"1450\">PROPN</tspan>\n</text>\n\n<g class=\"displacy-arrow\">\n    <path class=\"displacy-arc\" id=\"arrow-8f436db9f7934c748f0d78ea651194a1-0-0\" stroke-width=\"2px\" d=\"M70,264.5 C70,177.0 215.0,177.0 215.0,264.5\" fill=\"none\" stroke=\"currentColor\"/>\n    <text dy=\"1.25em\" style=\"font-size: 0.8em; letter-spacing: 1px\">\n        <textPath xlink:href=\"#arrow-8f436db9f7934c748f0d78ea651194a1-0-0\" class=\"displacy-label\" startOffset=\"50%\" side=\"left\" fill=\"currentColor\" text-anchor=\"middle\">dative</textPath>\n    </text>\n    <path class=\"displacy-arrowhead\" d=\"M215.0,266.5 L223.0,254.5 207.0,254.5\" fill=\"currentColor\"/>\n</g>\n\n<g class=\"displacy-arrow\">\n    <path class=\"displacy-arc\" id=\"arrow-8f436db9f7934c748f0d78ea651194a1-0-1\" stroke-width=\"2px\" d=\"M70,264.5 C70,89.5 395.0,89.5 395.0,264.5\" fill=\"none\" stroke=\"currentColor\"/>\n    <text dy=\"1.25em\" style=\"font-size: 0.8em; letter-spacing: 1px\">\n        <textPath xlink:href=\"#arrow-8f436db9f7934c748f0d78ea651194a1-0-1\" class=\"displacy-label\" startOffset=\"50%\" side=\"left\" fill=\"currentColor\" text-anchor=\"middle\">dobj</textPath>\n    </text>\n    <path class=\"displacy-arrowhead\" d=\"M395.0,266.5 L403.0,254.5 387.0,254.5\" fill=\"currentColor\"/>\n</g>\n\n<g class=\"displacy-arrow\">\n    <path class=\"displacy-arc\" id=\"arrow-8f436db9f7934c748f0d78ea651194a1-0-2\" stroke-width=\"2px\" d=\"M420,264.5 C420,177.0 565.0,177.0 565.0,264.5\" fill=\"none\" stroke=\"currentColor\"/>\n    <text dy=\"1.25em\" style=\"font-size: 0.8em; letter-spacing: 1px\">\n        <textPath xlink:href=\"#arrow-8f436db9f7934c748f0d78ea651194a1-0-2\" class=\"displacy-label\" startOffset=\"50%\" side=\"left\" fill=\"currentColor\" text-anchor=\"middle\">prep</textPath>\n    </text>\n    <path class=\"displacy-arrowhead\" d=\"M565.0,266.5 L573.0,254.5 557.0,254.5\" fill=\"currentColor\"/>\n</g>\n\n<g class=\"displacy-arrow\">\n    <path class=\"displacy-arc\" id=\"arrow-8f436db9f7934c748f0d78ea651194a1-0-3\" stroke-width=\"2px\" d=\"M595,264.5 C595,177.0 740.0,177.0 740.0,264.5\" fill=\"none\" stroke=\"currentColor\"/>\n    <text dy=\"1.25em\" style=\"font-size: 0.8em; letter-spacing: 1px\">\n        <textPath xlink:href=\"#arrow-8f436db9f7934c748f0d78ea651194a1-0-3\" class=\"displacy-label\" startOffset=\"50%\" side=\"left\" fill=\"currentColor\" text-anchor=\"middle\">pobj</textPath>\n    </text>\n    <path class=\"displacy-arrowhead\" d=\"M740.0,266.5 L748.0,254.5 732.0,254.5\" fill=\"currentColor\"/>\n</g>\n\n<g class=\"displacy-arrow\">\n    <path class=\"displacy-arc\" id=\"arrow-8f436db9f7934c748f0d78ea651194a1-0-4\" stroke-width=\"2px\" d=\"M420,264.5 C420,89.5 920.0,89.5 920.0,264.5\" fill=\"none\" stroke=\"currentColor\"/>\n    <text dy=\"1.25em\" style=\"font-size: 0.8em; letter-spacing: 1px\">\n        <textPath xlink:href=\"#arrow-8f436db9f7934c748f0d78ea651194a1-0-4\" class=\"displacy-label\" startOffset=\"50%\" side=\"left\" fill=\"currentColor\" text-anchor=\"middle\">prep</textPath>\n    </text>\n    <path class=\"displacy-arrowhead\" d=\"M920.0,266.5 L928.0,254.5 912.0,254.5\" fill=\"currentColor\"/>\n</g>\n\n<g class=\"displacy-arrow\">\n    <path class=\"displacy-arc\" id=\"arrow-8f436db9f7934c748f0d78ea651194a1-0-5\" stroke-width=\"2px\" d=\"M945,264.5 C945,177.0 1090.0,177.0 1090.0,264.5\" fill=\"none\" stroke=\"currentColor\"/>\n    <text dy=\"1.25em\" style=\"font-size: 0.8em; letter-spacing: 1px\">\n        <textPath xlink:href=\"#arrow-8f436db9f7934c748f0d78ea651194a1-0-5\" class=\"displacy-label\" startOffset=\"50%\" side=\"left\" fill=\"currentColor\" text-anchor=\"middle\">pobj</textPath>\n    </text>\n    <path class=\"displacy-arrowhead\" d=\"M1090.0,266.5 L1098.0,254.5 1082.0,254.5\" fill=\"currentColor\"/>\n</g>\n\n<g class=\"displacy-arrow\">\n    <path class=\"displacy-arc\" id=\"arrow-8f436db9f7934c748f0d78ea651194a1-0-6\" stroke-width=\"2px\" d=\"M420,264.5 C420,2.0 1275.0,2.0 1275.0,264.5\" fill=\"none\" stroke=\"currentColor\"/>\n    <text dy=\"1.25em\" style=\"font-size: 0.8em; letter-spacing: 1px\">\n        <textPath xlink:href=\"#arrow-8f436db9f7934c748f0d78ea651194a1-0-6\" class=\"displacy-label\" startOffset=\"50%\" side=\"left\" fill=\"currentColor\" text-anchor=\"middle\">prep</textPath>\n    </text>\n    <path class=\"displacy-arrowhead\" d=\"M1275.0,266.5 L1283.0,254.5 1267.0,254.5\" fill=\"currentColor\"/>\n</g>\n\n<g class=\"displacy-arrow\">\n    <path class=\"displacy-arc\" id=\"arrow-8f436db9f7934c748f0d78ea651194a1-0-7\" stroke-width=\"2px\" d=\"M1295,264.5 C1295,177.0 1440.0,177.0 1440.0,264.5\" fill=\"none\" stroke=\"currentColor\"/>\n    <text dy=\"1.25em\" style=\"font-size: 0.8em; letter-spacing: 1px\">\n        <textPath xlink:href=\"#arrow-8f436db9f7934c748f0d78ea651194a1-0-7\" class=\"displacy-label\" startOffset=\"50%\" side=\"left\" fill=\"currentColor\" text-anchor=\"middle\">pobj</textPath>\n    </text>\n    <path class=\"displacy-arrowhead\" d=\"M1440.0,266.5 L1448.0,254.5 1432.0,254.5\" fill=\"currentColor\"/>\n</g>\n</svg></span>"
     },
     "metadata": {},
     "output_type": "display_data"
    }
   ],
   "source": [
    "# Visualizando ADP e GPE na frase.\n",
    "displacy.render(doc, style='dep')"
   ],
   "metadata": {
    "collapsed": false
   }
  },
  {
   "cell_type": "markdown",
   "source": [
    "Já vimos como inicializar um objeto Matcher e adicionar padrões a ele. Ainda assim, vamos relembrar como usar um objeto Matcher para extrair as correspondências agora. Aqui está o que fizemos neste segmento de código:\n",
    "\n",
    "a) Começamos importando o **spacy** e a classe **spacy.matcher** nas linhas 1-2.\n",
    "b) Criamos um objeto pipeline de linguagem, **nlp**, na linha 3.\n",
    "c) Na linha 4, inicializamos o objeto Matcher com o vocabulário da linguagem.\n",
    "d) Na linha 5, criamos um padrão combinando dois tokens, uma preposição (tag **POS ADP** significa *adposição = preposição + posposição*) e uma entidade de localização (rótulo **GPE** significa uma *entidade de localização*).\n",
    "e) Adicionamos este padrão ao objeto Matcher.\n",
    "f) Por fim, solicitamos as correspondências em uma sentença corpus de exemplo e imprimimos as correspondências.\n",
    "\n",
    "6. Embora as preposições **from** e **to** dominem neste conjunto de dados, os verbos sobre **leaving** e **arriving** podem ser usados com uma variedade de preposições. Aqui estão mais algumas frases de exemplo do conjunto de dados:"
   ],
   "metadata": {
    "collapsed": false
   }
  },
  {
   "cell_type": "code",
   "execution_count": 32,
   "outputs": [
    {
     "name": "stdout",
     "output_type": "stream",
     "text": [
      "from ontario\n",
      "to atlanta\n",
      "in chicago\n"
     ]
    }
   ],
   "source": [
    "doc = nlp(\"i'm looking for a flight that goes from ontario to atlanta and stops in chicago\")\n",
    "matches = matcher(doc)\n",
    "for mid, start, end in matches:\n",
    "\tprint(doc[start:end])"
   ],
   "metadata": {
    "collapsed": false
   }
  },
  {
   "cell_type": "code",
   "execution_count": 33,
   "outputs": [
    {
     "data": {
      "text/plain": "<IPython.core.display.HTML object>",
      "text/html": "<span class=\"tex2jax_ignore\"><div class=\"entities\" style=\"line-height: 2.5; direction: ltr\">i'm looking for a flight that goes from \n<mark class=\"entity\" style=\"background: #feca74; padding: 0.45em 0.6em; margin: 0 0.25em; line-height: 1; border-radius: 0.35em;\">\n    ontario\n    <span style=\"font-size: 0.8em; font-weight: bold; line-height: 1; border-radius: 0.35em; vertical-align: middle; margin-left: 0.5rem\">GPE</span>\n</mark>\n to \n<mark class=\"entity\" style=\"background: #feca74; padding: 0.45em 0.6em; margin: 0 0.25em; line-height: 1; border-radius: 0.35em;\">\n    atlanta\n    <span style=\"font-size: 0.8em; font-weight: bold; line-height: 1; border-radius: 0.35em; vertical-align: middle; margin-left: 0.5rem\">GPE</span>\n</mark>\n and stops in \n<mark class=\"entity\" style=\"background: #feca74; padding: 0.45em 0.6em; margin: 0 0.25em; line-height: 1; border-radius: 0.35em;\">\n    chicago\n    <span style=\"font-size: 0.8em; font-weight: bold; line-height: 1; border-radius: 0.35em; vertical-align: middle; margin-left: 0.5rem\">GPE</span>\n</mark>\n</div></span>"
     },
     "metadata": {},
     "output_type": "display_data"
    }
   ],
   "source": [
    "# Visualizando ADP e GPE na frase.\n",
    "displacy.render(doc, style='ent')"
   ],
   "metadata": {
    "collapsed": false
   }
  },
  {
   "cell_type": "code",
   "execution_count": 34,
   "outputs": [
    {
     "name": "stdout",
     "output_type": "stream",
     "text": [
      "in chicago\n"
     ]
    }
   ],
   "source": [
    "doc = nlp(\"what flights arrive in chicago on sunday on continental\")\n",
    "matches = matcher(doc)\n",
    "for mid, start, end in matches:\n",
    "    print(doc[start:end])"
   ],
   "metadata": {
    "collapsed": false
   }
  },
  {
   "cell_type": "markdown",
   "source": [
    "Outra frase de exemplo do conjunto de dados contém uma abreviação em uma entidade de destino:"
   ],
   "metadata": {
    "collapsed": false
   }
  },
  {
   "cell_type": "code",
   "execution_count": 39,
   "outputs": [
    {
     "name": "stdout",
     "output_type": "stream",
     "text": [
      "from Long\n",
      "to St.\n",
      "of dallas\n"
     ]
    }
   ],
   "source": [
    "doc = nlp(\"yes i'd like a flight from Long Beach to St. louis by way of dallas\")\n",
    "matches = matcher(doc)\n",
    "for mid, start, end in matches:\n",
    "    print(doc[start:end])"
   ],
   "metadata": {
    "collapsed": false
   }
  },
  {
   "cell_type": "markdown",
   "source": [
    "Nossa última frase de exemplo é novamente uma frase de pergunta:"
   ],
   "metadata": {
    "collapsed": false
   }
  },
  {
   "cell_type": "markdown",
   "source": [
    "doc = nlp(\"what are the evening flights flying out of dallas\")\n",
    "matches = matcher(doc)\n",
    "for mid, start, end in matches:\n",
    "    print(doc[start:end])"
   ],
   "metadata": {
    "collapsed": false
   }
  },
  {
   "cell_type": "markdown",
   "source": [
    "Aqui, vemos alguns verbos frasais, **arrive in**, bem como preposições e combinações de verbos, como **stop in** e **fly out of**. **By the way de Dallas** não inclui um verbo em tudo. O usuário indicou que deseja fazer uma parada em Dallas. **to, from, in, out e of*** são preposições comuns que são usadas em um contexto de viagem.\n",
    "\n",
    "7. Após extrair as localizações, agora podemos extrair as informações da companhia aérea. O rótulo de entidade **ORG** significa uma organização e corresponde aos nomes das companhias aéreas em nosso conjunto de dados. O segmento de código a seguir extrai os nomes das organizações, possivelmente nomes com várias palavras:"
   ],
   "metadata": {
    "collapsed": false
   }
  },
  {
   "cell_type": "code",
   "execution_count": 42,
   "outputs": [
    {
     "name": "stdout",
     "output_type": "stream",
     "text": [
      "united\n",
      "united airlines\n",
      "airlines\n"
     ]
    }
   ],
   "source": [
    "import spacy\n",
    "from spacy.matcher import Matcher\n",
    "nlp = spacy.load(\"en_core_web_md\")\n",
    "matcher = Matcher(nlp.vocab)\n",
    "\n",
    "pattern = [{\"ENT_TYPE\": \"ORG\", \"OP\": \"+\"}]\n",
    "matcher.add(\"AirlineName\", [pattern])\n",
    "doc = nlp(\"what is the earliest united airlines flight flying from denver\")\n",
    "matches = matcher(doc)\n",
    "for mid,start,end in matches:\n",
    "    print(doc[start:end])"
   ],
   "metadata": {
    "collapsed": false
   }
  },
  {
   "cell_type": "markdown",
   "source": [
    "Aqui, extraímos as entidades cujos rótulos são **ORG**. Queríamos capturar uma ou mais ocorrências para capturar também as entidades de várias palavras, e é por isso que usamos o operador **OP: \"+\"**.\n",
    "\n",
    "8. As datas e horários de extração não são muito diferentes; você pode replicar o anterior com código com **ENT_TYPE: DATE** e **ENT_TYPE: TIME**. Nós encorajamos você a tentar você mesmo. A captura de tela a seguir mostra detalhadamente a aparência das entidades de data e hora:"
   ],
   "metadata": {
    "collapsed": false
   }
  },
  {
   "cell_type": "code",
   "execution_count": 44,
   "outputs": [
    {
     "data": {
      "text/plain": "<IPython.core.display.HTML object>",
      "text/html": "<span class=\"tex2jax_ignore\"><div class=\"entities\" style=\"line-height: 2.5; direction: ltr\">show me all flights from \n<mark class=\"entity\" style=\"background: #feca74; padding: 0.45em 0.6em; margin: 0 0.25em; line-height: 1; border-radius: 0.35em;\">\n    atlanta\n    <span style=\"font-size: 0.8em; font-weight: bold; line-height: 1; border-radius: 0.35em; vertical-align: middle; margin-left: 0.5rem\">GPE</span>\n</mark>\n to \n<mark class=\"entity\" style=\"background: #feca74; padding: 0.45em 0.6em; margin: 0 0.25em; line-height: 1; border-radius: 0.35em;\">\n    denver\n    <span style=\"font-size: 0.8em; font-weight: bold; line-height: 1; border-radius: 0.35em; vertical-align: middle; margin-left: 0.5rem\">GPE</span>\n</mark>\n which leave after \n<mark class=\"entity\" style=\"background: #bfe1d9; padding: 0.45em 0.6em; margin: 0 0.25em; line-height: 1; border-radius: 0.35em;\">\n    5 o'clock pm\n    <span style=\"font-size: 0.8em; font-weight: bold; line-height: 1; border-radius: 0.35em; vertical-align: middle; margin-left: 0.5rem\">TIME</span>\n</mark>\n \n<mark class=\"entity\" style=\"background: #bfe1d9; padding: 0.45em 0.6em; margin: 0 0.25em; line-height: 1; border-radius: 0.35em;\">\n    the day\n    <span style=\"font-size: 0.8em; font-weight: bold; line-height: 1; border-radius: 0.35em; vertical-align: middle; margin-left: 0.5rem\">DATE</span>\n</mark>\n after \n<mark class=\"entity\" style=\"background: #bfe1d9; padding: 0.45em 0.6em; margin: 0 0.25em; line-height: 1; border-radius: 0.35em;\">\n    tomorrow\n    <span style=\"font-size: 0.8em; font-weight: bold; line-height: 1; border-radius: 0.35em; vertical-align: middle; margin-left: 0.5rem\">DATE</span>\n</mark>\n</div></span>"
     },
     "metadata": {},
     "output_type": "display_data"
    },
    {
     "data": {
      "text/plain": "<IPython.core.display.HTML object>",
      "text/html": "<span class=\"tex2jax_ignore\"><div class=\"entities\" style=\"line-height: 2.5; direction: ltr\">show me all flights from \n<mark class=\"entity\" style=\"background: #feca74; padding: 0.45em 0.6em; margin: 0 0.25em; line-height: 1; border-radius: 0.35em;\">\n    boston\n    <span style=\"font-size: 0.8em; font-weight: bold; line-height: 1; border-radius: 0.35em; vertical-align: middle; margin-left: 0.5rem\">GPE</span>\n</mark>\n to \n<mark class=\"entity\" style=\"background: #feca74; padding: 0.45em 0.6em; margin: 0 0.25em; line-height: 1; border-radius: 0.35em;\">\n    pittsburgh\n    <span style=\"font-size: 0.8em; font-weight: bold; line-height: 1; border-radius: 0.35em; vertical-align: middle; margin-left: 0.5rem\">GPE</span>\n</mark>\n \n<mark class=\"entity\" style=\"background: #bfe1d9; padding: 0.45em 0.6em; margin: 0 0.25em; line-height: 1; border-radius: 0.35em;\">\n    next wednesday\n    <span style=\"font-size: 0.8em; font-weight: bold; line-height: 1; border-radius: 0.35em; vertical-align: middle; margin-left: 0.5rem\">DATE</span>\n</mark>\n \n<mark class=\"entity\" style=\"background: #aa9cfc; padding: 0.45em 0.6em; margin: 0 0.25em; line-height: 1; border-radius: 0.35em;\">\n    nigth\n    <span style=\"font-size: 0.8em; font-weight: bold; line-height: 1; border-radius: 0.35em; vertical-align: middle; margin-left: 0.5rem\">PERSON</span>\n</mark>\n after \n<mark class=\"entity\" style=\"background: #bfe1d9; padding: 0.45em 0.6em; margin: 0 0.25em; line-height: 1; border-radius: 0.35em;\">\n    6 o'clock\n    <span style=\"font-size: 0.8em; font-weight: bold; line-height: 1; border-radius: 0.35em; vertical-align: middle; margin-left: 0.5rem\">TIME</span>\n</mark>\n</div></span>"
     },
     "metadata": {},
     "output_type": "display_data"
    },
    {
     "data": {
      "text/plain": "<IPython.core.display.HTML object>",
      "text/html": "<span class=\"tex2jax_ignore\"><div class=\"entities\" style=\"line-height: 2.5; direction: ltr\">show me all the delta flights leaving or arriving at \n<mark class=\"entity\" style=\"background: #feca74; padding: 0.45em 0.6em; margin: 0 0.25em; line-height: 1; border-radius: 0.35em;\">\n    pittsburgh\n    <span style=\"font-size: 0.8em; font-weight: bold; line-height: 1; border-radius: 0.35em; vertical-align: middle; margin-left: 0.5rem\">GPE</span>\n</mark>\n \n<mark class=\"entity\" style=\"background: #bfe1d9; padding: 0.45em 0.6em; margin: 0 0.25em; line-height: 1; border-radius: 0.35em;\">\n    between 12 and 4\n    <span style=\"font-size: 0.8em; font-weight: bold; line-height: 1; border-radius: 0.35em; vertical-align: middle; margin-left: 0.5rem\">DATE</span>\n</mark>\n in the \n<mark class=\"entity\" style=\"background: #bfe1d9; padding: 0.45em 0.6em; margin: 0 0.25em; line-height: 1; border-radius: 0.35em;\">\n    afternoon\n    <span style=\"font-size: 0.8em; font-weight: bold; line-height: 1; border-radius: 0.35em; vertical-align: middle; margin-left: 0.5rem\">TIME</span>\n</mark>\n</div></span>"
     },
     "metadata": {},
     "output_type": "display_data"
    },
    {
     "data": {
      "text/plain": "<IPython.core.display.HTML object>",
      "text/html": "<span class=\"tex2jax_ignore\"><div class=\"entities\" style=\"line-height: 2.5; direction: ltr\">show me the fligths before \n<mark class=\"entity\" style=\"background: #e4e7d2; padding: 0.45em 0.6em; margin: 0 0.25em; line-height: 1; border-radius: 0.35em;\">\n    11\n    <span style=\"font-size: 0.8em; font-weight: bold; line-height: 1; border-radius: 0.35em; vertical-align: middle; margin-left: 0.5rem\">CARDINAL</span>\n</mark>\n am on \n<mark class=\"entity\" style=\"background: #bfe1d9; padding: 0.45em 0.6em; margin: 0 0.25em; line-height: 1; border-radius: 0.35em;\">\n    august second\n    <span style=\"font-size: 0.8em; font-weight: bold; line-height: 1; border-radius: 0.35em; vertical-align: middle; margin-left: 0.5rem\">DATE</span>\n</mark>\n from \n<mark class=\"entity\" style=\"background: #feca74; padding: 0.45em 0.6em; margin: 0 0.25em; line-height: 1; border-radius: 0.35em;\">\n    boston\n    <span style=\"font-size: 0.8em; font-weight: bold; line-height: 1; border-radius: 0.35em; vertical-align: middle; margin-left: 0.5rem\">GPE</span>\n</mark>\n to \n<mark class=\"entity\" style=\"background: #feca74; padding: 0.45em 0.6em; margin: 0 0.25em; line-height: 1; border-radius: 0.35em;\">\n    denver\n    <span style=\"font-size: 0.8em; font-weight: bold; line-height: 1; border-radius: 0.35em; vertical-align: middle; margin-left: 0.5rem\">GPE</span>\n</mark>\n on delta</div></span>"
     },
     "metadata": {},
     "output_type": "display_data"
    }
   ],
   "source": [
    "doc1 = nlp(\"show me all flights from atlanta to denver which leave after 5 o'clock pm the day after tomorrow\")\n",
    "doc2 = nlp(\"show me all flights from boston to pittsburgh next wednesday nigth after 6 o'clock\")\n",
    "doc3 = nlp('show me all the delta flights leaving or arriving at pittsburgh between 12 and 4 in the afternoon')\n",
    "doc4 = nlp(\"show me the fligths before 11 am on august second from boston to denver on delta\")\n",
    "\n",
    "displacy.render(doc1, style='ent')\n",
    "displacy.render(doc2, style='ent')\n",
    "displacy.render(doc3, style='ent')\n",
    "displacy.render(doc4, style='ent')"
   ],
   "metadata": {
    "collapsed": false
   }
  },
  {
   "cell_type": "markdown",
   "source": [
    "9. Em seguida, vamos extrair entidades do tipo abreviação. Extrair as entidades de abreviação é um pouco mais complicado. Primeiro, veremos como as abreviações aparecem:\n",
    "~~~python\n",
    "what does restriction ap 57 mean?\n",
    "what does the abbreviation co mean?\n",
    "what does fare code qo mean\n",
    "what is the abbreviation d10\n",
    "what does code y mean\n",
    "what does the fare code f and fn mean\n",
    "what is booking class c\n",
    "~~~\n",
    "\n",
    "Apenas uma dessas frases inclui uma entidade. A primeira frase de exemplo inclui uma entidade **AMOUNT**, que é **57**. Fora isso, as abreviações não são marcadas com nenhum tipo de entidade. Nesse caso, temos que fornecer algumas regras personalizadas para o Matcher. Vamos fazer algumas observações primeiro e depois formar um padrão Matcher:\n",
    "a) Uma abreviatura pode ser dividida em duas partes – letras e dígitos.\n",
    "b) A parte da letra pode ter de 1 a 2 caracteres.\n",
    "c) A parte do dígito também tem 1-2 caracteres.\n",
    "d) A presença de dígitos indica uma entidade abreviada.\n",
    "e) A presença das seguintes palavras indica uma entidade de abreviatura: classe, código, abreviatura.\n",
    "f) A etiqueta **POS** de uma abreviatura é um substantivo. Se a palavra candidata for uma palavra de 1 ou 2 letras, podemos olhar para a etiqueta **POS** e ver se é um substantivo. Essa abordagem elimina os falsos positivos, como us (pronome), me (pronome), a (determinador) e an (determinador).\n",
    "\n",
    "10. Vamos agora colocar essas observações nos padrões do Matcher:"
   ],
   "metadata": {
    "collapsed": false
   }
  },
  {
   "cell_type": "code",
   "execution_count": 45,
   "outputs": [],
   "source": [
    "pattern1 = [{\"TEXT\": {\"REGEX\": \"\\w{1,2}\\d{1,2}\"}}]\n",
    "pattern2 = [{\"SHAPE\": { \"IN\": [\"x\", \"xx\"]}}, {\"SHAPE\": { \"IN\":[\"d\", \"dd\"]}}]\n",
    "pattern3 = [{\"TEXT\": {\"IN\": [\"class\", \"code\", \"abbrev\",\"abbreviation\"]}}, {\"SHAPE\": { \"IN\": [\"x\", \"xx\"]}}]\n",
    "pattern4 = [{\"POS\": \"NOUN\", \"SHAPE\": { \"IN\": [\"x\", \"xx\"]}}]"
   ],
   "metadata": {
    "collapsed": false
   }
  },
  {
   "cell_type": "markdown",
   "source": [
    "Em seguida, criamos um objeto Matcher com os padrões que definimos:"
   ],
   "metadata": {
    "collapsed": false
   }
  },
  {
   "cell_type": "code",
   "execution_count": 46,
   "outputs": [],
   "source": [
    "matcher = Matcher(nlp.vocab)\n",
    "matcher.add(\"abbrevEntities\", [pattern1, pattern2, pattern3, pattern4])"
   ],
   "metadata": {
    "collapsed": false
   }
  },
  {
   "cell_type": "markdown",
   "source": [
    "Agora estamos prontos para alimentar nossas frases no matcher:"
   ],
   "metadata": {
    "collapsed": false
   }
  },
  {
   "cell_type": "code",
   "execution_count": 47,
   "outputs": [],
   "source": [
    "sentences = [\n",
    "    'what does restriction ap 57 mean',\n",
    "    'what does the abbreviation co mean',\n",
    "    'what does fare code qo mean',\n",
    "    'what is the abbreviation d10',\n",
    "    'what does code y mean',\n",
    "    'what does the fare code f and fn mean',\n",
    "    'what is booking class c'\n",
    "]"
   ],
   "metadata": {
    "collapsed": false
   }
  },
  {
   "cell_type": "markdown",
   "source": [
    "18. Estamos prontos para enviar nossas frases para o matcher:"
   ],
   "metadata": {
    "collapsed": false
   }
  },
  {
   "cell_type": "code",
   "execution_count": 48,
   "outputs": [
    {
     "name": "stdout",
     "output_type": "stream",
     "text": [
      "ap 57\n",
      "57\n",
      "abbreviation co\n",
      "co\n",
      "code qo\n",
      "d10\n",
      "code y\n",
      "code f\n",
      "class c\n",
      "c\n"
     ]
    }
   ],
   "source": [
    "for sent in sentences:\n",
    "\tdoc = nlp(sent)\n",
    "\tmatches = matcher(doc)\n",
    "\tfor mid, start, end in matches:\n",
    "\t\tprint(doc[start: end])"
   ],
   "metadata": {
    "collapsed": false
   }
  },
  {
   "cell_type": "markdown",
   "source": [
    "No código anterior, definimos quatro padrões:\n",
    "a) O primeiro padrão corresponde a um único token, que consiste em 1-2 letras e 1-2 dígitos. Por exemplo, **d1, d10, ad1 e ad21** corresponderão a esse padrão.\n",
    "b) O segundo padrão corresponde a abreviaturas de 2 tokens em que o primeiro token tem 1-2 letras e o segundo token 1-2 dígitos. As abreviaturas **ap 5, ap 57, a 5 e a 57** irão corresponder a este padrão.\n",
    "c) O terceiro padrão também corresponde a dois tokens. O primeiro token é uma palavra de pista de contexto, como **class** ou **code**, e o segundo token deve ser um token de 1-2 letras. Algumas correspondências de exemplo são o **code f**, **code y** e a **class c**.\n",
    "d) O quarto padrão extrai palavras curtas de 1-2 letras cuja tag **POS** é **NOUN**. Alguns exemplos de correspondências das frases anteriores são **c** e **co**.\n",
    "\n",
    "spaCy Matcher torna a vida mais fácil para nós, permitindo-nos fazer uso de forma de token, dicas de contexto e uma tag de token **POS**. Fizemos uma extração de entidade muito bem-sucedida nesta subseção extraindo locais, nomes de companhias aéreas, datas, horários e abreviações. Na próxima subseção, aprofundaremos a sintaxe da frase e extrairemos entidades das frases onde o contexto não oferece muitas pistas.\n",
    "\n",
    "### Usando árvores de dependência para extrair entidades\n",
    "Na subseção anterior, extraímos entidades onde o contexto fornece pistas óbvias. Extrair a cidade de destino da frase a seguir é fácil. Podemos procurar o padrão **to + GPE**:\n",
    "~~~python\n",
    "I want to fly to Munich tomorrow\n",
    "~~~\n",
    "Mas suponha que o usuário forneça uma das seguintes frases:\n",
    "~~~python\n",
    "I'm going to a conference in Munich. I need an air ticket.\n",
    "My sister's wedding will be held in Munich. I'd like to book a flight.\n",
    "~~~\n",
    "\n",
    "Aqui, a preposição **to** refere-se a **conference**, não a **Munich**, na primeira frase. Nesta frase, precisamos de um padrão como para **+ .... + GPE**. Então, temos que ter cuidado com quais palavras podem vir entre \"to\" e o nome da cidade, bem como quais palavras não devem vir. Por exemplo, esta frase tem um significado completamente diferente e não deve corresponder:\n",
    "~~~python\n",
    "I want to book a flight to my conference without stopping at Berlin.\n",
    "~~~\n",
    "\n",
    "Na segunda frase, não encontramos a presença do **to**. Aqui, como vemos a partir desses exemplos, precisamos examinar as relações sintáticas entre as palavras. No Capítulo 3, Características Linguísticas, já vimos como interpretar árvores de dependência para entender as relações entre palavras. Nesta subseção, percorreremos as árvores de dependência.\n",
    "\n",
    "Percorrer uma árvore de dependências significa visitar os tokens em uma ordem personalizada, não necessariamente da esquerda para a direita. Normalmente, paramos de iterar na árvore de dependências quando encontramos o que estamos procurando. Novamente, uma árvore de dependência mostra as relações sintáticas entre suas palavras. Lembre-se do Capítulo 3, Características linguísticas, que as relações são representadas com setas direcionadas, conectando a cabeça e o filho de uma relação. Cada palavra em uma frase tem que envolver pelo menos uma relação. Esse fato garante que visitaremos cada palavra enquanto percorremos a frase.\n",
    "\n",
    "> #### RECALL\n",
    "> Antes de prosseguir com o código, primeiro, vamos relembrar alguns conceitos sobre árvores de dependência. ROOT é um rótulo de dependência especial e é sempre atribuído ao verbo principal da frase. spaCy mostra relações sintáticas com arcos. Um dos tokens é o pai sintático (chamado de HEAD) e o outro é dependente (chamado de CHILD). A título de exemplo, na Figura 6.3, **going** tem 3 filhos sintáticos – **I**, **m** e  **to**. De forma equivalente, o núcleo sintático de **to** está **going** (o mesmo se aplica a **I** e **m**)."
   ],
   "metadata": {
    "collapsed": false
   }
  },
  {
   "cell_type": "markdown",
   "source": [
    "Voltando aos nossos exemplos, vamos iterar as árvores de dependência de enunciados para descobrir se a preposição **to** está sintaticamente relacionada à entidade de localização, **Munich**. Antes de tudo, vamos ver a análise de dependência da nossa frase de exemplo *I'm going to a conference in Munich*  e também lembrar como é uma árvore de dependência:"
   ],
   "metadata": {
    "collapsed": false
   }
  },
  {
   "cell_type": "code",
   "execution_count": 50,
   "outputs": [
    {
     "data": {
      "text/plain": "<IPython.core.display.HTML object>",
      "text/html": "<span class=\"tex2jax_ignore\"><svg xmlns=\"http://www.w3.org/2000/svg\" xmlns:xlink=\"http://www.w3.org/1999/xlink\" xml:lang=\"en\" id=\"23e8ada4a5864e07b48b9c5d2da5b9ff-0\" class=\"displacy\" width=\"1450\" height=\"312.0\" direction=\"ltr\" style=\"max-width: none; height: 312.0px; color: #000000; background: #ffffff; font-family: Arial; direction: ltr\">\n<text class=\"displacy-token\" fill=\"currentColor\" text-anchor=\"middle\" y=\"222.0\">\n    <tspan class=\"displacy-word\" fill=\"currentColor\" x=\"50\">I</tspan>\n    <tspan class=\"displacy-tag\" dy=\"2em\" fill=\"currentColor\" x=\"50\">PRON</tspan>\n</text>\n\n<text class=\"displacy-token\" fill=\"currentColor\" text-anchor=\"middle\" y=\"222.0\">\n    <tspan class=\"displacy-word\" fill=\"currentColor\" x=\"225\">'m</tspan>\n    <tspan class=\"displacy-tag\" dy=\"2em\" fill=\"currentColor\" x=\"225\">AUX</tspan>\n</text>\n\n<text class=\"displacy-token\" fill=\"currentColor\" text-anchor=\"middle\" y=\"222.0\">\n    <tspan class=\"displacy-word\" fill=\"currentColor\" x=\"400\">going</tspan>\n    <tspan class=\"displacy-tag\" dy=\"2em\" fill=\"currentColor\" x=\"400\">VERB</tspan>\n</text>\n\n<text class=\"displacy-token\" fill=\"currentColor\" text-anchor=\"middle\" y=\"222.0\">\n    <tspan class=\"displacy-word\" fill=\"currentColor\" x=\"575\">to</tspan>\n    <tspan class=\"displacy-tag\" dy=\"2em\" fill=\"currentColor\" x=\"575\">ADP</tspan>\n</text>\n\n<text class=\"displacy-token\" fill=\"currentColor\" text-anchor=\"middle\" y=\"222.0\">\n    <tspan class=\"displacy-word\" fill=\"currentColor\" x=\"750\">a</tspan>\n    <tspan class=\"displacy-tag\" dy=\"2em\" fill=\"currentColor\" x=\"750\">DET</tspan>\n</text>\n\n<text class=\"displacy-token\" fill=\"currentColor\" text-anchor=\"middle\" y=\"222.0\">\n    <tspan class=\"displacy-word\" fill=\"currentColor\" x=\"925\">conference</tspan>\n    <tspan class=\"displacy-tag\" dy=\"2em\" fill=\"currentColor\" x=\"925\">NOUN</tspan>\n</text>\n\n<text class=\"displacy-token\" fill=\"currentColor\" text-anchor=\"middle\" y=\"222.0\">\n    <tspan class=\"displacy-word\" fill=\"currentColor\" x=\"1100\">in</tspan>\n    <tspan class=\"displacy-tag\" dy=\"2em\" fill=\"currentColor\" x=\"1100\">ADP</tspan>\n</text>\n\n<text class=\"displacy-token\" fill=\"currentColor\" text-anchor=\"middle\" y=\"222.0\">\n    <tspan class=\"displacy-word\" fill=\"currentColor\" x=\"1275\">Munich.</tspan>\n    <tspan class=\"displacy-tag\" dy=\"2em\" fill=\"currentColor\" x=\"1275\">PROPN</tspan>\n</text>\n\n<g class=\"displacy-arrow\">\n    <path class=\"displacy-arc\" id=\"arrow-23e8ada4a5864e07b48b9c5d2da5b9ff-0-0\" stroke-width=\"2px\" d=\"M70,177.0 C70,2.0 400.0,2.0 400.0,177.0\" fill=\"none\" stroke=\"currentColor\"/>\n    <text dy=\"1.25em\" style=\"font-size: 0.8em; letter-spacing: 1px\">\n        <textPath xlink:href=\"#arrow-23e8ada4a5864e07b48b9c5d2da5b9ff-0-0\" class=\"displacy-label\" startOffset=\"50%\" side=\"left\" fill=\"currentColor\" text-anchor=\"middle\">nsubj</textPath>\n    </text>\n    <path class=\"displacy-arrowhead\" d=\"M70,179.0 L62,167.0 78,167.0\" fill=\"currentColor\"/>\n</g>\n\n<g class=\"displacy-arrow\">\n    <path class=\"displacy-arc\" id=\"arrow-23e8ada4a5864e07b48b9c5d2da5b9ff-0-1\" stroke-width=\"2px\" d=\"M245,177.0 C245,89.5 395.0,89.5 395.0,177.0\" fill=\"none\" stroke=\"currentColor\"/>\n    <text dy=\"1.25em\" style=\"font-size: 0.8em; letter-spacing: 1px\">\n        <textPath xlink:href=\"#arrow-23e8ada4a5864e07b48b9c5d2da5b9ff-0-1\" class=\"displacy-label\" startOffset=\"50%\" side=\"left\" fill=\"currentColor\" text-anchor=\"middle\">aux</textPath>\n    </text>\n    <path class=\"displacy-arrowhead\" d=\"M245,179.0 L237,167.0 253,167.0\" fill=\"currentColor\"/>\n</g>\n\n<g class=\"displacy-arrow\">\n    <path class=\"displacy-arc\" id=\"arrow-23e8ada4a5864e07b48b9c5d2da5b9ff-0-2\" stroke-width=\"2px\" d=\"M420,177.0 C420,89.5 570.0,89.5 570.0,177.0\" fill=\"none\" stroke=\"currentColor\"/>\n    <text dy=\"1.25em\" style=\"font-size: 0.8em; letter-spacing: 1px\">\n        <textPath xlink:href=\"#arrow-23e8ada4a5864e07b48b9c5d2da5b9ff-0-2\" class=\"displacy-label\" startOffset=\"50%\" side=\"left\" fill=\"currentColor\" text-anchor=\"middle\">prep</textPath>\n    </text>\n    <path class=\"displacy-arrowhead\" d=\"M570.0,179.0 L578.0,167.0 562.0,167.0\" fill=\"currentColor\"/>\n</g>\n\n<g class=\"displacy-arrow\">\n    <path class=\"displacy-arc\" id=\"arrow-23e8ada4a5864e07b48b9c5d2da5b9ff-0-3\" stroke-width=\"2px\" d=\"M770,177.0 C770,89.5 920.0,89.5 920.0,177.0\" fill=\"none\" stroke=\"currentColor\"/>\n    <text dy=\"1.25em\" style=\"font-size: 0.8em; letter-spacing: 1px\">\n        <textPath xlink:href=\"#arrow-23e8ada4a5864e07b48b9c5d2da5b9ff-0-3\" class=\"displacy-label\" startOffset=\"50%\" side=\"left\" fill=\"currentColor\" text-anchor=\"middle\">det</textPath>\n    </text>\n    <path class=\"displacy-arrowhead\" d=\"M770,179.0 L762,167.0 778,167.0\" fill=\"currentColor\"/>\n</g>\n\n<g class=\"displacy-arrow\">\n    <path class=\"displacy-arc\" id=\"arrow-23e8ada4a5864e07b48b9c5d2da5b9ff-0-4\" stroke-width=\"2px\" d=\"M595,177.0 C595,2.0 925.0,2.0 925.0,177.0\" fill=\"none\" stroke=\"currentColor\"/>\n    <text dy=\"1.25em\" style=\"font-size: 0.8em; letter-spacing: 1px\">\n        <textPath xlink:href=\"#arrow-23e8ada4a5864e07b48b9c5d2da5b9ff-0-4\" class=\"displacy-label\" startOffset=\"50%\" side=\"left\" fill=\"currentColor\" text-anchor=\"middle\">pobj</textPath>\n    </text>\n    <path class=\"displacy-arrowhead\" d=\"M925.0,179.0 L933.0,167.0 917.0,167.0\" fill=\"currentColor\"/>\n</g>\n\n<g class=\"displacy-arrow\">\n    <path class=\"displacy-arc\" id=\"arrow-23e8ada4a5864e07b48b9c5d2da5b9ff-0-5\" stroke-width=\"2px\" d=\"M945,177.0 C945,89.5 1095.0,89.5 1095.0,177.0\" fill=\"none\" stroke=\"currentColor\"/>\n    <text dy=\"1.25em\" style=\"font-size: 0.8em; letter-spacing: 1px\">\n        <textPath xlink:href=\"#arrow-23e8ada4a5864e07b48b9c5d2da5b9ff-0-5\" class=\"displacy-label\" startOffset=\"50%\" side=\"left\" fill=\"currentColor\" text-anchor=\"middle\">prep</textPath>\n    </text>\n    <path class=\"displacy-arrowhead\" d=\"M1095.0,179.0 L1103.0,167.0 1087.0,167.0\" fill=\"currentColor\"/>\n</g>\n\n<g class=\"displacy-arrow\">\n    <path class=\"displacy-arc\" id=\"arrow-23e8ada4a5864e07b48b9c5d2da5b9ff-0-6\" stroke-width=\"2px\" d=\"M1120,177.0 C1120,89.5 1270.0,89.5 1270.0,177.0\" fill=\"none\" stroke=\"currentColor\"/>\n    <text dy=\"1.25em\" style=\"font-size: 0.8em; letter-spacing: 1px\">\n        <textPath xlink:href=\"#arrow-23e8ada4a5864e07b48b9c5d2da5b9ff-0-6\" class=\"displacy-label\" startOffset=\"50%\" side=\"left\" fill=\"currentColor\" text-anchor=\"middle\">pobj</textPath>\n    </text>\n    <path class=\"displacy-arrowhead\" d=\"M1270.0,179.0 L1278.0,167.0 1262.0,167.0\" fill=\"currentColor\"/>\n</g>\n</svg></span>"
     },
     "metadata": {},
     "output_type": "display_data"
    }
   ],
   "source": [
    "doc = nlp(\"I'm going to a conference in Munich.\")\n",
    "displacy.render(doc, style='dep')"
   ],
   "metadata": {
    "collapsed": false
   }
  },
  {
   "cell_type": "markdown",
   "source": [
    "Não há arcos de entrada no verbo **going**, então **going** é a raiz da árvore de dependência (quando examinamos o código, veremos que o rótulo de dependência é **ROOT**). Isso deve acontecer porque **going** é o verbo principal da frase. Se seguirmos o arco à sua direita imediata, encontraremos **to**; saltando sobre os arcos à direita chegamos a **Munich**. Isso mostra que há uma relação sintática entre **to** e **Munich**.\n",
    "Vamos agora iterar sobre a árvore de dependências com código. Existem duas maneiras possíveis de se conectar **to** e **Munich**:\n",
    " * Da esquerda para a direita. Partimos de **to** e tentamos chegar a Munique visitando os filhos sintáticos de \"to\". Essa abordagem pode não ser uma boa ideia, porque se \"to\" tiver mais de um filho, precisamos verificar cada filho e acompanhar todos os caminhos possíveis.\n",
    " * Direita para esquerda. Partimos de **Munich**, pulamos em sua cabeça, seguimos a cabeça da cabeça e assim por diante. Como cada palavra tem exatamente uma cabeça, é garantido que haverá apenas um caminho. Em seguida, determinamos se estamos nesse caminho ou não.\n",
    "\n",
    "Os segmentos de código a seguir implementam a segunda abordagem, iniciam a caminhada da árvore de dependência de Munique e procuram:"
   ],
   "metadata": {
    "collapsed": false
   }
  }
 ],
 "metadata": {
  "kernelspec": {
   "display_name": "Python 3",
   "language": "python",
   "name": "python3"
  },
  "language_info": {
   "codemirror_mode": {
    "name": "ipython",
    "version": 2
   },
   "file_extension": ".py",
   "mimetype": "text/x-python",
   "name": "python",
   "nbconvert_exporter": "python",
   "pygments_lexer": "ipython2",
   "version": "2.7.6"
  }
 },
 "nbformat": 4,
 "nbformat_minor": 0
}
