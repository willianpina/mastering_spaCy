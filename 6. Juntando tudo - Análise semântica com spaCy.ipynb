{
 "cells": [
  {
   "cell_type": "markdown",
   "source": [
    "<h1 align=center>Capítulo 6: Juntando tudo: Análise semântica com spaCy</h1>\n",
    "<p align=center><img src=https://miro.medium.com/max/1050/1*6WATd2e85VuqFhkg5RQonQ.jpeg width=500></p>\n",
    "\n",
    "Esta é uma seção puramente prática. Neste capítulo, aplicaremos o que aprendemos até agora ao **Airline Travel Information System (ATIS)**, um conhecido conjunto de dados do sistema de reserva de passagens aéreas. Em primeiro lugar, conheceremos nosso conjunto de dados e faremos as estatísticas básicas. Como a primeira tarefa de **compreensão de linguagem natural (NLU)**, vamos extrair as entidades nomeadas com dois métodos diferentes, com *spaCy Matcher*, e andando na árvore de dependências.\n",
    "\n",
    "A próxima tarefa é determinar a intenção do enunciado do usuário. Também exploraremos o reconhecimento de intenção de diferentes maneiras: extraindo os verbos e seus objetos diretos, usando listas de palavras e andando na árvore de dependência para reconhecer várias intenções. Em seguida, você combinará suas palavras-chave com sinônimos de uma lista de sinônimos para detectar semelhança semântica.\n",
    "\n",
    "Além disso, você fará a correspondência de palavras-chave com métodos de semelhança semântica baseados em vetor de palavras. Por fim, combinaremos todas essas informações para gerar uma representação semântica para os enunciados do conjunto de dados.\n",
    "\n",
    "No final deste capítulo, você aprenderá a processar completamente um conjunto de dados do mundo real semanticamente. Você aprenderá a extrair entidades, reconhecer *intents* e realizar cálculos de similaridade semântica. As ferramentas deste capítulo são realmente o que você construirá para um pipeline de **processamento de linguagem natural (NLP)** do mundo real, incluindo um chatbot NLU e um aplicativo de suporte ao cliente NLU.\n",
    "\n",
    "Neste capítulo, abordaremos os seguintes tópicos principais:\n",
    "1. Extraindo entidades nomeadas\n",
    "2. Usando relações de dependência para reconhecimento de intenção\n",
    "3. Métodos de similaridade semântica para análise semântica\n",
    "4. Juntando tudo"
   ],
   "metadata": {
    "collapsed": false
   }
  },
  {
   "cell_type": "markdown",
   "source": [
    "## Extraindo entidades nomeadas\n",
    "Em muitos aplicativos de NLP, incluindo análise semântica, começamos a procurar significado em um texto examinando os tipos de entidade e colocando um componente de extração de entidade em nossos pipelines de NLP. **As entidades nomeadas** desempenham um papel fundamental na compreensão do significado do texto do usuário.\n",
    "\n",
    "Também iniciaremos um pipeline de análise semântica extraindo as entidades nomeadas de nosso corpus. Para entender que tipo de entidades queremos extrair, primeiro, conheceremos o conjunto de dados ATIS.\n",
    "\n",
    "### Conhecendo o conjunto de dados ATIS\n",
    "Ao longo deste capítulo, trabalharemos com o corpus ATIS. ATIS é um conjunto de dados bem conhecido; é um dos conjuntos de dados de referência padrão para classificação de intenção. O conjunto de dados consiste em declarações de clientes que desejam reservar um voo, obter informações sobre os voos, incluindo custos de voo, destinos de voo e horários.\n",
    "\n",
    "Não importa qual seja a tarefa da NLP, você deve sempre examinar seu corpus a olho nu. Queremos conhecer nosso corpus para integrar nossas observações de corpus em nosso código. Ao visualizar nossos dados de texto, geralmente observamos o seguinte:\n",
    "* Que tipo de enunciados existem? É um corpus de texto curto ou o corpus consiste em documentos longos ou parágrafos de tamanho médio?\n",
    "* Que tipo de entidades o corpus inclui? Nomes de pessoas, nomes de cidades, nomes de países, nomes de organizações e assim por diante. Quais queremos extrair?\n",
    "* Como a pontuação é usada? O texto está pontuado corretamente ou nenhuma pontuação é usada?\n",
    "* Como as regras gramaticais são seguidas? A capitalização está correta? Os usuários seguiram as regras gramaticais? Existem palavras incorretas?\n",
    "\n",
    "Antes de iniciar qualquer processamento, examinaremos nosso corpus. Vamos em frente e baixar o conjunto de dados:\n",
    "~~~python\n",
    "https://github.com/PacktPublishing/Mastering-spaCy/blob/main/Chapter06/data/atis_intents.csv\n",
    "~~~\n",
    "\n",
    "O conjunto de dados é um arquivo CSV de duas colunas. Primeiro, obteremos alguns insights sobre as estatísticas do conjunto de dados com pandas. pandas é uma biblioteca de manipulação de dados popular que é frequentemente usada por cientistas de dados. Você pode ler mais em https://pandas.pydata.org/pandas-docs/version/0.15/tutorials.html.\n",
    "\n",
    "1. Vamos começar lendo o arquivo CSV em Python. Usaremos o método **read_csv** dos pandas:"
   ],
   "metadata": {
    "collapsed": false
   }
  },
  {
   "cell_type": "code",
   "execution_count": 85,
   "outputs": [],
   "source": [
    "import pandas as pd\n",
    "dataset = pd.read_csv('atis_intents.csv', header=None, encoding='utf8', sep=',')"
   ],
   "metadata": {
    "collapsed": false
   }
  },
  {
   "cell_type": "markdown",
   "source": [
    "A variável do conjunto de dados mantém o CSV como um objeto para nós.\n",
    "2. Em seguida, chamaremos **head()** no objeto dataset. **head()** gera as primeiras 10 colunas do conjunto de dados:"
   ],
   "metadata": {
    "collapsed": false
   }
  },
  {
   "cell_type": "code",
   "execution_count": 86,
   "outputs": [
    {
     "data": {
      "text/plain": "                  0                                                  1\n0       atis_flight   i want to fly from boston at 838 am and arriv...\n1       atis_flight   what flights are available from pittsburgh to...\n2  atis_flight_time   what is the arrival time in san francisco for...\n3      atis_airfare            cheapest airfare from tacoma to orlando\n4      atis_airfare   round trip fares from pittsburgh to philadelp...",
      "text/html": "<div>\n<style scoped>\n    .dataframe tbody tr th:only-of-type {\n        vertical-align: middle;\n    }\n\n    .dataframe tbody tr th {\n        vertical-align: top;\n    }\n\n    .dataframe thead th {\n        text-align: right;\n    }\n</style>\n<table border=\"1\" class=\"dataframe\">\n  <thead>\n    <tr style=\"text-align: right;\">\n      <th></th>\n      <th>0</th>\n      <th>1</th>\n    </tr>\n  </thead>\n  <tbody>\n    <tr>\n      <th>0</th>\n      <td>atis_flight</td>\n      <td>i want to fly from boston at 838 am and arriv...</td>\n    </tr>\n    <tr>\n      <th>1</th>\n      <td>atis_flight</td>\n      <td>what flights are available from pittsburgh to...</td>\n    </tr>\n    <tr>\n      <th>2</th>\n      <td>atis_flight_time</td>\n      <td>what is the arrival time in san francisco for...</td>\n    </tr>\n    <tr>\n      <th>3</th>\n      <td>atis_airfare</td>\n      <td>cheapest airfare from tacoma to orlando</td>\n    </tr>\n    <tr>\n      <th>4</th>\n      <td>atis_airfare</td>\n      <td>round trip fares from pittsburgh to philadelp...</td>\n    </tr>\n  </tbody>\n</table>\n</div>"
     },
     "execution_count": 86,
     "metadata": {},
     "output_type": "execute_result"
    }
   ],
   "source": [
    "dataset.head()"
   ],
   "metadata": {
    "collapsed": false
   }
  },
  {
   "cell_type": "markdown",
   "source": [
    "Como você vê, o objeto de conjunto de dados contém linhas e colunas. Na verdade, é um objeto CSV. A primeira coluna contém a intenção e a segunda coluna contém o enunciado do usuário.\n",
    "3. Agora podemos imprimir alguns enunciados de exemplo:"
   ],
   "metadata": {
    "collapsed": false
   }
  },
  {
   "cell_type": "code",
   "execution_count": 87,
   "outputs": [
    {
     "name": "stdout",
     "output_type": "stream",
     "text": [
      " i want to fly from boston at 838 am and arrive in denver at 1110 in the morning\n",
      " what flights are available from pittsburgh to baltimore on thursday morning\n",
      " what is the arrival time in san francisco for the 755 am flight leaving washington\n",
      " cheapest airfare from tacoma to orlando\n",
      " round trip fares from pittsburgh to philadelphia under 1000 dollars\n"
     ]
    }
   ],
   "source": [
    "for text in dataset[1].head():\n",
    "\tprint(text)"
   ],
   "metadata": {
    "collapsed": false
   }
  },
  {
   "cell_type": "markdown",
   "source": [
    "Como podemos ver, o primeiro usuário deseja reservar um voo; incluíam o destino, as cidades de origem e o tempo de voo. O terceiro usuário está perguntando sobre o horário de chegada de um voo específico e o quinto usuário fez uma consulta com um limite de preço. Os enunciados não são capitalizados ou pontuados. Isso ocorre porque esses enunciados são uma saída de um mecanismo de *speech-to-text*.\n",
    "\n",
    "4. Por último, podemos ver a distribuição do número de enunciados por intenção:"
   ],
   "metadata": {
    "collapsed": false
   }
  },
  {
   "cell_type": "code",
   "execution_count": 88,
   "outputs": [
    {
     "name": "stdout",
     "output_type": "stream",
     "text": [
      "0\n",
      "atis_abbreviation                            147\n",
      "atis_aircraft                                 81\n",
      "atis_aircraft#atis_flight#atis_flight_no       1\n",
      "atis_airfare                                 423\n",
      "atis_airfare#atis_flight_time                  1\n",
      "atis_airline                                 157\n",
      "atis_airline#atis_flight_no                    2\n",
      "atis_airport                                  20\n",
      "atis_capacity                                 16\n",
      "atis_cheapest                                  1\n",
      "atis_city                                     19\n",
      "atis_distance                                 20\n",
      "atis_flight                                 3666\n",
      "atis_flight#atis_airfare                      21\n",
      "atis_flight_no                                12\n",
      "atis_flight_time                              54\n",
      "atis_ground_fare                              18\n",
      "atis_ground_service                          255\n",
      "atis_ground_service#atis_ground_fare           1\n",
      "atis_meal                                      6\n",
      "atis_quantity                                 51\n",
      "atis_restriction                               6\n",
      "dtype: int64\n"
     ]
    }
   ],
   "source": [
    "grouped = dataset.groupby(0).size()\n",
    "print(grouped)"
   ],
   "metadata": {
    "collapsed": false
   }
  },
  {
   "cell_type": "markdown",
   "source": [
    "5. Após este ponto, processaremos apenas o texto do enunciado. Portanto, podemos descartar a primeira coluna. Para fazer isso, vamos fazer um pequeno truque com a ferramenta Unix awk:\n",
    "~~~python\n",
    "awk -F ',' '{print $2}' atis_intents.csv > atis_utterances.txt\n",
    "~~~\n",
    "Aqui, imprimimos a segunda coluna do arquivo CSV de entrada (onde o separador de arquivo é um **,**) e direcionamos a saída para um arquivo de texto chamado **atis_utterances.txt**. Agora que nossos enunciados estão prontos para serem processados, podemos prosseguir e extrair as entidades."
   ],
   "metadata": {
    "collapsed": false
   }
  },
  {
   "cell_type": "code",
   "execution_count": 89,
   "outputs": [],
   "source": [
    "dataset[1].to_csv('atis_utterances.csv', header=None)"
   ],
   "metadata": {
    "collapsed": false
   }
  },
  {
   "cell_type": "markdown",
   "source": [
    "### Extraindo entidades nomeadas com o Matcher\n",
    "Como já vimos, este é um conjunto de dados de voos. Portanto, esperamos ver nomes de cidades/países, nomes de aeroportos e nomes de companhias aéreas:\n",
    "1. Aqui estão alguns exemplos:\n",
    "~~~python\n",
    "does american airlines fly from boston to san francisco\n",
    "what flights go from dallas to tampa\n",
    "show me the flights from montreal to chicago\n",
    "what flights do you have from ontario\n",
    "The users also provide the dates, times, days of the weeks they\n",
    "wish to fly on. These entities include numbers, month names, day\n",
    "of the week names as well as time adverbs such as next week,\n",
    "today, tomorrow, next month. Let's see some example entities:\n",
    "list flights from atlanta to boston leaving between 6 pm and 10\n",
    "pm on august eighth\n",
    "i need a flight after 6 pm on wednesday from oakland to salt\n",
    "lake city\n",
    "show me flights from minneapolis to seattle on july second\n",
    "what flights leave after 7 pm from philadelphia to boston\n",
    "~~~\n",
    "2. Além disso, a intenção **atis_abbreviation** contém enunciados que são perguntas sobre algumas abreviações. As abreviações de voos podem ser códigos de tarifa (por exemplo, M = Economy), códigos de nome de companhia aérea (por exemplo, United Airlines = UA) e códigos de aeroporto (por exemplo, Aeroporto de Berlim = BER) e assim por diante. Os exemplos incluem o seguinte:\n",
    "~~~python\n",
    "what does the abbreviation ua mean\n",
    "what does restriction ap 57 mean\n",
    "explain restriction ap please\n",
    "what's fare code yn\n",
    "~~~\n",
    "3. Vamos visualizar alguns enunciados do conjunto de dados. A captura de tela a seguir mostra as entidades com seus tipos:"
   ],
   "metadata": {
    "collapsed": false
   }
  },
  {
   "cell_type": "code",
   "execution_count": 90,
   "outputs": [
    {
     "data": {
      "text/plain": "<IPython.core.display.HTML object>",
      "text/html": "<span class=\"tex2jax_ignore\"><div class=\"entities\" style=\"line-height: 2.5; direction: ltr\">show me the flights from \n<mark class=\"entity\" style=\"background: #feca74; padding: 0.45em 0.6em; margin: 0 0.25em; line-height: 1; border-radius: 0.35em;\">\n    montreal\n    <span style=\"font-size: 0.8em; font-weight: bold; line-height: 1; border-radius: 0.35em; vertical-align: middle; margin-left: 0.5rem\">GPE</span>\n</mark>\n to \n<mark class=\"entity\" style=\"background: #feca74; padding: 0.45em 0.6em; margin: 0 0.25em; line-height: 1; border-radius: 0.35em;\">\n    chicago\n    <span style=\"font-size: 0.8em; font-weight: bold; line-height: 1; border-radius: 0.35em; vertical-align: middle; margin-left: 0.5rem\">GPE</span>\n</mark>\n</div></span>"
     },
     "metadata": {},
     "output_type": "display_data"
    },
    {
     "data": {
      "text/plain": "<IPython.core.display.HTML object>",
      "text/html": "<span class=\"tex2jax_ignore\"><div class=\"entities\" style=\"line-height: 2.5; direction: ltr\">does \n<mark class=\"entity\" style=\"background: #7aecec; padding: 0.45em 0.6em; margin: 0 0.25em; line-height: 1; border-radius: 0.35em;\">\n    american airlines\n    <span style=\"font-size: 0.8em; font-weight: bold; line-height: 1; border-radius: 0.35em; vertical-align: middle; margin-left: 0.5rem\">ORG</span>\n</mark>\n fly from \n<mark class=\"entity\" style=\"background: #feca74; padding: 0.45em 0.6em; margin: 0 0.25em; line-height: 1; border-radius: 0.35em;\">\n    boston\n    <span style=\"font-size: 0.8em; font-weight: bold; line-height: 1; border-radius: 0.35em; vertical-align: middle; margin-left: 0.5rem\">GPE</span>\n</mark>\n to \n<mark class=\"entity\" style=\"background: #feca74; padding: 0.45em 0.6em; margin: 0 0.25em; line-height: 1; border-radius: 0.35em;\">\n    san francisco\n    <span style=\"font-size: 0.8em; font-weight: bold; line-height: 1; border-radius: 0.35em; vertical-align: middle; margin-left: 0.5rem\">GPE</span>\n</mark>\n</div></span>"
     },
     "metadata": {},
     "output_type": "display_data"
    },
    {
     "data": {
      "text/plain": "<IPython.core.display.HTML object>",
      "text/html": "<span class=\"tex2jax_ignore\"><div class=\"entities\" style=\"line-height: 2.5; direction: ltr\">show me flights from \n<mark class=\"entity\" style=\"background: #feca74; padding: 0.45em 0.6em; margin: 0 0.25em; line-height: 1; border-radius: 0.35em;\">\n    minneapolis\n    <span style=\"font-size: 0.8em; font-weight: bold; line-height: 1; border-radius: 0.35em; vertical-align: middle; margin-left: 0.5rem\">GPE</span>\n</mark>\n to \n<mark class=\"entity\" style=\"background: #feca74; padding: 0.45em 0.6em; margin: 0 0.25em; line-height: 1; border-radius: 0.35em;\">\n    seattle\n    <span style=\"font-size: 0.8em; font-weight: bold; line-height: 1; border-radius: 0.35em; vertical-align: middle; margin-left: 0.5rem\">GPE</span>\n</mark>\n on \n<mark class=\"entity\" style=\"background: #bfe1d9; padding: 0.45em 0.6em; margin: 0 0.25em; line-height: 1; border-radius: 0.35em;\">\n    july second\n    <span style=\"font-size: 0.8em; font-weight: bold; line-height: 1; border-radius: 0.35em; vertical-align: middle; margin-left: 0.5rem\">DATE</span>\n</mark>\n</div></span>"
     },
     "metadata": {},
     "output_type": "display_data"
    },
    {
     "data": {
      "text/plain": "<IPython.core.display.HTML object>",
      "text/html": "<span class=\"tex2jax_ignore\"><div class=\"entities\" style=\"line-height: 2.5; direction: ltr\">what flights leave after \n<mark class=\"entity\" style=\"background: #bfe1d9; padding: 0.45em 0.6em; margin: 0 0.25em; line-height: 1; border-radius: 0.35em;\">\n    7 pm\n    <span style=\"font-size: 0.8em; font-weight: bold; line-height: 1; border-radius: 0.35em; vertical-align: middle; margin-left: 0.5rem\">TIME</span>\n</mark>\n from \n<mark class=\"entity\" style=\"background: #feca74; padding: 0.45em 0.6em; margin: 0 0.25em; line-height: 1; border-radius: 0.35em;\">\n    philadelphia\n    <span style=\"font-size: 0.8em; font-weight: bold; line-height: 1; border-radius: 0.35em; vertical-align: middle; margin-left: 0.5rem\">GPE</span>\n</mark>\n to \n<mark class=\"entity\" style=\"background: #feca74; padding: 0.45em 0.6em; margin: 0 0.25em; line-height: 1; border-radius: 0.35em;\">\n    boston\n    <span style=\"font-size: 0.8em; font-weight: bold; line-height: 1; border-radius: 0.35em; vertical-align: middle; margin-left: 0.5rem\">GPE</span>\n</mark>\n</div></span>"
     },
     "metadata": {},
     "output_type": "display_data"
    }
   ],
   "source": [
    "import spacy\n",
    "from spacy import displacy\n",
    "nlp = spacy.load('en_core_web_md')\n",
    "\n",
    "doc1 =nlp('show me the flights from montreal to chicago')\n",
    "doc2 = nlp('does american airlines fly from boston to san francisco')\n",
    "doc3 = nlp('show me flights from minneapolis to seattle on july second')\n",
    "doc4 = nlp(\"what flights leave after 7 pm from philadelphia to boston\")\n",
    "\n",
    "displacy.render(doc1, style='ent')\n",
    "displacy.render(doc2, style='ent')\n",
    "displacy.render(doc3, style='ent')\n",
    "displacy.render(doc4, style='ent')"
   ],
   "metadata": {
    "collapsed": false
   }
  },
  {
   "cell_type": "markdown",
   "source": [
    "4. Podemos ver todos os tipos de entidade e suas frequências de forma mais sistemática. O segmento de código a seguir realiza as seguintes ações:\n",
    "   * Lê o arquivo de texto dos enunciados que criamos na subseção anterior de exploração do conjunto de dados.\n",
    "   * Ele itera sobre cada enunciado e cria um objeto Doc.\n",
    "   * Extrai entidades do objeto doc atual.\n",
    "   * Atualiza a lista global de rótulos de entidades com os rótulos das entidades.\n",
    "   * Finalmente calcula a frequência de cada etiqueta com um objeto contador.\n",
    "\n",
    "Aqui está o código:"
   ],
   "metadata": {
    "collapsed": false
   }
  },
  {
   "cell_type": "code",
   "execution_count": 91,
   "outputs": [
    {
     "name": "stdout",
     "output_type": "stream",
     "text": [
      "Counter({'GPE': 9125, 'CARDINAL': 4144, 'DATE': 2283, 'TIME': 993, 'ORG': 420, 'ORDINAL': 218, 'NORP': 74, 'QUANTITY': 44, 'MONEY': 42, 'LOC': 17, 'PRODUCT': 16, 'FAC': 9, 'PERSON': 6, 'EVENT': 2})\n"
     ]
    }
   ],
   "source": [
    "from collections import Counter\n",
    "import spacy\n",
    "nlp = spacy.load(\"en_core_web_md\")\n",
    "corpus = open(\"atis_utterances.csv\", \"r\").read().split(\"\\n\")\n",
    "all_ent_labels = []\n",
    "for sentence in corpus:\n",
    "    doc = nlp(sentence.strip())\n",
    "    ents = doc.ents\n",
    "    all_ent_labels += [ent.label_ for ent in ents]\n",
    "c = Counter(all_ent_labels)\n",
    "print(c)"
   ],
   "metadata": {
    "collapsed": false
   }
  },
  {
   "cell_type": "markdown",
   "source": [
    "Nosso palpite inicial parece correto. Os rótulos de entidade mais frequentes são **GPE** (nomes de local), **DATE**, **TIME**, **CARDINAL** e **ORGANIZATION**. Obviamente, as entidades de localização referem-se a cidades/países de destino e origem, portanto, desempenham um papel muito importante no sucesso semântico geral de nossa aplicação.\n",
    "\n",
    "5. Primeiro vamos extrair as entidades de localização pelo spaCy Matcher procurando por um padrão do formulário de **preposição nome_local**. O código a seguir extrai entidades de localização precedidas por uma preposição:"
   ],
   "metadata": {
    "collapsed": false
   }
  },
  {
   "cell_type": "code",
   "execution_count": 92,
   "outputs": [
    {
     "name": "stdout",
     "output_type": "stream",
     "text": [
      "from denver\n",
      "to boston\n"
     ]
    }
   ],
   "source": [
    "import spacy\n",
    "from spacy.matcher import Matcher\n",
    "nlp = spacy.load(\"en_core_web_md\")\n",
    "matcher = Matcher(nlp.vocab)\n",
    "pattern = [{\"POS\": \"ADP\"}, {\"ENT_TYPE\": \"GPE\"}]\n",
    "matcher.add(\"prepositionLocation\", [pattern])\n",
    "doc = nlp(\"show me flights from denver to boston on tuesday\")\n",
    "matches = matcher(doc)\n",
    "for mid, start, end in matches:\n",
    "    print(doc[start:end])"
   ],
   "metadata": {
    "collapsed": false
   }
  },
  {
   "cell_type": "code",
   "execution_count": 93,
   "outputs": [
    {
     "data": {
      "text/plain": "<IPython.core.display.HTML object>",
      "text/html": "<span class=\"tex2jax_ignore\"><svg xmlns=\"http://www.w3.org/2000/svg\" xmlns:xlink=\"http://www.w3.org/1999/xlink\" xml:lang=\"en\" id=\"4f914bce2a3e49a398d3773547e8b14a-0\" class=\"displacy\" width=\"1625\" height=\"399.5\" direction=\"ltr\" style=\"max-width: none; height: 399.5px; color: #000000; background: #ffffff; font-family: Arial; direction: ltr\">\n<text class=\"displacy-token\" fill=\"currentColor\" text-anchor=\"middle\" y=\"309.5\">\n    <tspan class=\"displacy-word\" fill=\"currentColor\" x=\"50\">show</tspan>\n    <tspan class=\"displacy-tag\" dy=\"2em\" fill=\"currentColor\" x=\"50\">VERB</tspan>\n</text>\n\n<text class=\"displacy-token\" fill=\"currentColor\" text-anchor=\"middle\" y=\"309.5\">\n    <tspan class=\"displacy-word\" fill=\"currentColor\" x=\"225\">me</tspan>\n    <tspan class=\"displacy-tag\" dy=\"2em\" fill=\"currentColor\" x=\"225\">PRON</tspan>\n</text>\n\n<text class=\"displacy-token\" fill=\"currentColor\" text-anchor=\"middle\" y=\"309.5\">\n    <tspan class=\"displacy-word\" fill=\"currentColor\" x=\"400\">flights</tspan>\n    <tspan class=\"displacy-tag\" dy=\"2em\" fill=\"currentColor\" x=\"400\">NOUN</tspan>\n</text>\n\n<text class=\"displacy-token\" fill=\"currentColor\" text-anchor=\"middle\" y=\"309.5\">\n    <tspan class=\"displacy-word\" fill=\"currentColor\" x=\"575\">from</tspan>\n    <tspan class=\"displacy-tag\" dy=\"2em\" fill=\"currentColor\" x=\"575\">ADP</tspan>\n</text>\n\n<text class=\"displacy-token\" fill=\"currentColor\" text-anchor=\"middle\" y=\"309.5\">\n    <tspan class=\"displacy-word\" fill=\"currentColor\" x=\"750\">denver</tspan>\n    <tspan class=\"displacy-tag\" dy=\"2em\" fill=\"currentColor\" x=\"750\">PROPN</tspan>\n</text>\n\n<text class=\"displacy-token\" fill=\"currentColor\" text-anchor=\"middle\" y=\"309.5\">\n    <tspan class=\"displacy-word\" fill=\"currentColor\" x=\"925\">to</tspan>\n    <tspan class=\"displacy-tag\" dy=\"2em\" fill=\"currentColor\" x=\"925\">ADP</tspan>\n</text>\n\n<text class=\"displacy-token\" fill=\"currentColor\" text-anchor=\"middle\" y=\"309.5\">\n    <tspan class=\"displacy-word\" fill=\"currentColor\" x=\"1100\">boston</tspan>\n    <tspan class=\"displacy-tag\" dy=\"2em\" fill=\"currentColor\" x=\"1100\">PROPN</tspan>\n</text>\n\n<text class=\"displacy-token\" fill=\"currentColor\" text-anchor=\"middle\" y=\"309.5\">\n    <tspan class=\"displacy-word\" fill=\"currentColor\" x=\"1275\">on</tspan>\n    <tspan class=\"displacy-tag\" dy=\"2em\" fill=\"currentColor\" x=\"1275\">ADP</tspan>\n</text>\n\n<text class=\"displacy-token\" fill=\"currentColor\" text-anchor=\"middle\" y=\"309.5\">\n    <tspan class=\"displacy-word\" fill=\"currentColor\" x=\"1450\">tuesday</tspan>\n    <tspan class=\"displacy-tag\" dy=\"2em\" fill=\"currentColor\" x=\"1450\">PROPN</tspan>\n</text>\n\n<g class=\"displacy-arrow\">\n    <path class=\"displacy-arc\" id=\"arrow-4f914bce2a3e49a398d3773547e8b14a-0-0\" stroke-width=\"2px\" d=\"M70,264.5 C70,177.0 215.0,177.0 215.0,264.5\" fill=\"none\" stroke=\"currentColor\"/>\n    <text dy=\"1.25em\" style=\"font-size: 0.8em; letter-spacing: 1px\">\n        <textPath xlink:href=\"#arrow-4f914bce2a3e49a398d3773547e8b14a-0-0\" class=\"displacy-label\" startOffset=\"50%\" side=\"left\" fill=\"currentColor\" text-anchor=\"middle\">dative</textPath>\n    </text>\n    <path class=\"displacy-arrowhead\" d=\"M215.0,266.5 L223.0,254.5 207.0,254.5\" fill=\"currentColor\"/>\n</g>\n\n<g class=\"displacy-arrow\">\n    <path class=\"displacy-arc\" id=\"arrow-4f914bce2a3e49a398d3773547e8b14a-0-1\" stroke-width=\"2px\" d=\"M70,264.5 C70,89.5 395.0,89.5 395.0,264.5\" fill=\"none\" stroke=\"currentColor\"/>\n    <text dy=\"1.25em\" style=\"font-size: 0.8em; letter-spacing: 1px\">\n        <textPath xlink:href=\"#arrow-4f914bce2a3e49a398d3773547e8b14a-0-1\" class=\"displacy-label\" startOffset=\"50%\" side=\"left\" fill=\"currentColor\" text-anchor=\"middle\">dobj</textPath>\n    </text>\n    <path class=\"displacy-arrowhead\" d=\"M395.0,266.5 L403.0,254.5 387.0,254.5\" fill=\"currentColor\"/>\n</g>\n\n<g class=\"displacy-arrow\">\n    <path class=\"displacy-arc\" id=\"arrow-4f914bce2a3e49a398d3773547e8b14a-0-2\" stroke-width=\"2px\" d=\"M420,264.5 C420,177.0 565.0,177.0 565.0,264.5\" fill=\"none\" stroke=\"currentColor\"/>\n    <text dy=\"1.25em\" style=\"font-size: 0.8em; letter-spacing: 1px\">\n        <textPath xlink:href=\"#arrow-4f914bce2a3e49a398d3773547e8b14a-0-2\" class=\"displacy-label\" startOffset=\"50%\" side=\"left\" fill=\"currentColor\" text-anchor=\"middle\">prep</textPath>\n    </text>\n    <path class=\"displacy-arrowhead\" d=\"M565.0,266.5 L573.0,254.5 557.0,254.5\" fill=\"currentColor\"/>\n</g>\n\n<g class=\"displacy-arrow\">\n    <path class=\"displacy-arc\" id=\"arrow-4f914bce2a3e49a398d3773547e8b14a-0-3\" stroke-width=\"2px\" d=\"M595,264.5 C595,177.0 740.0,177.0 740.0,264.5\" fill=\"none\" stroke=\"currentColor\"/>\n    <text dy=\"1.25em\" style=\"font-size: 0.8em; letter-spacing: 1px\">\n        <textPath xlink:href=\"#arrow-4f914bce2a3e49a398d3773547e8b14a-0-3\" class=\"displacy-label\" startOffset=\"50%\" side=\"left\" fill=\"currentColor\" text-anchor=\"middle\">pobj</textPath>\n    </text>\n    <path class=\"displacy-arrowhead\" d=\"M740.0,266.5 L748.0,254.5 732.0,254.5\" fill=\"currentColor\"/>\n</g>\n\n<g class=\"displacy-arrow\">\n    <path class=\"displacy-arc\" id=\"arrow-4f914bce2a3e49a398d3773547e8b14a-0-4\" stroke-width=\"2px\" d=\"M420,264.5 C420,89.5 920.0,89.5 920.0,264.5\" fill=\"none\" stroke=\"currentColor\"/>\n    <text dy=\"1.25em\" style=\"font-size: 0.8em; letter-spacing: 1px\">\n        <textPath xlink:href=\"#arrow-4f914bce2a3e49a398d3773547e8b14a-0-4\" class=\"displacy-label\" startOffset=\"50%\" side=\"left\" fill=\"currentColor\" text-anchor=\"middle\">prep</textPath>\n    </text>\n    <path class=\"displacy-arrowhead\" d=\"M920.0,266.5 L928.0,254.5 912.0,254.5\" fill=\"currentColor\"/>\n</g>\n\n<g class=\"displacy-arrow\">\n    <path class=\"displacy-arc\" id=\"arrow-4f914bce2a3e49a398d3773547e8b14a-0-5\" stroke-width=\"2px\" d=\"M945,264.5 C945,177.0 1090.0,177.0 1090.0,264.5\" fill=\"none\" stroke=\"currentColor\"/>\n    <text dy=\"1.25em\" style=\"font-size: 0.8em; letter-spacing: 1px\">\n        <textPath xlink:href=\"#arrow-4f914bce2a3e49a398d3773547e8b14a-0-5\" class=\"displacy-label\" startOffset=\"50%\" side=\"left\" fill=\"currentColor\" text-anchor=\"middle\">pobj</textPath>\n    </text>\n    <path class=\"displacy-arrowhead\" d=\"M1090.0,266.5 L1098.0,254.5 1082.0,254.5\" fill=\"currentColor\"/>\n</g>\n\n<g class=\"displacy-arrow\">\n    <path class=\"displacy-arc\" id=\"arrow-4f914bce2a3e49a398d3773547e8b14a-0-6\" stroke-width=\"2px\" d=\"M420,264.5 C420,2.0 1275.0,2.0 1275.0,264.5\" fill=\"none\" stroke=\"currentColor\"/>\n    <text dy=\"1.25em\" style=\"font-size: 0.8em; letter-spacing: 1px\">\n        <textPath xlink:href=\"#arrow-4f914bce2a3e49a398d3773547e8b14a-0-6\" class=\"displacy-label\" startOffset=\"50%\" side=\"left\" fill=\"currentColor\" text-anchor=\"middle\">prep</textPath>\n    </text>\n    <path class=\"displacy-arrowhead\" d=\"M1275.0,266.5 L1283.0,254.5 1267.0,254.5\" fill=\"currentColor\"/>\n</g>\n\n<g class=\"displacy-arrow\">\n    <path class=\"displacy-arc\" id=\"arrow-4f914bce2a3e49a398d3773547e8b14a-0-7\" stroke-width=\"2px\" d=\"M1295,264.5 C1295,177.0 1440.0,177.0 1440.0,264.5\" fill=\"none\" stroke=\"currentColor\"/>\n    <text dy=\"1.25em\" style=\"font-size: 0.8em; letter-spacing: 1px\">\n        <textPath xlink:href=\"#arrow-4f914bce2a3e49a398d3773547e8b14a-0-7\" class=\"displacy-label\" startOffset=\"50%\" side=\"left\" fill=\"currentColor\" text-anchor=\"middle\">pobj</textPath>\n    </text>\n    <path class=\"displacy-arrowhead\" d=\"M1440.0,266.5 L1448.0,254.5 1432.0,254.5\" fill=\"currentColor\"/>\n</g>\n</svg></span>"
     },
     "metadata": {},
     "output_type": "display_data"
    }
   ],
   "source": [
    "# Visualizando ADP e GPE na frase.\n",
    "displacy.render(doc, style='dep')"
   ],
   "metadata": {
    "collapsed": false
   }
  },
  {
   "cell_type": "markdown",
   "source": [
    "Já vimos como inicializar um objeto Matcher e adicionar padrões a ele. Ainda assim, vamos relembrar como usar um objeto Matcher para extrair as correspondências agora. Aqui está o que fizemos neste segmento de código:\n",
    "\n",
    "a) Começamos importando o **spacy** e a classe **spacy.matcher** nas linhas 1-2.\n",
    "b) Criamos um objeto pipeline de linguagem, **nlp**, na linha 3.\n",
    "c) Na linha 4, inicializamos o objeto Matcher com o vocabulário da linguagem.\n",
    "d) Na linha 5, criamos um padrão combinando dois tokens, uma preposição (tag **POS ADP** significa *adposição = preposição + posposição*) e uma entidade de localização (rótulo **GPE** significa uma *entidade de localização*).\n",
    "e) Adicionamos este padrão ao objeto Matcher.\n",
    "f) Por fim, solicitamos as correspondências em uma sentença corpus de exemplo e imprimimos as correspondências.\n",
    "\n",
    "6. Embora as preposições **from** e **to** dominem neste conjunto de dados, os verbos sobre **leaving** e **arriving** podem ser usados com uma variedade de preposições. Aqui estão mais algumas frases de exemplo do conjunto de dados:"
   ],
   "metadata": {
    "collapsed": false
   }
  },
  {
   "cell_type": "code",
   "execution_count": 94,
   "outputs": [
    {
     "name": "stdout",
     "output_type": "stream",
     "text": [
      "from ontario\n",
      "to atlanta\n",
      "in chicago\n"
     ]
    }
   ],
   "source": [
    "doc = nlp(\"i'm looking for a flight that goes from ontario to atlanta and stops in chicago\")\n",
    "matches = matcher(doc)\n",
    "for mid, start, end in matches:\n",
    "\tprint(doc[start:end])"
   ],
   "metadata": {
    "collapsed": false
   }
  },
  {
   "cell_type": "code",
   "execution_count": 95,
   "outputs": [
    {
     "data": {
      "text/plain": "<IPython.core.display.HTML object>",
      "text/html": "<span class=\"tex2jax_ignore\"><div class=\"entities\" style=\"line-height: 2.5; direction: ltr\">i'm looking for a flight that goes from \n<mark class=\"entity\" style=\"background: #feca74; padding: 0.45em 0.6em; margin: 0 0.25em; line-height: 1; border-radius: 0.35em;\">\n    ontario\n    <span style=\"font-size: 0.8em; font-weight: bold; line-height: 1; border-radius: 0.35em; vertical-align: middle; margin-left: 0.5rem\">GPE</span>\n</mark>\n to \n<mark class=\"entity\" style=\"background: #feca74; padding: 0.45em 0.6em; margin: 0 0.25em; line-height: 1; border-radius: 0.35em;\">\n    atlanta\n    <span style=\"font-size: 0.8em; font-weight: bold; line-height: 1; border-radius: 0.35em; vertical-align: middle; margin-left: 0.5rem\">GPE</span>\n</mark>\n and stops in \n<mark class=\"entity\" style=\"background: #feca74; padding: 0.45em 0.6em; margin: 0 0.25em; line-height: 1; border-radius: 0.35em;\">\n    chicago\n    <span style=\"font-size: 0.8em; font-weight: bold; line-height: 1; border-radius: 0.35em; vertical-align: middle; margin-left: 0.5rem\">GPE</span>\n</mark>\n</div></span>"
     },
     "metadata": {},
     "output_type": "display_data"
    }
   ],
   "source": [
    "# Visualizando ADP e GPE na frase.\n",
    "displacy.render(doc, style='ent')"
   ],
   "metadata": {
    "collapsed": false
   }
  },
  {
   "cell_type": "code",
   "execution_count": 96,
   "outputs": [
    {
     "name": "stdout",
     "output_type": "stream",
     "text": [
      "in chicago\n"
     ]
    }
   ],
   "source": [
    "doc = nlp(\"what flights arrive in chicago on sunday on continental\")\n",
    "matches = matcher(doc)\n",
    "for mid, start, end in matches:\n",
    "    print(doc[start:end])"
   ],
   "metadata": {
    "collapsed": false
   }
  },
  {
   "cell_type": "markdown",
   "source": [
    "Outra frase de exemplo do conjunto de dados contém uma abreviação em uma entidade de destino:"
   ],
   "metadata": {
    "collapsed": false
   }
  },
  {
   "cell_type": "code",
   "execution_count": 97,
   "outputs": [
    {
     "name": "stdout",
     "output_type": "stream",
     "text": [
      "from Long\n",
      "to St.\n",
      "of dallas\n"
     ]
    }
   ],
   "source": [
    "doc = nlp(\"yes i'd like a flight from Long Beach to St. louis by way of dallas\")\n",
    "matches = matcher(doc)\n",
    "for mid, start, end in matches:\n",
    "    print(doc[start:end])"
   ],
   "metadata": {
    "collapsed": false
   }
  },
  {
   "cell_type": "markdown",
   "source": [
    "Nossa última frase de exemplo é novamente uma frase de pergunta:"
   ],
   "metadata": {
    "collapsed": false
   }
  },
  {
   "cell_type": "markdown",
   "source": [
    "doc = nlp(\"what are the evening flights flying out of dallas\")\n",
    "matches = matcher(doc)\n",
    "for mid, start, end in matches:\n",
    "    print(doc[start:end])"
   ],
   "metadata": {
    "collapsed": false
   }
  },
  {
   "cell_type": "markdown",
   "source": [
    "Aqui, vemos alguns verbos frasais, **arrive in**, bem como preposições e combinações de verbos, como **stop in** e **fly out of**. **By the way de Dallas** não inclui um verbo em tudo. O usuário indicou que deseja fazer uma parada em Dallas. **to, from, in, out e of*** são preposições comuns que são usadas em um contexto de viagem.\n",
    "\n",
    "7. Após extrair as localizações, agora podemos extrair as informações da companhia aérea. O rótulo de entidade **ORG** significa uma organização e corresponde aos nomes das companhias aéreas em nosso conjunto de dados. O segmento de código a seguir extrai os nomes das organizações, possivelmente nomes com várias palavras:"
   ],
   "metadata": {
    "collapsed": false
   }
  },
  {
   "cell_type": "code",
   "execution_count": 98,
   "outputs": [
    {
     "name": "stdout",
     "output_type": "stream",
     "text": [
      "united\n",
      "united airlines\n",
      "airlines\n"
     ]
    }
   ],
   "source": [
    "import spacy\n",
    "from spacy.matcher import Matcher\n",
    "nlp = spacy.load(\"en_core_web_md\")\n",
    "matcher = Matcher(nlp.vocab)\n",
    "\n",
    "pattern = [{\"ENT_TYPE\": \"ORG\", \"OP\": \"+\"}]\n",
    "matcher.add(\"AirlineName\", [pattern])\n",
    "doc = nlp(\"what is the earliest united airlines flight flying from denver\")\n",
    "matches = matcher(doc)\n",
    "for mid,start,end in matches:\n",
    "    print(doc[start:end])"
   ],
   "metadata": {
    "collapsed": false
   }
  },
  {
   "cell_type": "markdown",
   "source": [
    "Aqui, extraímos as entidades cujos rótulos são **ORG**. Queríamos capturar uma ou mais ocorrências para capturar também as entidades de várias palavras, e é por isso que usamos o operador **OP: \"+\"**.\n",
    "\n",
    "8. As datas e horários de extração não são muito diferentes; você pode replicar o anterior com código com **ENT_TYPE: DATE** e **ENT_TYPE: TIME**. Nós encorajamos você a tentar você mesmo. A captura de tela a seguir mostra detalhadamente a aparência das entidades de data e hora:"
   ],
   "metadata": {
    "collapsed": false
   }
  },
  {
   "cell_type": "code",
   "execution_count": 99,
   "outputs": [
    {
     "data": {
      "text/plain": "<IPython.core.display.HTML object>",
      "text/html": "<span class=\"tex2jax_ignore\"><div class=\"entities\" style=\"line-height: 2.5; direction: ltr\">show me all flights from \n<mark class=\"entity\" style=\"background: #feca74; padding: 0.45em 0.6em; margin: 0 0.25em; line-height: 1; border-radius: 0.35em;\">\n    atlanta\n    <span style=\"font-size: 0.8em; font-weight: bold; line-height: 1; border-radius: 0.35em; vertical-align: middle; margin-left: 0.5rem\">GPE</span>\n</mark>\n to \n<mark class=\"entity\" style=\"background: #feca74; padding: 0.45em 0.6em; margin: 0 0.25em; line-height: 1; border-radius: 0.35em;\">\n    denver\n    <span style=\"font-size: 0.8em; font-weight: bold; line-height: 1; border-radius: 0.35em; vertical-align: middle; margin-left: 0.5rem\">GPE</span>\n</mark>\n which leave after \n<mark class=\"entity\" style=\"background: #bfe1d9; padding: 0.45em 0.6em; margin: 0 0.25em; line-height: 1; border-radius: 0.35em;\">\n    5 o'clock pm\n    <span style=\"font-size: 0.8em; font-weight: bold; line-height: 1; border-radius: 0.35em; vertical-align: middle; margin-left: 0.5rem\">TIME</span>\n</mark>\n \n<mark class=\"entity\" style=\"background: #bfe1d9; padding: 0.45em 0.6em; margin: 0 0.25em; line-height: 1; border-radius: 0.35em;\">\n    the day\n    <span style=\"font-size: 0.8em; font-weight: bold; line-height: 1; border-radius: 0.35em; vertical-align: middle; margin-left: 0.5rem\">DATE</span>\n</mark>\n after \n<mark class=\"entity\" style=\"background: #bfe1d9; padding: 0.45em 0.6em; margin: 0 0.25em; line-height: 1; border-radius: 0.35em;\">\n    tomorrow\n    <span style=\"font-size: 0.8em; font-weight: bold; line-height: 1; border-radius: 0.35em; vertical-align: middle; margin-left: 0.5rem\">DATE</span>\n</mark>\n</div></span>"
     },
     "metadata": {},
     "output_type": "display_data"
    },
    {
     "data": {
      "text/plain": "<IPython.core.display.HTML object>",
      "text/html": "<span class=\"tex2jax_ignore\"><div class=\"entities\" style=\"line-height: 2.5; direction: ltr\">show me all flights from \n<mark class=\"entity\" style=\"background: #feca74; padding: 0.45em 0.6em; margin: 0 0.25em; line-height: 1; border-radius: 0.35em;\">\n    boston\n    <span style=\"font-size: 0.8em; font-weight: bold; line-height: 1; border-radius: 0.35em; vertical-align: middle; margin-left: 0.5rem\">GPE</span>\n</mark>\n to \n<mark class=\"entity\" style=\"background: #feca74; padding: 0.45em 0.6em; margin: 0 0.25em; line-height: 1; border-radius: 0.35em;\">\n    pittsburgh\n    <span style=\"font-size: 0.8em; font-weight: bold; line-height: 1; border-radius: 0.35em; vertical-align: middle; margin-left: 0.5rem\">GPE</span>\n</mark>\n \n<mark class=\"entity\" style=\"background: #bfe1d9; padding: 0.45em 0.6em; margin: 0 0.25em; line-height: 1; border-radius: 0.35em;\">\n    next wednesday\n    <span style=\"font-size: 0.8em; font-weight: bold; line-height: 1; border-radius: 0.35em; vertical-align: middle; margin-left: 0.5rem\">DATE</span>\n</mark>\n \n<mark class=\"entity\" style=\"background: #aa9cfc; padding: 0.45em 0.6em; margin: 0 0.25em; line-height: 1; border-radius: 0.35em;\">\n    nigth\n    <span style=\"font-size: 0.8em; font-weight: bold; line-height: 1; border-radius: 0.35em; vertical-align: middle; margin-left: 0.5rem\">PERSON</span>\n</mark>\n after \n<mark class=\"entity\" style=\"background: #bfe1d9; padding: 0.45em 0.6em; margin: 0 0.25em; line-height: 1; border-radius: 0.35em;\">\n    6 o'clock\n    <span style=\"font-size: 0.8em; font-weight: bold; line-height: 1; border-radius: 0.35em; vertical-align: middle; margin-left: 0.5rem\">TIME</span>\n</mark>\n</div></span>"
     },
     "metadata": {},
     "output_type": "display_data"
    },
    {
     "data": {
      "text/plain": "<IPython.core.display.HTML object>",
      "text/html": "<span class=\"tex2jax_ignore\"><div class=\"entities\" style=\"line-height: 2.5; direction: ltr\">show me all the delta flights leaving or arriving at \n<mark class=\"entity\" style=\"background: #feca74; padding: 0.45em 0.6em; margin: 0 0.25em; line-height: 1; border-radius: 0.35em;\">\n    pittsburgh\n    <span style=\"font-size: 0.8em; font-weight: bold; line-height: 1; border-radius: 0.35em; vertical-align: middle; margin-left: 0.5rem\">GPE</span>\n</mark>\n \n<mark class=\"entity\" style=\"background: #bfe1d9; padding: 0.45em 0.6em; margin: 0 0.25em; line-height: 1; border-radius: 0.35em;\">\n    between 12 and 4\n    <span style=\"font-size: 0.8em; font-weight: bold; line-height: 1; border-radius: 0.35em; vertical-align: middle; margin-left: 0.5rem\">DATE</span>\n</mark>\n in the \n<mark class=\"entity\" style=\"background: #bfe1d9; padding: 0.45em 0.6em; margin: 0 0.25em; line-height: 1; border-radius: 0.35em;\">\n    afternoon\n    <span style=\"font-size: 0.8em; font-weight: bold; line-height: 1; border-radius: 0.35em; vertical-align: middle; margin-left: 0.5rem\">TIME</span>\n</mark>\n</div></span>"
     },
     "metadata": {},
     "output_type": "display_data"
    },
    {
     "data": {
      "text/plain": "<IPython.core.display.HTML object>",
      "text/html": "<span class=\"tex2jax_ignore\"><div class=\"entities\" style=\"line-height: 2.5; direction: ltr\">show me the fligths before \n<mark class=\"entity\" style=\"background: #e4e7d2; padding: 0.45em 0.6em; margin: 0 0.25em; line-height: 1; border-radius: 0.35em;\">\n    11\n    <span style=\"font-size: 0.8em; font-weight: bold; line-height: 1; border-radius: 0.35em; vertical-align: middle; margin-left: 0.5rem\">CARDINAL</span>\n</mark>\n am on \n<mark class=\"entity\" style=\"background: #bfe1d9; padding: 0.45em 0.6em; margin: 0 0.25em; line-height: 1; border-radius: 0.35em;\">\n    august second\n    <span style=\"font-size: 0.8em; font-weight: bold; line-height: 1; border-radius: 0.35em; vertical-align: middle; margin-left: 0.5rem\">DATE</span>\n</mark>\n from \n<mark class=\"entity\" style=\"background: #feca74; padding: 0.45em 0.6em; margin: 0 0.25em; line-height: 1; border-radius: 0.35em;\">\n    boston\n    <span style=\"font-size: 0.8em; font-weight: bold; line-height: 1; border-radius: 0.35em; vertical-align: middle; margin-left: 0.5rem\">GPE</span>\n</mark>\n to \n<mark class=\"entity\" style=\"background: #feca74; padding: 0.45em 0.6em; margin: 0 0.25em; line-height: 1; border-radius: 0.35em;\">\n    denver\n    <span style=\"font-size: 0.8em; font-weight: bold; line-height: 1; border-radius: 0.35em; vertical-align: middle; margin-left: 0.5rem\">GPE</span>\n</mark>\n on delta</div></span>"
     },
     "metadata": {},
     "output_type": "display_data"
    }
   ],
   "source": [
    "doc1 = nlp(\"show me all flights from atlanta to denver which leave after 5 o'clock pm the day after tomorrow\")\n",
    "doc2 = nlp(\"show me all flights from boston to pittsburgh next wednesday nigth after 6 o'clock\")\n",
    "doc3 = nlp('show me all the delta flights leaving or arriving at pittsburgh between 12 and 4 in the afternoon')\n",
    "doc4 = nlp(\"show me the fligths before 11 am on august second from boston to denver on delta\")\n",
    "\n",
    "displacy.render(doc1, style='ent')\n",
    "displacy.render(doc2, style='ent')\n",
    "displacy.render(doc3, style='ent')\n",
    "displacy.render(doc4, style='ent')"
   ],
   "metadata": {
    "collapsed": false
   }
  },
  {
   "cell_type": "markdown",
   "source": [
    "9. Em seguida, vamos extrair entidades do tipo abreviação. Extrair as entidades de abreviação é um pouco mais complicado. Primeiro, veremos como as abreviações aparecem:\n",
    "~~~python\n",
    "what does restriction ap 57 mean?\n",
    "what does the abbreviation co mean?\n",
    "what does fare code qo mean\n",
    "what is the abbreviation d10\n",
    "what does code y mean\n",
    "what does the fare code f and fn mean\n",
    "what is booking class c\n",
    "~~~\n",
    "\n",
    "Apenas uma dessas frases inclui uma entidade. A primeira frase de exemplo inclui uma entidade **AMOUNT**, que é **57**. Fora isso, as abreviações não são marcadas com nenhum tipo de entidade. Nesse caso, temos que fornecer algumas regras personalizadas para o Matcher. Vamos fazer algumas observações primeiro e depois formar um padrão Matcher:\n",
    "a) Uma abreviatura pode ser dividida em duas partes – letras e dígitos.\n",
    "b) A parte da letra pode ter de 1 a 2 caracteres.\n",
    "c) A parte do dígito também tem 1-2 caracteres.\n",
    "d) A presença de dígitos indica uma entidade abreviada.\n",
    "e) A presença das seguintes palavras indica uma entidade de abreviatura: classe, código, abreviatura.\n",
    "f) A etiqueta **POS** de uma abreviatura é um substantivo. Se a palavra candidata for uma palavra de 1 ou 2 letras, podemos olhar para a etiqueta **POS** e ver se é um substantivo. Essa abordagem elimina os falsos positivos, como us (pronome), me (pronome), a (determinador) e an (determinador).\n",
    "\n",
    "10. Vamos agora colocar essas observações nos padrões do Matcher:"
   ],
   "metadata": {
    "collapsed": false
   }
  },
  {
   "cell_type": "code",
   "execution_count": 100,
   "outputs": [],
   "source": [
    "pattern1 = [{\"TEXT\": {\"REGEX\": \"\\w{1,2}\\d{1,2}\"}}]\n",
    "pattern2 = [{\"SHAPE\": { \"IN\": [\"x\", \"xx\"]}}, {\"SHAPE\": { \"IN\":[\"d\", \"dd\"]}}]\n",
    "pattern3 = [{\"TEXT\": {\"IN\": [\"class\", \"code\", \"abbrev\",\"abbreviation\"]}}, {\"SHAPE\": { \"IN\": [\"x\", \"xx\"]}}]\n",
    "pattern4 = [{\"POS\": \"NOUN\", \"SHAPE\": { \"IN\": [\"x\", \"xx\"]}}]"
   ],
   "metadata": {
    "collapsed": false
   }
  },
  {
   "cell_type": "markdown",
   "source": [
    "Em seguida, criamos um objeto Matcher com os padrões que definimos:"
   ],
   "metadata": {
    "collapsed": false
   }
  },
  {
   "cell_type": "code",
   "execution_count": 101,
   "outputs": [],
   "source": [
    "matcher = Matcher(nlp.vocab)\n",
    "matcher.add(\"abbrevEntities\", [pattern1, pattern2, pattern3, pattern4])"
   ],
   "metadata": {
    "collapsed": false
   }
  },
  {
   "cell_type": "markdown",
   "source": [
    "Agora estamos prontos para alimentar nossas frases no matcher:"
   ],
   "metadata": {
    "collapsed": false
   }
  },
  {
   "cell_type": "code",
   "execution_count": 102,
   "outputs": [],
   "source": [
    "sentences = [\n",
    "    'what does restriction ap 57 mean',\n",
    "    'what does the abbreviation co mean',\n",
    "    'what does fare code qo mean',\n",
    "    'what is the abbreviation d10',\n",
    "    'what does code y mean',\n",
    "    'what does the fare code f and fn mean',\n",
    "    'what is booking class c'\n",
    "]"
   ],
   "metadata": {
    "collapsed": false
   }
  },
  {
   "cell_type": "markdown",
   "source": [
    "18. Estamos prontos para enviar nossas frases para o matcher:"
   ],
   "metadata": {
    "collapsed": false
   }
  },
  {
   "cell_type": "code",
   "execution_count": 103,
   "outputs": [
    {
     "name": "stdout",
     "output_type": "stream",
     "text": [
      "ap 57\n",
      "57\n",
      "abbreviation co\n",
      "co\n",
      "code qo\n",
      "d10\n",
      "code y\n",
      "code f\n",
      "class c\n",
      "c\n"
     ]
    }
   ],
   "source": [
    "for sent in sentences:\n",
    "\tdoc = nlp(sent)\n",
    "\tmatches = matcher(doc)\n",
    "\tfor mid, start, end in matches:\n",
    "\t\tprint(doc[start: end])"
   ],
   "metadata": {
    "collapsed": false
   }
  },
  {
   "cell_type": "markdown",
   "source": [
    "No código anterior, definimos quatro padrões:\n",
    "a) O primeiro padrão corresponde a um único token, que consiste em 1-2 letras e 1-2 dígitos. Por exemplo, **d1, d10, ad1 e ad21** corresponderão a esse padrão.\n",
    "b) O segundo padrão corresponde a abreviaturas de 2 tokens em que o primeiro token tem 1-2 letras e o segundo token 1-2 dígitos. As abreviaturas **ap 5, ap 57, a 5 e a 57** irão corresponder a este padrão.\n",
    "c) O terceiro padrão também corresponde a dois tokens. O primeiro token é uma palavra de pista de contexto, como **class** ou **code**, e o segundo token deve ser um token de 1-2 letras. Algumas correspondências de exemplo são o **code f**, **code y** e a **class c**.\n",
    "d) O quarto padrão extrai palavras curtas de 1-2 letras cuja tag **POS** é **NOUN**. Alguns exemplos de correspondências das frases anteriores são **c** e **co**.\n",
    "\n",
    "spaCy Matcher torna a vida mais fácil para nós, permitindo-nos fazer uso de forma de token, dicas de contexto e uma tag de token **POS**. Fizemos uma extração de entidade muito bem-sucedida nesta subseção extraindo locais, nomes de companhias aéreas, datas, horários e abreviações. Na próxima subseção, aprofundaremos a sintaxe da frase e extrairemos entidades das frases onde o contexto não oferece muitas pistas.\n",
    "\n",
    "### Usando árvores de dependência para extrair entidades\n",
    "Na subseção anterior, extraímos entidades onde o contexto fornece pistas óbvias. Extrair a cidade de destino da frase a seguir é fácil. Podemos procurar o padrão **to + GPE**:\n",
    "~~~python\n",
    "I want to fly to Munich tomorrow\n",
    "~~~\n",
    "Mas suponha que o usuário forneça uma das seguintes frases:\n",
    "~~~python\n",
    "I'm going to a conference in Munich. I need an air ticket.\n",
    "My sister's wedding will be held in Munich. I'd like to book a flight.\n",
    "~~~\n",
    "\n",
    "Aqui, a preposição **to** refere-se a **conference**, não a **Munich**, na primeira frase. Nesta frase, precisamos de um padrão como para **+ .... + GPE**. Então, temos que ter cuidado com quais palavras podem vir entre \"to\" e o nome da cidade, bem como quais palavras não devem vir. Por exemplo, esta frase tem um significado completamente diferente e não deve corresponder:\n",
    "~~~python\n",
    "I want to book a flight to my conference without stopping at Berlin.\n",
    "~~~\n",
    "\n",
    "Na segunda frase, não encontramos a presença do **to**. Aqui, como vemos a partir desses exemplos, precisamos examinar as relações sintáticas entre as palavras. No Capítulo 3, Características Linguísticas, já vimos como interpretar árvores de dependência para entender as relações entre palavras. Nesta subseção, percorreremos as árvores de dependência.\n",
    "\n",
    "Percorrer uma árvore de dependências significa visitar os tokens em uma ordem personalizada, não necessariamente da esquerda para a direita. Normalmente, paramos de iterar na árvore de dependências quando encontramos o que estamos procurando. Novamente, uma árvore de dependência mostra as relações sintáticas entre suas palavras. Lembre-se do Capítulo 3, Características linguísticas, que as relações são representadas com setas direcionadas, conectando a cabeça e o filho de uma relação. Cada palavra em uma frase tem que envolver pelo menos uma relação. Esse fato garante que visitaremos cada palavra enquanto percorremos a frase.\n",
    "\n",
    "> #### RECALL\n",
    "> Antes de prosseguir com o código, primeiro, vamos relembrar alguns conceitos sobre árvores de dependência. ROOT é um rótulo de dependência especial e é sempre atribuído ao verbo principal da frase. spaCy mostra relações sintáticas com arcos. Um dos tokens é o pai sintático (chamado de HEAD) e o outro é dependente (chamado de CHILD). A título de exemplo, na Figura 6.3, **going** tem 3 filhos sintáticos – **I**, **m** e  **to**. De forma equivalente, o núcleo sintático de **to** está **going** (o mesmo se aplica a **I** e **m**)."
   ],
   "metadata": {
    "collapsed": false
   }
  },
  {
   "cell_type": "markdown",
   "source": [
    "Voltando aos nossos exemplos, vamos iterar as árvores de dependência de enunciados para descobrir se a preposição **to** está sintaticamente relacionada à entidade de localização, **Munich**. Antes de tudo, vamos ver a análise de dependência da nossa frase de exemplo *I'm going to a conference in Munich*  e também lembrar como é uma árvore de dependência:"
   ],
   "metadata": {
    "collapsed": false
   }
  },
  {
   "cell_type": "code",
   "execution_count": 104,
   "outputs": [
    {
     "data": {
      "text/plain": "<IPython.core.display.HTML object>",
      "text/html": "<span class=\"tex2jax_ignore\"><svg xmlns=\"http://www.w3.org/2000/svg\" xmlns:xlink=\"http://www.w3.org/1999/xlink\" xml:lang=\"en\" id=\"de46f9efda054ae08d562b4345f07714-0\" class=\"displacy\" width=\"1450\" height=\"312.0\" direction=\"ltr\" style=\"max-width: none; height: 312.0px; color: #000000; background: #ffffff; font-family: Arial; direction: ltr\">\n<text class=\"displacy-token\" fill=\"currentColor\" text-anchor=\"middle\" y=\"222.0\">\n    <tspan class=\"displacy-word\" fill=\"currentColor\" x=\"50\">I</tspan>\n    <tspan class=\"displacy-tag\" dy=\"2em\" fill=\"currentColor\" x=\"50\">PRON</tspan>\n</text>\n\n<text class=\"displacy-token\" fill=\"currentColor\" text-anchor=\"middle\" y=\"222.0\">\n    <tspan class=\"displacy-word\" fill=\"currentColor\" x=\"225\">'m</tspan>\n    <tspan class=\"displacy-tag\" dy=\"2em\" fill=\"currentColor\" x=\"225\">AUX</tspan>\n</text>\n\n<text class=\"displacy-token\" fill=\"currentColor\" text-anchor=\"middle\" y=\"222.0\">\n    <tspan class=\"displacy-word\" fill=\"currentColor\" x=\"400\">going</tspan>\n    <tspan class=\"displacy-tag\" dy=\"2em\" fill=\"currentColor\" x=\"400\">VERB</tspan>\n</text>\n\n<text class=\"displacy-token\" fill=\"currentColor\" text-anchor=\"middle\" y=\"222.0\">\n    <tspan class=\"displacy-word\" fill=\"currentColor\" x=\"575\">to</tspan>\n    <tspan class=\"displacy-tag\" dy=\"2em\" fill=\"currentColor\" x=\"575\">ADP</tspan>\n</text>\n\n<text class=\"displacy-token\" fill=\"currentColor\" text-anchor=\"middle\" y=\"222.0\">\n    <tspan class=\"displacy-word\" fill=\"currentColor\" x=\"750\">a</tspan>\n    <tspan class=\"displacy-tag\" dy=\"2em\" fill=\"currentColor\" x=\"750\">DET</tspan>\n</text>\n\n<text class=\"displacy-token\" fill=\"currentColor\" text-anchor=\"middle\" y=\"222.0\">\n    <tspan class=\"displacy-word\" fill=\"currentColor\" x=\"925\">conference</tspan>\n    <tspan class=\"displacy-tag\" dy=\"2em\" fill=\"currentColor\" x=\"925\">NOUN</tspan>\n</text>\n\n<text class=\"displacy-token\" fill=\"currentColor\" text-anchor=\"middle\" y=\"222.0\">\n    <tspan class=\"displacy-word\" fill=\"currentColor\" x=\"1100\">in</tspan>\n    <tspan class=\"displacy-tag\" dy=\"2em\" fill=\"currentColor\" x=\"1100\">ADP</tspan>\n</text>\n\n<text class=\"displacy-token\" fill=\"currentColor\" text-anchor=\"middle\" y=\"222.0\">\n    <tspan class=\"displacy-word\" fill=\"currentColor\" x=\"1275\">Munich.</tspan>\n    <tspan class=\"displacy-tag\" dy=\"2em\" fill=\"currentColor\" x=\"1275\">PROPN</tspan>\n</text>\n\n<g class=\"displacy-arrow\">\n    <path class=\"displacy-arc\" id=\"arrow-de46f9efda054ae08d562b4345f07714-0-0\" stroke-width=\"2px\" d=\"M70,177.0 C70,2.0 400.0,2.0 400.0,177.0\" fill=\"none\" stroke=\"currentColor\"/>\n    <text dy=\"1.25em\" style=\"font-size: 0.8em; letter-spacing: 1px\">\n        <textPath xlink:href=\"#arrow-de46f9efda054ae08d562b4345f07714-0-0\" class=\"displacy-label\" startOffset=\"50%\" side=\"left\" fill=\"currentColor\" text-anchor=\"middle\">nsubj</textPath>\n    </text>\n    <path class=\"displacy-arrowhead\" d=\"M70,179.0 L62,167.0 78,167.0\" fill=\"currentColor\"/>\n</g>\n\n<g class=\"displacy-arrow\">\n    <path class=\"displacy-arc\" id=\"arrow-de46f9efda054ae08d562b4345f07714-0-1\" stroke-width=\"2px\" d=\"M245,177.0 C245,89.5 395.0,89.5 395.0,177.0\" fill=\"none\" stroke=\"currentColor\"/>\n    <text dy=\"1.25em\" style=\"font-size: 0.8em; letter-spacing: 1px\">\n        <textPath xlink:href=\"#arrow-de46f9efda054ae08d562b4345f07714-0-1\" class=\"displacy-label\" startOffset=\"50%\" side=\"left\" fill=\"currentColor\" text-anchor=\"middle\">aux</textPath>\n    </text>\n    <path class=\"displacy-arrowhead\" d=\"M245,179.0 L237,167.0 253,167.0\" fill=\"currentColor\"/>\n</g>\n\n<g class=\"displacy-arrow\">\n    <path class=\"displacy-arc\" id=\"arrow-de46f9efda054ae08d562b4345f07714-0-2\" stroke-width=\"2px\" d=\"M420,177.0 C420,89.5 570.0,89.5 570.0,177.0\" fill=\"none\" stroke=\"currentColor\"/>\n    <text dy=\"1.25em\" style=\"font-size: 0.8em; letter-spacing: 1px\">\n        <textPath xlink:href=\"#arrow-de46f9efda054ae08d562b4345f07714-0-2\" class=\"displacy-label\" startOffset=\"50%\" side=\"left\" fill=\"currentColor\" text-anchor=\"middle\">prep</textPath>\n    </text>\n    <path class=\"displacy-arrowhead\" d=\"M570.0,179.0 L578.0,167.0 562.0,167.0\" fill=\"currentColor\"/>\n</g>\n\n<g class=\"displacy-arrow\">\n    <path class=\"displacy-arc\" id=\"arrow-de46f9efda054ae08d562b4345f07714-0-3\" stroke-width=\"2px\" d=\"M770,177.0 C770,89.5 920.0,89.5 920.0,177.0\" fill=\"none\" stroke=\"currentColor\"/>\n    <text dy=\"1.25em\" style=\"font-size: 0.8em; letter-spacing: 1px\">\n        <textPath xlink:href=\"#arrow-de46f9efda054ae08d562b4345f07714-0-3\" class=\"displacy-label\" startOffset=\"50%\" side=\"left\" fill=\"currentColor\" text-anchor=\"middle\">det</textPath>\n    </text>\n    <path class=\"displacy-arrowhead\" d=\"M770,179.0 L762,167.0 778,167.0\" fill=\"currentColor\"/>\n</g>\n\n<g class=\"displacy-arrow\">\n    <path class=\"displacy-arc\" id=\"arrow-de46f9efda054ae08d562b4345f07714-0-4\" stroke-width=\"2px\" d=\"M595,177.0 C595,2.0 925.0,2.0 925.0,177.0\" fill=\"none\" stroke=\"currentColor\"/>\n    <text dy=\"1.25em\" style=\"font-size: 0.8em; letter-spacing: 1px\">\n        <textPath xlink:href=\"#arrow-de46f9efda054ae08d562b4345f07714-0-4\" class=\"displacy-label\" startOffset=\"50%\" side=\"left\" fill=\"currentColor\" text-anchor=\"middle\">pobj</textPath>\n    </text>\n    <path class=\"displacy-arrowhead\" d=\"M925.0,179.0 L933.0,167.0 917.0,167.0\" fill=\"currentColor\"/>\n</g>\n\n<g class=\"displacy-arrow\">\n    <path class=\"displacy-arc\" id=\"arrow-de46f9efda054ae08d562b4345f07714-0-5\" stroke-width=\"2px\" d=\"M945,177.0 C945,89.5 1095.0,89.5 1095.0,177.0\" fill=\"none\" stroke=\"currentColor\"/>\n    <text dy=\"1.25em\" style=\"font-size: 0.8em; letter-spacing: 1px\">\n        <textPath xlink:href=\"#arrow-de46f9efda054ae08d562b4345f07714-0-5\" class=\"displacy-label\" startOffset=\"50%\" side=\"left\" fill=\"currentColor\" text-anchor=\"middle\">prep</textPath>\n    </text>\n    <path class=\"displacy-arrowhead\" d=\"M1095.0,179.0 L1103.0,167.0 1087.0,167.0\" fill=\"currentColor\"/>\n</g>\n\n<g class=\"displacy-arrow\">\n    <path class=\"displacy-arc\" id=\"arrow-de46f9efda054ae08d562b4345f07714-0-6\" stroke-width=\"2px\" d=\"M1120,177.0 C1120,89.5 1270.0,89.5 1270.0,177.0\" fill=\"none\" stroke=\"currentColor\"/>\n    <text dy=\"1.25em\" style=\"font-size: 0.8em; letter-spacing: 1px\">\n        <textPath xlink:href=\"#arrow-de46f9efda054ae08d562b4345f07714-0-6\" class=\"displacy-label\" startOffset=\"50%\" side=\"left\" fill=\"currentColor\" text-anchor=\"middle\">pobj</textPath>\n    </text>\n    <path class=\"displacy-arrowhead\" d=\"M1270.0,179.0 L1278.0,167.0 1262.0,167.0\" fill=\"currentColor\"/>\n</g>\n</svg></span>"
     },
     "metadata": {},
     "output_type": "display_data"
    }
   ],
   "source": [
    "doc = nlp(\"I'm going to a conference in Munich.\")\n",
    "displacy.render(doc, style='dep')"
   ],
   "metadata": {
    "collapsed": false
   }
  },
  {
   "cell_type": "markdown",
   "source": [
    "Não há arcos de entrada no verbo **going**, então **going** é a raiz da árvore de dependência (quando examinamos o código, veremos que o rótulo de dependência é **ROOT**). Isso deve acontecer porque **going** é o verbo principal da frase. Se seguirmos o arco à sua direita imediata, encontraremos **to**; saltando sobre os arcos à direita chegamos a **Munich**. Isso mostra que há uma relação sintática entre **to** e **Munich**.\n",
    "Vamos agora iterar sobre a árvore de dependências com código. Existem duas maneiras possíveis de se conectar **to** e **Munich**:\n",
    " * Da esquerda para a direita. Partimos de **to** e tentamos chegar a Munique visitando os filhos sintáticos de \"to\". Essa abordagem pode não ser uma boa ideia, porque se \"to\" tiver mais de um filho, precisamos verificar cada filho e acompanhar todos os caminhos possíveis.\n",
    " * Direita para esquerda. Partimos de **Munich**, pulamos em sua cabeça, seguimos a cabeça da cabeça e assim por diante. Como cada palavra tem exatamente uma cabeça, é garantido que haverá apenas um caminho. Em seguida, determinamos se **to** está nesse caminho ou não.\n",
    "\n",
    "Os segmentos de código a seguir implementam a segunda abordagem, iniciam a caminhada da árvore de dependência de **Munich** e procuram por **to**:"
   ],
   "metadata": {
    "collapsed": false
   }
  },
  {
   "cell_type": "code",
   "execution_count": 105,
   "outputs": [
    {
     "data": {
      "text/plain": "Munich"
     },
     "execution_count": 105,
     "metadata": {},
     "output_type": "execute_result"
    }
   ],
   "source": [
    "import spacy\n",
    "nlp = spacy.load(\"en_core_web_md\")\n",
    "\n",
    "def reach_parent(source_token, dest_token):\n",
    "\tsource_token = source_token.head\n",
    "\twhile source_token != dest_token:\n",
    "\t\tif source_token.head == source_token:\n",
    "\t\t\treturn None\n",
    "\t\tsource_token = source_token.head\n",
    "\t\treturn source_token\n",
    "doc = nlp(\"I'm going to a conference in Munich.\")\n",
    "doc[-2]"
   ],
   "metadata": {
    "collapsed": false
   }
  },
  {
   "cell_type": "code",
   "execution_count": 106,
   "outputs": [
    {
     "data": {
      "text/plain": "to"
     },
     "execution_count": 106,
     "metadata": {},
     "output_type": "execute_result"
    }
   ],
   "source": [
    "doc[3]"
   ],
   "metadata": {
    "collapsed": false
   }
  },
  {
   "cell_type": "code",
   "execution_count": 107,
   "outputs": [
    {
     "data": {
      "text/plain": "."
     },
     "execution_count": 107,
     "metadata": {},
     "output_type": "execute_result"
    }
   ],
   "source": [
    "doc[-1]"
   ],
   "metadata": {
    "collapsed": false
   }
  },
  {
   "cell_type": "code",
   "execution_count": 108,
   "outputs": [
    {
     "data": {
      "text/plain": "conference"
     },
     "execution_count": 108,
     "metadata": {},
     "output_type": "execute_result"
    }
   ],
   "source": [
    "reach_parent(doc[-2], doc[3])"
   ],
   "metadata": {
    "collapsed": false
   }
  },
  {
   "cell_type": "code",
   "execution_count": 109,
   "outputs": [],
   "source": [
    "reach_parent(doc[-1], doc[3])"
   ],
   "metadata": {
    "collapsed": false
   }
  },
  {
   "cell_type": "markdown",
   "source": [
    "Na função **reach_parent**, se aplica o seguinte:\n",
    "* Partimos de um token de origem e tentamos alcançar o token de destino.\n",
    "* No loop **while**, iteramos sobre o cabeçalho de cada token, começando pelo token de origem.\n",
    "* O loop para quando alcançamos o token de origem ou a raiz da sentença.\n",
    "* Testamos para alcançar a raiz através da linha **source_token == source_token.head**. Como o token raiz sempre se refere a si mesmo, sua cabeça é ele mesmo (lembre-se de que na árvore de dependências, não há arcos de entrada na raiz).\n",
    "* Finalmente, testamos nossa função em dois casos de teste diferentes. No primeiro, a origem e o destino estão relacionados, enquanto no segundo teste não há relação, portanto a função retorna **None**.\n",
    "\n",
    "Essa abordagem é muito diferente da abordagem bastante direta da subseção anterior. A linguagem natural é complicada e desafiadora de processar, e é importante conhecer as abordagens disponíveis e ter as ferramentas necessárias em sua caixa de ferramentas quando precisar usá-las.\n",
    "\n",
    "Em seguida, vamos mergulhar em um assunto popular – reconhecimento de intenção com uma abordagem sintática. Vamos ver alguns pontos-chave do design de um bom componente de reconhecimento de intenção, incluindo o reconhecimento de várias intenções também.\n",
    "\n",
    "## Usando relações de dependência para reconhecimento de intenção\n",
    "\n",
    "Depois de extrair as entidades, queremos descobrir que tipo de intenção o usuário carrega – reservar um voo, comprar uma refeição em seu voo já reservado, cancelar seu voo e assim por diante. Se você olhar para a lista de *intents* novamente, verá que cada *intent* inclui um verbo (*to book*) e um objeto sobre o qual o verbo atua (*flight, hotel, meal*).\n",
    "\n",
    "Nesta seção, extrairemos verbos transitivos e seus objetos diretos de enunciados. Começaremos nossa seção de reconhecimento de intenção extraindo o verbo transitivo e o objeto direto do verbo. Em seguida, exploraremos como entender a intenção de um usuário reconhecendo sinônimos de verbos e substantivos. Por fim, veremos como determinar a intenção de um usuário com métodos de similaridade semântica. Antes de passarmos para a extração de verbos transitivos e seus objetos diretos, vamos primeiro examinar rapidamente os conceitos de verbos transitivos e objetos diretos/indiretos.\n",
    "\n",
    "### Cartilha linguística\n",
    "\n",
    "Nesta seção, exploraremos alguns conceitos linguísticos relacionados à estrutura da frase, incluindo verbos e relações verbo-objeto. Um verbo é um componente muito importante da frase, pois indica a ação na frase. O objeto da frase é a coisa/pessoa que é afetada pela ação do verbo. Portanto, há uma conexão natural entre o verbo da sentença e os objetos. O conceito de transitividade capta as relações verbo-objeto. Um verbo transitivo é um verbo que precisa de um objeto para agir. Vejamos alguns exemplos:\n",
    "~~~python\n",
    "I bought flowers.\n",
    "He loved his cat.\n",
    "He borrowed my book.\n",
    "~~~\n",
    "Nestas frases de exemplo,**bought**, **loved** e **borrowed** são verbos transitivos. Na primeira frase, **bought** é o verbo transitivo e **flowers** é seu objeto, a coisa que foi comprada pelo sujeito da frase, **I**. **Loved** – **his cat** e **borrowed** – **my book** são exemplos verbo-objeto transitivo. Vamos nos concentrar na primeira frase novamente - o que acontece se apagarmos o objeto **flowers**?\n",
    "~~~python\n",
    "I bought\n",
    "~~~\n",
    "Comprou **o quê**? Sem um objeto, esta frase não tem nenhum significado. Nas frases anteriores, cada um dos objetos completa o significado do verbo. Essa é uma forma de entender se um verbo é transitivo ou não – apague o objeto e verifique se a frase permanece semanticamente intacta.\n",
    "\n",
    "Alguns verbos são transitivos e alguns verbos são intransitivos. Um **verbo intransitivo** é o oposto de um verbo transitivo; ele não precisa de um objeto para agir. Vejamos alguns exemplos:\n",
    "* Yesterday I **slept** for 8 hours.\n",
    "* The cat <b>ran</b> towards me.\n",
    "* When I went out, the sun was <b>shining</b>.\n",
    "* Her cat <b>died</b> 3 days ago.\n",
    "\n",
    "Em todas as frases anteriores, os verbos fazem sentido sem um objeto. Se apagarmos todas as palavras, exceto o sujeito e o objeto, essas frases ainda terão significado:\n",
    "* I **slept**.\n",
    "* The cat **ran**.\n",
    "* The sun was **shining**.\n",
    "* Her cat **died**.\n",
    "\n",
    "Emparelhar um verbo intransitivo com um objeto não faz sentido. Você não pode correr alguém/algo, você não pode brilhar algo/alguém, e você certamente não pode morrer algo/alguém.\n",
    "\n",
    "#### Objeto da sentença\n",
    "Como comentamos anteriormente, o objeto é a coisa/pessoa que é afetada pela ação do verbo. A ação declarada pelo verbo é cometida pelo sujeito da sentença e o objeto da sentença é afetado.\n",
    "\n",
    "Uma frase pode ser direta ou indireta. Um **objeto direto** responde às perguntas **quem? / o que?** Você pode encontrar o objeto direto perguntando ao **sujeito {verbo} o que/quem?**. Aqui estão alguns exemplos:\n",
    "~~~python\n",
    "I bought flowers. I bought what? - flowers\n",
    "He loved his cat. He loved who? - his cat\n",
    "He borrowed my book. He borrowed what? - my book\n",
    "~~~\n",
    "Um **objeto indireto** responde às perguntas **para quê?/para quem?/para quem?**. Vejamos alguns exemplos:\n",
    "~~~python\n",
    "He gave me his book. He gave his book to whom? - me\n",
    "He gave his book to me. He gave his book to whom? - me\n",
    "~~~\n",
    "\n",
    "Os objetos indiretos geralmente são precedidos pelas preposições *to, for, from*, e assim por diante. Como você pode ver nesses exemplos, um objeto indireto também é um objeto e é afetado pela ação do verbo, mas seu papel na frase é um pouco diferente. Um objeto indireto às vezes é visto como o destinatário do objeto direto.\n",
    "\n",
    "Isso é tudo que você precisa saber sobre verbos transitivos/intransitivos e objetos diretos/indiretos para digerir o material deste capítulo. Se você quiser aprender mais sobre a sintaxe das frases, leia o ótimo livro *Linguistic Fundamentals for Natural Language Processing de Emily Bender*: (https://dl.acm.org/doi/book/10.5555/2534456). Cobrimos o básico da sintaxe de sentenças, mas este ainda é um ótimo recurso para aprender sobre sintaxe em profundidade.\n",
    "\n",
    "### Extraindo verbos transitivos e seus objetos diretos\n",
    "Ao reconhecer a intenção, geralmente aplicamos estas etapas a um enunciado do usuário:\n",
    "1. Dividindo a frase em tokens.\n",
    "2. A análise de dependência é realizada pelo *spaCy*. Percorremos a árvore de dependências para extrair os tokens e as relações que nos interessam, que são o verbo e o objeto direto, conforme mostrado no diagrama a seguir:"
   ],
   "metadata": {
    "collapsed": false
   }
  },
  {
   "cell_type": "code",
   "execution_count": 110,
   "outputs": [
    {
     "data": {
      "text/plain": "<IPython.core.display.HTML object>",
      "text/html": "<span class=\"tex2jax_ignore\"><svg xmlns=\"http://www.w3.org/2000/svg\" xmlns:xlink=\"http://www.w3.org/1999/xlink\" xml:lang=\"en\" id=\"c5a6e6cc8f25482dacc7dbb5e013022f-0\" class=\"displacy\" width=\"1275\" height=\"312.0\" direction=\"ltr\" style=\"max-width: none; height: 312.0px; color: #000000; background: #ffffff; font-family: Arial; direction: ltr\">\n<text class=\"displacy-token\" fill=\"currentColor\" text-anchor=\"middle\" y=\"222.0\">\n    <tspan class=\"displacy-word\" fill=\"currentColor\" x=\"50\">find</tspan>\n    <tspan class=\"displacy-tag\" dy=\"2em\" fill=\"currentColor\" x=\"50\">VERB</tspan>\n</text>\n\n<text class=\"displacy-token\" fill=\"currentColor\" text-anchor=\"middle\" y=\"222.0\">\n    <tspan class=\"displacy-word\" fill=\"currentColor\" x=\"225\">a</tspan>\n    <tspan class=\"displacy-tag\" dy=\"2em\" fill=\"currentColor\" x=\"225\">DET</tspan>\n</text>\n\n<text class=\"displacy-token\" fill=\"currentColor\" text-anchor=\"middle\" y=\"222.0\">\n    <tspan class=\"displacy-word\" fill=\"currentColor\" x=\"400\">flight</tspan>\n    <tspan class=\"displacy-tag\" dy=\"2em\" fill=\"currentColor\" x=\"400\">NOUN</tspan>\n</text>\n\n<text class=\"displacy-token\" fill=\"currentColor\" text-anchor=\"middle\" y=\"222.0\">\n    <tspan class=\"displacy-word\" fill=\"currentColor\" x=\"575\">from</tspan>\n    <tspan class=\"displacy-tag\" dy=\"2em\" fill=\"currentColor\" x=\"575\">ADP</tspan>\n</text>\n\n<text class=\"displacy-token\" fill=\"currentColor\" text-anchor=\"middle\" y=\"222.0\">\n    <tspan class=\"displacy-word\" fill=\"currentColor\" x=\"750\">washington</tspan>\n    <tspan class=\"displacy-tag\" dy=\"2em\" fill=\"currentColor\" x=\"750\">PROPN</tspan>\n</text>\n\n<text class=\"displacy-token\" fill=\"currentColor\" text-anchor=\"middle\" y=\"222.0\">\n    <tspan class=\"displacy-word\" fill=\"currentColor\" x=\"925\">to</tspan>\n    <tspan class=\"displacy-tag\" dy=\"2em\" fill=\"currentColor\" x=\"925\">ADP</tspan>\n</text>\n\n<text class=\"displacy-token\" fill=\"currentColor\" text-anchor=\"middle\" y=\"222.0\">\n    <tspan class=\"displacy-word\" fill=\"currentColor\" x=\"1100\">sf</tspan>\n    <tspan class=\"displacy-tag\" dy=\"2em\" fill=\"currentColor\" x=\"1100\">PROPN</tspan>\n</text>\n\n<g class=\"displacy-arrow\">\n    <path class=\"displacy-arc\" id=\"arrow-c5a6e6cc8f25482dacc7dbb5e013022f-0-0\" stroke-width=\"2px\" d=\"M245,177.0 C245,89.5 395.0,89.5 395.0,177.0\" fill=\"none\" stroke=\"currentColor\"/>\n    <text dy=\"1.25em\" style=\"font-size: 0.8em; letter-spacing: 1px\">\n        <textPath xlink:href=\"#arrow-c5a6e6cc8f25482dacc7dbb5e013022f-0-0\" class=\"displacy-label\" startOffset=\"50%\" side=\"left\" fill=\"currentColor\" text-anchor=\"middle\">det</textPath>\n    </text>\n    <path class=\"displacy-arrowhead\" d=\"M245,179.0 L237,167.0 253,167.0\" fill=\"currentColor\"/>\n</g>\n\n<g class=\"displacy-arrow\">\n    <path class=\"displacy-arc\" id=\"arrow-c5a6e6cc8f25482dacc7dbb5e013022f-0-1\" stroke-width=\"2px\" d=\"M70,177.0 C70,2.0 400.0,2.0 400.0,177.0\" fill=\"none\" stroke=\"currentColor\"/>\n    <text dy=\"1.25em\" style=\"font-size: 0.8em; letter-spacing: 1px\">\n        <textPath xlink:href=\"#arrow-c5a6e6cc8f25482dacc7dbb5e013022f-0-1\" class=\"displacy-label\" startOffset=\"50%\" side=\"left\" fill=\"currentColor\" text-anchor=\"middle\">dobj</textPath>\n    </text>\n    <path class=\"displacy-arrowhead\" d=\"M400.0,179.0 L408.0,167.0 392.0,167.0\" fill=\"currentColor\"/>\n</g>\n\n<g class=\"displacy-arrow\">\n    <path class=\"displacy-arc\" id=\"arrow-c5a6e6cc8f25482dacc7dbb5e013022f-0-2\" stroke-width=\"2px\" d=\"M420,177.0 C420,89.5 570.0,89.5 570.0,177.0\" fill=\"none\" stroke=\"currentColor\"/>\n    <text dy=\"1.25em\" style=\"font-size: 0.8em; letter-spacing: 1px\">\n        <textPath xlink:href=\"#arrow-c5a6e6cc8f25482dacc7dbb5e013022f-0-2\" class=\"displacy-label\" startOffset=\"50%\" side=\"left\" fill=\"currentColor\" text-anchor=\"middle\">prep</textPath>\n    </text>\n    <path class=\"displacy-arrowhead\" d=\"M570.0,179.0 L578.0,167.0 562.0,167.0\" fill=\"currentColor\"/>\n</g>\n\n<g class=\"displacy-arrow\">\n    <path class=\"displacy-arc\" id=\"arrow-c5a6e6cc8f25482dacc7dbb5e013022f-0-3\" stroke-width=\"2px\" d=\"M595,177.0 C595,89.5 745.0,89.5 745.0,177.0\" fill=\"none\" stroke=\"currentColor\"/>\n    <text dy=\"1.25em\" style=\"font-size: 0.8em; letter-spacing: 1px\">\n        <textPath xlink:href=\"#arrow-c5a6e6cc8f25482dacc7dbb5e013022f-0-3\" class=\"displacy-label\" startOffset=\"50%\" side=\"left\" fill=\"currentColor\" text-anchor=\"middle\">pobj</textPath>\n    </text>\n    <path class=\"displacy-arrowhead\" d=\"M745.0,179.0 L753.0,167.0 737.0,167.0\" fill=\"currentColor\"/>\n</g>\n\n<g class=\"displacy-arrow\">\n    <path class=\"displacy-arc\" id=\"arrow-c5a6e6cc8f25482dacc7dbb5e013022f-0-4\" stroke-width=\"2px\" d=\"M420,177.0 C420,2.0 925.0,2.0 925.0,177.0\" fill=\"none\" stroke=\"currentColor\"/>\n    <text dy=\"1.25em\" style=\"font-size: 0.8em; letter-spacing: 1px\">\n        <textPath xlink:href=\"#arrow-c5a6e6cc8f25482dacc7dbb5e013022f-0-4\" class=\"displacy-label\" startOffset=\"50%\" side=\"left\" fill=\"currentColor\" text-anchor=\"middle\">prep</textPath>\n    </text>\n    <path class=\"displacy-arrowhead\" d=\"M925.0,179.0 L933.0,167.0 917.0,167.0\" fill=\"currentColor\"/>\n</g>\n\n<g class=\"displacy-arrow\">\n    <path class=\"displacy-arc\" id=\"arrow-c5a6e6cc8f25482dacc7dbb5e013022f-0-5\" stroke-width=\"2px\" d=\"M945,177.0 C945,89.5 1095.0,89.5 1095.0,177.0\" fill=\"none\" stroke=\"currentColor\"/>\n    <text dy=\"1.25em\" style=\"font-size: 0.8em; letter-spacing: 1px\">\n        <textPath xlink:href=\"#arrow-c5a6e6cc8f25482dacc7dbb5e013022f-0-5\" class=\"displacy-label\" startOffset=\"50%\" side=\"left\" fill=\"currentColor\" text-anchor=\"middle\">pobj</textPath>\n    </text>\n    <path class=\"displacy-arrowhead\" d=\"M1095.0,179.0 L1103.0,167.0 1087.0,167.0\" fill=\"currentColor\"/>\n</g>\n</svg></span>"
     },
     "metadata": {},
     "output_type": "display_data"
    }
   ],
   "source": [
    "doc = nlp('find a flight from washington to sf')\n",
    "displacy.render(doc, style='dep')"
   ],
   "metadata": {
    "collapsed": false
   }
  },
  {
   "cell_type": "markdown",
   "source": [
    "Nesta frase de exemplo, o verbo transitivo é **find** e o objeto direto é **a flight**. A relação **dobj** conecta um verbo transitivo ao seu objeto direto. Se seguirmos o arco, semanticamente, veremos que o usuário deseja realizar a ação de encontrar e o objeto que deseja encontrar é um voo. Podemos mesclar **find** e **a flight** em uma única palavra, **findAflight** ou **findFlight**, que pode ser o nome dessa *intent*. Outras intenções podem ser **bookFlight**, **cancelFlight**, **bookMeal** e assim por diante.\n",
    "\n",
    "Vamos extrair o verbo e o objeto direto de forma mais sistemática. Primeiro, identificaremos o objeto direto procurando o rótulo **dobj** na frase. Para localizar o verbo transitivo, olhamos para o núcleo sintático do objeto direto. Uma frase pode incluir mais de um verbo, por isso temos cuidado ao processar os verbos. Aqui está o código:"
   ],
   "metadata": {
    "collapsed": false
   }
  },
  {
   "cell_type": "code",
   "execution_count": 111,
   "outputs": [
    {
     "name": "stdout",
     "output_type": "stream",
     "text": [
      "findFlight\n"
     ]
    }
   ],
   "source": [
    "import spacy\n",
    "nlp = spacy.load(\"en_core_web_md\")\n",
    "doc = nlp(\"find a flight from washington to sf\")\n",
    "for token in doc:\n",
    "    if token.dep_ == \"dobj\":\n",
    "\t    print(token.head.text + token.text.capitalize())"
   ],
   "metadata": {
    "collapsed": false
   }
  },
  {
   "cell_type": "markdown",
   "source": [
    "Neste segmento de código, aplica-se o seguinte:\n",
    "* Aplicamos o pipeline à nossa frase de exemplo.\n",
    "* Em seguida, identificamos o objeto direto procurando um token cujo rótulo de dependência é **dobj**.\n",
    "* Quando localizamos um objeto direto, identificamos o verbo transitivo correspondente obtendo o núcleo sintático do objeto direto.\n",
    "* Por fim, imprimimos o verbo e o objeto para gerar o nome dessa *intent*.\n",
    "\n",
    "Excelente! O reconhecimento de intenção foi bem-sucedido! Aqui, reconhecemos uma única intenção. Alguns enunciados podem ter múltiplas intenções. Na próxima seção, aprenderemos a reconhecer várias intenções com base nas técnicas desta seção.\n",
    "\n",
    "### Extraindo várias intenções com relação de conjunção\n",
    "\n",
    "Alguns enunciados carregam múltiplas intenções. Por exemplo, considere o seguinte enunciado do corpus:\n",
    "~~~python\n",
    "show all flights and fares from denver to san francisco\n",
    "~~~\n",
    "Aqui, o usuário deseja listar todos os voos e, ao mesmo tempo, deseja ver as informações da tarifa. Uma maneira de processar é considerar essas intenções como uma intenção única e complexa. Nesse caso, podemos expressar essa intenção complexa como **action: show**, **objects: flights, fares**. Outra maneira mais comum de processar esse tipo de enunciado é rotular o enunciado com múltiplas **intenções**. No conjunto de dados, este enunciado de exemplo é marcado com duas intenções como **atis_flight#atis_airfare**:"
   ],
   "metadata": {
    "collapsed": false
   }
  },
  {
   "cell_type": "code",
   "execution_count": 112,
   "outputs": [
    {
     "data": {
      "text/plain": "<IPython.core.display.HTML object>",
      "text/html": "<span class=\"tex2jax_ignore\"><svg xmlns=\"http://www.w3.org/2000/svg\" xmlns:xlink=\"http://www.w3.org/1999/xlink\" xml:lang=\"en\" id=\"46474ba6f5ca4bbf949e2907deaa4c5a-0\" class=\"displacy\" width=\"1800\" height=\"487.0\" direction=\"ltr\" style=\"max-width: none; height: 487.0px; color: #000000; background: #ffffff; font-family: Arial; direction: ltr\">\n<text class=\"displacy-token\" fill=\"currentColor\" text-anchor=\"middle\" y=\"397.0\">\n    <tspan class=\"displacy-word\" fill=\"currentColor\" x=\"50\">show</tspan>\n    <tspan class=\"displacy-tag\" dy=\"2em\" fill=\"currentColor\" x=\"50\">VERB</tspan>\n</text>\n\n<text class=\"displacy-token\" fill=\"currentColor\" text-anchor=\"middle\" y=\"397.0\">\n    <tspan class=\"displacy-word\" fill=\"currentColor\" x=\"225\">all</tspan>\n    <tspan class=\"displacy-tag\" dy=\"2em\" fill=\"currentColor\" x=\"225\">DET</tspan>\n</text>\n\n<text class=\"displacy-token\" fill=\"currentColor\" text-anchor=\"middle\" y=\"397.0\">\n    <tspan class=\"displacy-word\" fill=\"currentColor\" x=\"400\">flights</tspan>\n    <tspan class=\"displacy-tag\" dy=\"2em\" fill=\"currentColor\" x=\"400\">NOUN</tspan>\n</text>\n\n<text class=\"displacy-token\" fill=\"currentColor\" text-anchor=\"middle\" y=\"397.0\">\n    <tspan class=\"displacy-word\" fill=\"currentColor\" x=\"575\">and</tspan>\n    <tspan class=\"displacy-tag\" dy=\"2em\" fill=\"currentColor\" x=\"575\">CCONJ</tspan>\n</text>\n\n<text class=\"displacy-token\" fill=\"currentColor\" text-anchor=\"middle\" y=\"397.0\">\n    <tspan class=\"displacy-word\" fill=\"currentColor\" x=\"750\">fares</tspan>\n    <tspan class=\"displacy-tag\" dy=\"2em\" fill=\"currentColor\" x=\"750\">NOUN</tspan>\n</text>\n\n<text class=\"displacy-token\" fill=\"currentColor\" text-anchor=\"middle\" y=\"397.0\">\n    <tspan class=\"displacy-word\" fill=\"currentColor\" x=\"925\">from</tspan>\n    <tspan class=\"displacy-tag\" dy=\"2em\" fill=\"currentColor\" x=\"925\">ADP</tspan>\n</text>\n\n<text class=\"displacy-token\" fill=\"currentColor\" text-anchor=\"middle\" y=\"397.0\">\n    <tspan class=\"displacy-word\" fill=\"currentColor\" x=\"1100\">denver</tspan>\n    <tspan class=\"displacy-tag\" dy=\"2em\" fill=\"currentColor\" x=\"1100\">PROPN</tspan>\n</text>\n\n<text class=\"displacy-token\" fill=\"currentColor\" text-anchor=\"middle\" y=\"397.0\">\n    <tspan class=\"displacy-word\" fill=\"currentColor\" x=\"1275\">to</tspan>\n    <tspan class=\"displacy-tag\" dy=\"2em\" fill=\"currentColor\" x=\"1275\">ADP</tspan>\n</text>\n\n<text class=\"displacy-token\" fill=\"currentColor\" text-anchor=\"middle\" y=\"397.0\">\n    <tspan class=\"displacy-word\" fill=\"currentColor\" x=\"1450\">san</tspan>\n    <tspan class=\"displacy-tag\" dy=\"2em\" fill=\"currentColor\" x=\"1450\">PROPN</tspan>\n</text>\n\n<text class=\"displacy-token\" fill=\"currentColor\" text-anchor=\"middle\" y=\"397.0\">\n    <tspan class=\"displacy-word\" fill=\"currentColor\" x=\"1625\">francisco</tspan>\n    <tspan class=\"displacy-tag\" dy=\"2em\" fill=\"currentColor\" x=\"1625\">PROPN</tspan>\n</text>\n\n<g class=\"displacy-arrow\">\n    <path class=\"displacy-arc\" id=\"arrow-46474ba6f5ca4bbf949e2907deaa4c5a-0-0\" stroke-width=\"2px\" d=\"M245,352.0 C245,264.5 385.0,264.5 385.0,352.0\" fill=\"none\" stroke=\"currentColor\"/>\n    <text dy=\"1.25em\" style=\"font-size: 0.8em; letter-spacing: 1px\">\n        <textPath xlink:href=\"#arrow-46474ba6f5ca4bbf949e2907deaa4c5a-0-0\" class=\"displacy-label\" startOffset=\"50%\" side=\"left\" fill=\"currentColor\" text-anchor=\"middle\">det</textPath>\n    </text>\n    <path class=\"displacy-arrowhead\" d=\"M245,354.0 L237,342.0 253,342.0\" fill=\"currentColor\"/>\n</g>\n\n<g class=\"displacy-arrow\">\n    <path class=\"displacy-arc\" id=\"arrow-46474ba6f5ca4bbf949e2907deaa4c5a-0-1\" stroke-width=\"2px\" d=\"M70,352.0 C70,177.0 390.0,177.0 390.0,352.0\" fill=\"none\" stroke=\"currentColor\"/>\n    <text dy=\"1.25em\" style=\"font-size: 0.8em; letter-spacing: 1px\">\n        <textPath xlink:href=\"#arrow-46474ba6f5ca4bbf949e2907deaa4c5a-0-1\" class=\"displacy-label\" startOffset=\"50%\" side=\"left\" fill=\"currentColor\" text-anchor=\"middle\">dobj</textPath>\n    </text>\n    <path class=\"displacy-arrowhead\" d=\"M390.0,354.0 L398.0,342.0 382.0,342.0\" fill=\"currentColor\"/>\n</g>\n\n<g class=\"displacy-arrow\">\n    <path class=\"displacy-arc\" id=\"arrow-46474ba6f5ca4bbf949e2907deaa4c5a-0-2\" stroke-width=\"2px\" d=\"M420,352.0 C420,264.5 560.0,264.5 560.0,352.0\" fill=\"none\" stroke=\"currentColor\"/>\n    <text dy=\"1.25em\" style=\"font-size: 0.8em; letter-spacing: 1px\">\n        <textPath xlink:href=\"#arrow-46474ba6f5ca4bbf949e2907deaa4c5a-0-2\" class=\"displacy-label\" startOffset=\"50%\" side=\"left\" fill=\"currentColor\" text-anchor=\"middle\">cc</textPath>\n    </text>\n    <path class=\"displacy-arrowhead\" d=\"M560.0,354.0 L568.0,342.0 552.0,342.0\" fill=\"currentColor\"/>\n</g>\n\n<g class=\"displacy-arrow\">\n    <path class=\"displacy-arc\" id=\"arrow-46474ba6f5ca4bbf949e2907deaa4c5a-0-3\" stroke-width=\"2px\" d=\"M420,352.0 C420,177.0 740.0,177.0 740.0,352.0\" fill=\"none\" stroke=\"currentColor\"/>\n    <text dy=\"1.25em\" style=\"font-size: 0.8em; letter-spacing: 1px\">\n        <textPath xlink:href=\"#arrow-46474ba6f5ca4bbf949e2907deaa4c5a-0-3\" class=\"displacy-label\" startOffset=\"50%\" side=\"left\" fill=\"currentColor\" text-anchor=\"middle\">conj</textPath>\n    </text>\n    <path class=\"displacy-arrowhead\" d=\"M740.0,354.0 L748.0,342.0 732.0,342.0\" fill=\"currentColor\"/>\n</g>\n\n<g class=\"displacy-arrow\">\n    <path class=\"displacy-arc\" id=\"arrow-46474ba6f5ca4bbf949e2907deaa4c5a-0-4\" stroke-width=\"2px\" d=\"M420,352.0 C420,89.5 920.0,89.5 920.0,352.0\" fill=\"none\" stroke=\"currentColor\"/>\n    <text dy=\"1.25em\" style=\"font-size: 0.8em; letter-spacing: 1px\">\n        <textPath xlink:href=\"#arrow-46474ba6f5ca4bbf949e2907deaa4c5a-0-4\" class=\"displacy-label\" startOffset=\"50%\" side=\"left\" fill=\"currentColor\" text-anchor=\"middle\">prep</textPath>\n    </text>\n    <path class=\"displacy-arrowhead\" d=\"M920.0,354.0 L928.0,342.0 912.0,342.0\" fill=\"currentColor\"/>\n</g>\n\n<g class=\"displacy-arrow\">\n    <path class=\"displacy-arc\" id=\"arrow-46474ba6f5ca4bbf949e2907deaa4c5a-0-5\" stroke-width=\"2px\" d=\"M945,352.0 C945,264.5 1085.0,264.5 1085.0,352.0\" fill=\"none\" stroke=\"currentColor\"/>\n    <text dy=\"1.25em\" style=\"font-size: 0.8em; letter-spacing: 1px\">\n        <textPath xlink:href=\"#arrow-46474ba6f5ca4bbf949e2907deaa4c5a-0-5\" class=\"displacy-label\" startOffset=\"50%\" side=\"left\" fill=\"currentColor\" text-anchor=\"middle\">pobj</textPath>\n    </text>\n    <path class=\"displacy-arrowhead\" d=\"M1085.0,354.0 L1093.0,342.0 1077.0,342.0\" fill=\"currentColor\"/>\n</g>\n\n<g class=\"displacy-arrow\">\n    <path class=\"displacy-arc\" id=\"arrow-46474ba6f5ca4bbf949e2907deaa4c5a-0-6\" stroke-width=\"2px\" d=\"M420,352.0 C420,2.0 1275.0,2.0 1275.0,352.0\" fill=\"none\" stroke=\"currentColor\"/>\n    <text dy=\"1.25em\" style=\"font-size: 0.8em; letter-spacing: 1px\">\n        <textPath xlink:href=\"#arrow-46474ba6f5ca4bbf949e2907deaa4c5a-0-6\" class=\"displacy-label\" startOffset=\"50%\" side=\"left\" fill=\"currentColor\" text-anchor=\"middle\">prep</textPath>\n    </text>\n    <path class=\"displacy-arrowhead\" d=\"M1275.0,354.0 L1283.0,342.0 1267.0,342.0\" fill=\"currentColor\"/>\n</g>\n\n<g class=\"displacy-arrow\">\n    <path class=\"displacy-arc\" id=\"arrow-46474ba6f5ca4bbf949e2907deaa4c5a-0-7\" stroke-width=\"2px\" d=\"M1470,352.0 C1470,264.5 1610.0,264.5 1610.0,352.0\" fill=\"none\" stroke=\"currentColor\"/>\n    <text dy=\"1.25em\" style=\"font-size: 0.8em; letter-spacing: 1px\">\n        <textPath xlink:href=\"#arrow-46474ba6f5ca4bbf949e2907deaa4c5a-0-7\" class=\"displacy-label\" startOffset=\"50%\" side=\"left\" fill=\"currentColor\" text-anchor=\"middle\">compound</textPath>\n    </text>\n    <path class=\"displacy-arrowhead\" d=\"M1470,354.0 L1462,342.0 1478,342.0\" fill=\"currentColor\"/>\n</g>\n\n<g class=\"displacy-arrow\">\n    <path class=\"displacy-arc\" id=\"arrow-46474ba6f5ca4bbf949e2907deaa4c5a-0-8\" stroke-width=\"2px\" d=\"M1295,352.0 C1295,177.0 1615.0,177.0 1615.0,352.0\" fill=\"none\" stroke=\"currentColor\"/>\n    <text dy=\"1.25em\" style=\"font-size: 0.8em; letter-spacing: 1px\">\n        <textPath xlink:href=\"#arrow-46474ba6f5ca4bbf949e2907deaa4c5a-0-8\" class=\"displacy-label\" startOffset=\"50%\" side=\"left\" fill=\"currentColor\" text-anchor=\"middle\">pobj</textPath>\n    </text>\n    <path class=\"displacy-arrowhead\" d=\"M1615.0,354.0 L1623.0,342.0 1607.0,342.0\" fill=\"currentColor\"/>\n</g>\n</svg></span>"
     },
     "metadata": {},
     "output_type": "display_data"
    }
   ],
   "source": [
    "doc = nlp('show all flights and fares from denver to san francisco')\n",
    "displacy.render(doc, style='dep')"
   ],
   "metadata": {
    "collapsed": false
   }
  },
  {
   "cell_type": "markdown",
   "source": [
    "No diagrama anterior, vemos que o arco **dobj** conecta **show** e **flights**. O arco **conj** conecta **flights** e **fares** para indicar a relação de conjunção entre eles. A relação de conjunção é construída por uma conjunção como **e** ou **ou** e indica que um substantivo está ligado a outro substantivo por essa conjunção. Nessa situação, extraímos o objeto direto e seus conjuntos. Vamos agora ver como podemos transformar esse processo em código:"
   ],
   "metadata": {
    "collapsed": false
   }
  },
  {
   "cell_type": "code",
   "execution_count": 113,
   "outputs": [
    {
     "name": "stdout",
     "output_type": "stream",
     "text": [
      "show flights ['fares']\n"
     ]
    }
   ],
   "source": [
    "import spacy\n",
    "nlp = spacy.load(\"en_core_web_md\")\n",
    "doc = nlp(\"show all flights and fares from denver to san francisco\")\n",
    "for token in doc:\n",
    "\tif token.dep_ == \"dobj\":\n",
    "\t\tdobj = token.text\n",
    "\t\tconj = [t.text for t in token.conjuncts]\n",
    "\t\tverb = token.head\n",
    "print(verb, dobj, conj)"
   ],
   "metadata": {
    "collapsed": false
   }
  },
  {
   "cell_type": "markdown",
   "source": [
    "Aqui, percorremos todos os tokens para localizar o objeto direto da sentença. Quando encontramos o objeto direto, obtivemos seus conjuntos. Depois disso, encontrar o verbo transitivo é o mesmo que fizemos no segmento de código anterior, extraímos a cabeça do objeto direto. Depois de extrair o verbo e dois objetos, se quisermos, podemos combinar os dois para criar dois nomes de intent – **showFlights** e **showFares**.\n",
    "\n",
    "### Reconhecendo a intenção usando listas de palavras\n",
    "\n",
    "Em alguns casos, outros tokens além do verbo transitivo e do objeto direto contêm a semântica da intenção do usuário. Nesse caso, você precisa ir mais fundo nas relações sintáticas e explorar mais a fundo a estrutura da frase. Como exemplo, considere o seguinte enunciado de nosso conjunto de dados:\n",
    "`i want to make a reservation for a flight`\n",
    "\n",
    "Nesta frase, o par **verbo-objeto** que melhor descreve a intenção do usuário é **want-flight**. No entanto, se observarmos a árvore de análise na Figura 6.7, veremos que **want** e **flight** não estão diretamente relacionados na árvore de análise. **want** está relacionado ao verbo transitivo **make**, e **flight** está relacionado à **reserva** de objeto direto, respectivamente:"
   ],
   "metadata": {
    "collapsed": false
   }
  },
  {
   "cell_type": "code",
   "execution_count": 114,
   "outputs": [
    {
     "data": {
      "text/plain": "<IPython.core.display.HTML object>",
      "text/html": "<span class=\"tex2jax_ignore\"><svg xmlns=\"http://www.w3.org/2000/svg\" xmlns:xlink=\"http://www.w3.org/1999/xlink\" xml:lang=\"en\" id=\"776b17218c4a421696ad08c2b321ee02-0\" class=\"displacy\" width=\"1625\" height=\"312.0\" direction=\"ltr\" style=\"max-width: none; height: 312.0px; color: #000000; background: #ffffff; font-family: Arial; direction: ltr\">\n<text class=\"displacy-token\" fill=\"currentColor\" text-anchor=\"middle\" y=\"222.0\">\n    <tspan class=\"displacy-word\" fill=\"currentColor\" x=\"50\">i</tspan>\n    <tspan class=\"displacy-tag\" dy=\"2em\" fill=\"currentColor\" x=\"50\">PRON</tspan>\n</text>\n\n<text class=\"displacy-token\" fill=\"currentColor\" text-anchor=\"middle\" y=\"222.0\">\n    <tspan class=\"displacy-word\" fill=\"currentColor\" x=\"225\">want</tspan>\n    <tspan class=\"displacy-tag\" dy=\"2em\" fill=\"currentColor\" x=\"225\">VERB</tspan>\n</text>\n\n<text class=\"displacy-token\" fill=\"currentColor\" text-anchor=\"middle\" y=\"222.0\">\n    <tspan class=\"displacy-word\" fill=\"currentColor\" x=\"400\">to</tspan>\n    <tspan class=\"displacy-tag\" dy=\"2em\" fill=\"currentColor\" x=\"400\">PART</tspan>\n</text>\n\n<text class=\"displacy-token\" fill=\"currentColor\" text-anchor=\"middle\" y=\"222.0\">\n    <tspan class=\"displacy-word\" fill=\"currentColor\" x=\"575\">make</tspan>\n    <tspan class=\"displacy-tag\" dy=\"2em\" fill=\"currentColor\" x=\"575\">VERB</tspan>\n</text>\n\n<text class=\"displacy-token\" fill=\"currentColor\" text-anchor=\"middle\" y=\"222.0\">\n    <tspan class=\"displacy-word\" fill=\"currentColor\" x=\"750\">a</tspan>\n    <tspan class=\"displacy-tag\" dy=\"2em\" fill=\"currentColor\" x=\"750\">DET</tspan>\n</text>\n\n<text class=\"displacy-token\" fill=\"currentColor\" text-anchor=\"middle\" y=\"222.0\">\n    <tspan class=\"displacy-word\" fill=\"currentColor\" x=\"925\">reservation</tspan>\n    <tspan class=\"displacy-tag\" dy=\"2em\" fill=\"currentColor\" x=\"925\">NOUN</tspan>\n</text>\n\n<text class=\"displacy-token\" fill=\"currentColor\" text-anchor=\"middle\" y=\"222.0\">\n    <tspan class=\"displacy-word\" fill=\"currentColor\" x=\"1100\">for</tspan>\n    <tspan class=\"displacy-tag\" dy=\"2em\" fill=\"currentColor\" x=\"1100\">ADP</tspan>\n</text>\n\n<text class=\"displacy-token\" fill=\"currentColor\" text-anchor=\"middle\" y=\"222.0\">\n    <tspan class=\"displacy-word\" fill=\"currentColor\" x=\"1275\">a</tspan>\n    <tspan class=\"displacy-tag\" dy=\"2em\" fill=\"currentColor\" x=\"1275\">DET</tspan>\n</text>\n\n<text class=\"displacy-token\" fill=\"currentColor\" text-anchor=\"middle\" y=\"222.0\">\n    <tspan class=\"displacy-word\" fill=\"currentColor\" x=\"1450\">flight</tspan>\n    <tspan class=\"displacy-tag\" dy=\"2em\" fill=\"currentColor\" x=\"1450\">NOUN</tspan>\n</text>\n\n<g class=\"displacy-arrow\">\n    <path class=\"displacy-arc\" id=\"arrow-776b17218c4a421696ad08c2b321ee02-0-0\" stroke-width=\"2px\" d=\"M70,177.0 C70,89.5 220.0,89.5 220.0,177.0\" fill=\"none\" stroke=\"currentColor\"/>\n    <text dy=\"1.25em\" style=\"font-size: 0.8em; letter-spacing: 1px\">\n        <textPath xlink:href=\"#arrow-776b17218c4a421696ad08c2b321ee02-0-0\" class=\"displacy-label\" startOffset=\"50%\" side=\"left\" fill=\"currentColor\" text-anchor=\"middle\">nsubj</textPath>\n    </text>\n    <path class=\"displacy-arrowhead\" d=\"M70,179.0 L62,167.0 78,167.0\" fill=\"currentColor\"/>\n</g>\n\n<g class=\"displacy-arrow\">\n    <path class=\"displacy-arc\" id=\"arrow-776b17218c4a421696ad08c2b321ee02-0-1\" stroke-width=\"2px\" d=\"M420,177.0 C420,89.5 570.0,89.5 570.0,177.0\" fill=\"none\" stroke=\"currentColor\"/>\n    <text dy=\"1.25em\" style=\"font-size: 0.8em; letter-spacing: 1px\">\n        <textPath xlink:href=\"#arrow-776b17218c4a421696ad08c2b321ee02-0-1\" class=\"displacy-label\" startOffset=\"50%\" side=\"left\" fill=\"currentColor\" text-anchor=\"middle\">aux</textPath>\n    </text>\n    <path class=\"displacy-arrowhead\" d=\"M420,179.0 L412,167.0 428,167.0\" fill=\"currentColor\"/>\n</g>\n\n<g class=\"displacy-arrow\">\n    <path class=\"displacy-arc\" id=\"arrow-776b17218c4a421696ad08c2b321ee02-0-2\" stroke-width=\"2px\" d=\"M245,177.0 C245,2.0 575.0,2.0 575.0,177.0\" fill=\"none\" stroke=\"currentColor\"/>\n    <text dy=\"1.25em\" style=\"font-size: 0.8em; letter-spacing: 1px\">\n        <textPath xlink:href=\"#arrow-776b17218c4a421696ad08c2b321ee02-0-2\" class=\"displacy-label\" startOffset=\"50%\" side=\"left\" fill=\"currentColor\" text-anchor=\"middle\">xcomp</textPath>\n    </text>\n    <path class=\"displacy-arrowhead\" d=\"M575.0,179.0 L583.0,167.0 567.0,167.0\" fill=\"currentColor\"/>\n</g>\n\n<g class=\"displacy-arrow\">\n    <path class=\"displacy-arc\" id=\"arrow-776b17218c4a421696ad08c2b321ee02-0-3\" stroke-width=\"2px\" d=\"M770,177.0 C770,89.5 920.0,89.5 920.0,177.0\" fill=\"none\" stroke=\"currentColor\"/>\n    <text dy=\"1.25em\" style=\"font-size: 0.8em; letter-spacing: 1px\">\n        <textPath xlink:href=\"#arrow-776b17218c4a421696ad08c2b321ee02-0-3\" class=\"displacy-label\" startOffset=\"50%\" side=\"left\" fill=\"currentColor\" text-anchor=\"middle\">det</textPath>\n    </text>\n    <path class=\"displacy-arrowhead\" d=\"M770,179.0 L762,167.0 778,167.0\" fill=\"currentColor\"/>\n</g>\n\n<g class=\"displacy-arrow\">\n    <path class=\"displacy-arc\" id=\"arrow-776b17218c4a421696ad08c2b321ee02-0-4\" stroke-width=\"2px\" d=\"M595,177.0 C595,2.0 925.0,2.0 925.0,177.0\" fill=\"none\" stroke=\"currentColor\"/>\n    <text dy=\"1.25em\" style=\"font-size: 0.8em; letter-spacing: 1px\">\n        <textPath xlink:href=\"#arrow-776b17218c4a421696ad08c2b321ee02-0-4\" class=\"displacy-label\" startOffset=\"50%\" side=\"left\" fill=\"currentColor\" text-anchor=\"middle\">dobj</textPath>\n    </text>\n    <path class=\"displacy-arrowhead\" d=\"M925.0,179.0 L933.0,167.0 917.0,167.0\" fill=\"currentColor\"/>\n</g>\n\n<g class=\"displacy-arrow\">\n    <path class=\"displacy-arc\" id=\"arrow-776b17218c4a421696ad08c2b321ee02-0-5\" stroke-width=\"2px\" d=\"M945,177.0 C945,89.5 1095.0,89.5 1095.0,177.0\" fill=\"none\" stroke=\"currentColor\"/>\n    <text dy=\"1.25em\" style=\"font-size: 0.8em; letter-spacing: 1px\">\n        <textPath xlink:href=\"#arrow-776b17218c4a421696ad08c2b321ee02-0-5\" class=\"displacy-label\" startOffset=\"50%\" side=\"left\" fill=\"currentColor\" text-anchor=\"middle\">prep</textPath>\n    </text>\n    <path class=\"displacy-arrowhead\" d=\"M1095.0,179.0 L1103.0,167.0 1087.0,167.0\" fill=\"currentColor\"/>\n</g>\n\n<g class=\"displacy-arrow\">\n    <path class=\"displacy-arc\" id=\"arrow-776b17218c4a421696ad08c2b321ee02-0-6\" stroke-width=\"2px\" d=\"M1295,177.0 C1295,89.5 1445.0,89.5 1445.0,177.0\" fill=\"none\" stroke=\"currentColor\"/>\n    <text dy=\"1.25em\" style=\"font-size: 0.8em; letter-spacing: 1px\">\n        <textPath xlink:href=\"#arrow-776b17218c4a421696ad08c2b321ee02-0-6\" class=\"displacy-label\" startOffset=\"50%\" side=\"left\" fill=\"currentColor\" text-anchor=\"middle\">det</textPath>\n    </text>\n    <path class=\"displacy-arrowhead\" d=\"M1295,179.0 L1287,167.0 1303,167.0\" fill=\"currentColor\"/>\n</g>\n\n<g class=\"displacy-arrow\">\n    <path class=\"displacy-arc\" id=\"arrow-776b17218c4a421696ad08c2b321ee02-0-7\" stroke-width=\"2px\" d=\"M1120,177.0 C1120,2.0 1450.0,2.0 1450.0,177.0\" fill=\"none\" stroke=\"currentColor\"/>\n    <text dy=\"1.25em\" style=\"font-size: 0.8em; letter-spacing: 1px\">\n        <textPath xlink:href=\"#arrow-776b17218c4a421696ad08c2b321ee02-0-7\" class=\"displacy-label\" startOffset=\"50%\" side=\"left\" fill=\"currentColor\" text-anchor=\"middle\">pobj</textPath>\n    </text>\n    <path class=\"displacy-arrowhead\" d=\"M1450.0,179.0 L1458.0,167.0 1442.0,167.0\" fill=\"currentColor\"/>\n</g>\n</svg></span>"
     },
     "metadata": {},
     "output_type": "display_data"
    }
   ],
   "source": [
    "doc = nlp('i want to make a reservation for a flight')\n",
    "displacy.render(doc, style='dep')"
   ],
   "metadata": {
    "collapsed": false
   }
  },
  {
   "cell_type": "markdown",
   "source": [
    "O que faremos então? Podemos fazer um truque e manter uma lista de verbos auxiliares como **would like**, **want**, **make**, e **need**. Aqui está o código:"
   ],
   "metadata": {
    "collapsed": false
   }
  },
  {
   "cell_type": "code",
   "execution_count": 115,
   "outputs": [
    {
     "name": "stdout",
     "output_type": "stream",
     "text": [
      "wantFlight\n"
     ]
    }
   ],
   "source": [
    "doc = nlp(\"i want to make a reservation for a flight\")\n",
    "dObj =None\n",
    "tVerb = None\n",
    "# Extract the direct object and its transitive verb\n",
    "for token in doc:\n",
    "    if token.dep_ == \"dobj\":\n",
    "\t    dObj = token\n",
    "\t    tVerb = token.head\n",
    "# Extract the helper verb\n",
    "intentVerb = None\n",
    "verbList = [\"want\", \"like\", \"need\", \"order\"]\n",
    "if tVerb.text in verbList:\n",
    "    intentVerb = tVerb\n",
    "else:\n",
    "    if tVerb.head.dep_ == \"ROOT\":\n",
    "        intentVerb = tVerb.head\n",
    "# Extract the object of the intent\n",
    "intentObj = None\n",
    "objList = [\"flight\", \"meal\", \"booking\"]\n",
    "if dObj.text in objList:\n",
    "    intentObj = dObj\n",
    "else:\n",
    "    for child in dObj.children:\n",
    "        if child.dep_ == \"prep\":\n",
    "            intentObj = list(child.children)[0]\n",
    "            break\n",
    "        elif child.dep_ == \"compound\":\n",
    "            intentObj = child\n",
    "            break\n",
    "\n",
    "print(intentVerb.text + intentObj.text.capitalize())"
   ],
   "metadata": {
    "collapsed": false
   }
  },
  {
   "cell_type": "markdown",
   "source": [
    "Veja o que fizemos passo a passo:\n",
    "1. Começamos localizando o objeto direto e seu verbo transitivo.\n",
    "2. Assim que encontramos, comparamos com nossas listas predefinidas de palavras. Para este exemplo, usamos duas listas abreviadas, **verbList** contém uma lista de verbos auxiliares e **objList** contém uma lista das possíveis palavras-objeto que queremos extrair.\n",
    "3. Verificamos o verbo transitivo. Se não estiver na lista de verbos auxiliares, verificamos o verbo principal da frase (marcado por **ROOT**), que é o núcleo do verbo transitivo. Se o verbo transitivo é o verbo principal da sentença, então o núcleo sintático deste verbo é ele mesmo (**tVerb.head** é **tVerb**). Portanto, a linha **if tVerb.head.dep_ == \"ROOT\"** é avaliada como **True** e essa implementação funciona.\n",
    "4. Em seguida, verificamos o objeto direto. Se não estiver na lista de objetos possíveis, verificamos seus filhos sintáticos. Para cada filho, verificamos se o filho é uma preposição do objeto direto. Se sim, pegamos o filho da criança (pode ter apenas um filho).\n",
    "5. Por fim, imprimimos a *string** que representa o nome da *intenção*, que é **wantFlight**.\n",
    "\n",
    "Neste momento, respire fundo. Leva tempo para digerir e processar informações, especialmente quando se trata de sintaxe de sentença. Você pode tentar frases diferentes do corpus e ver o que o script faz marcando/colocando impressões no código.\n",
    "\n",
    "Na próxima seção, exploraremos uma ferramenta muito útil, usando listas de sinônimos. Vamos avançar para a próxima seção e aprender como tirar o melhor proveito da similaridade semântica.\n",
    "\n",
    "## Métodos de similaridade semântica para análise semântica\n",
    "A linguagem natural nos permite expressar o mesmo conceito de maneiras diferentes e com palavras diferentes. Toda língua tem sinônimos e palavras semanticamente relacionadas. Como desenvolvedor de NLP, ao desenvolver um analisador semântico para um aplicativo de *chatbot*, classificação de texto ou qualquer outro aplicativo semântico, você deve ter em mente que os usuários usam um conjunto bastante amplo de frases e expressões para cada intenção. Na verdade, se você estiver criando um *chatbot* usando uma plataforma como RASA (https://rasa.com/) ou em uma plataforma como Dialogflow (https://dialogflow.cloud.google.com/), você é solicitado a forneçer o máximo de exemplos de enunciado que você puder fornecer para cada *intent*. Em seguida, esses enunciados são usados para treinar o classificador de intenção nos bastidores.\n",
    "\n",
    "Geralmente, há duas maneiras de reconhecer a semelhança semântica, com um dicionário de sinônimos ou com métodos de semelhança semântica baseados em vetores de palavras. Nesta seção, discutiremos as duas abordagens. Vamos começar com como usar um dicionário de sinônimos para detectar similaridade semântica.\n",
    "\n",
    "### Usando listas de sinônimos para similaridade semântica\n",
    "\n",
    "Já analisamos nosso conjunto de dados e vimos que verbos diferentes são usados para expressar as mesmas ações. Por exemplo, **landing**, **arriving** e **flying to** para verbos que carregam o mesmo significado, enquanto **leaving**, **departing** e **flying from** são verbos que formam outro grupo semântico.\n",
    "\n",
    "Já vimos que, na maioria dos casos, os verbos transitivos e os objetos diretos expressam a intenção. Uma maneira fácil de determinar se dois enunciados representam a mesma intenção é verificar se os verbos e os objetos diretos são sinônimos. Vamos dar um exemplo e comparar dois exemplos de enunciados do conjunto de dados. Primeiro, preparamos um pequeno dicionário de sinônimos. Incluímos apenas as formas básicas dos verbos e substantivos. Ao fazer a comparação, também usamos a forma básica das palavras:"
   ],
   "metadata": {
    "collapsed": false
   }
  },
  {
   "cell_type": "code",
   "execution_count": 116,
   "outputs": [],
   "source": [
    "verbSynsets = [\n",
    "    (\"show\", \"list\"),\n",
    "    (\"book\", \"make a reservation\", \"buy\", \"reserve\")\n",
    "]\n",
    "objSynsets = [\n",
    "    (\"meal\", \"food\"),\n",
    "    (\"aircraft\", \"airplane\", \"plane\")\n",
    "]"
   ],
   "metadata": {
    "collapsed": false
   }
  },
  {
   "cell_type": "markdown",
   "source": [
    "Cada **conjunto de sinônimos (synset)** inclui o conjunto de sinônimos do nosso domínio. Geralmente incluímos os sinônimos gerais da linguagem (airplane - plane) e os sinônimos específicos do domínio (book-buy).\n",
    "\n",
    "Os synsets estão prontos para uso e estamos prontos para passar para o código *spaCy*. Vamos passo a passo:\n",
    "1. Primeiro, construímos dois objetos **doc** correspondentes aos dois enunciados que queremos comparar, **doc** e **doc2**:"
   ],
   "metadata": {
    "collapsed": false
   }
  },
  {
   "cell_type": "code",
   "execution_count": 117,
   "outputs": [],
   "source": [
    "doc = nlp(\"show me all aircrafts that cp uses\")\n",
    "doc2 = nlp(\"list all meals on my flight\")"
   ],
   "metadata": {
    "collapsed": false
   }
  },
  {
   "cell_type": "markdown",
   "source": [
    "2. Em seguida, extraímos o verbo transitivo e o objeto direto do primeiro enunciado:"
   ],
   "metadata": {
    "collapsed": false
   }
  },
  {
   "cell_type": "code",
   "execution_count": 118,
   "outputs": [],
   "source": [
    "for token in doc:\n",
    "    if token.dep_ == \"dobj\":\n",
    "\t    obj = token.lemma_\n",
    "\t    verb = token.head.lemma_\n",
    "\t    break"
   ],
   "metadata": {
    "collapsed": false
   }
  },
  {
   "cell_type": "markdown",
   "source": [
    "3. Em seguida, fazemos o mesmo para o segundo enunciado:"
   ],
   "metadata": {
    "collapsed": false
   }
  },
  {
   "cell_type": "code",
   "execution_count": 119,
   "outputs": [],
   "source": [
    "for token in doc2:\n",
    "\tif token.dep_ == \"dobj\":\n",
    "\t\tobj2 = token.lemma_\n",
    "\t\tverb2 = token.head.lemma_\n",
    "\t\tbreak"
   ],
   "metadata": {
    "collapsed": false
   }
  },
  {
   "cell_type": "code",
   "execution_count": 120,
   "outputs": [
    {
     "name": "stdout",
     "output_type": "stream",
     "text": [
      "Verb 1: show - Object 1: aircraft\n",
      "\n",
      "Verb 2: list - Object 2: meal\n"
     ]
    }
   ],
   "source": [
    "print(f\"Verb 1: {verb} - Object 1: {obj}\")\n",
    "print(f\"\\nVerb 2: {verb2} - Object 2: {obj2}\")"
   ],
   "metadata": {
    "collapsed": false
   }
  },
  {
   "cell_type": "markdown",
   "source": [
    "4. Obtivemos um synset do primeiro verbo mostrado. Em seguida, verificamos se a segunda lista de verbos está neste synset, que retorna **True**:"
   ],
   "metadata": {
    "collapsed": false
   }
  },
  {
   "cell_type": "code",
   "execution_count": 121,
   "outputs": [
    {
     "data": {
      "text/plain": "('show', 'list')"
     },
     "execution_count": 121,
     "metadata": {},
     "output_type": "execute_result"
    }
   ],
   "source": [
    "vsyn = [syn for syn in verbSynsets if verb in syn[0]]\n",
    "vsyn[0]"
   ],
   "metadata": {
    "collapsed": false
   }
  },
  {
   "cell_type": "code",
   "execution_count": 122,
   "outputs": [
    {
     "data": {
      "text/plain": "True"
     },
     "execution_count": 122,
     "metadata": {},
     "output_type": "execute_result"
    }
   ],
   "source": [
    "verb2 in vsyn[0]"
   ],
   "metadata": {
    "collapsed": false
   }
  },
  {
   "cell_type": "markdown",
   "source": [
    "5. Da mesma forma, obtemos o synset do primeiro objeto direto – aircraft. Em seguida, verificamos se a segunda refeição de objeto direto está *neste synset*, o que obviamente *não é verdade*:"
   ],
   "metadata": {
    "collapsed": false
   }
  },
  {
   "cell_type": "code",
   "execution_count": 123,
   "outputs": [
    {
     "data": {
      "text/plain": "('aircraft', 'airplane', 'plane')"
     },
     "execution_count": 123,
     "metadata": {},
     "output_type": "execute_result"
    }
   ],
   "source": [
    "osyn = [syn for syn in objSynsets if obj in syn[0]]\n",
    "osyn[0]"
   ],
   "metadata": {
    "collapsed": false
   }
  },
  {
   "cell_type": "code",
   "execution_count": 124,
   "outputs": [
    {
     "data": {
      "text/plain": "False"
     },
     "execution_count": 124,
     "metadata": {},
     "output_type": "execute_result"
    }
   ],
   "source": [
    "obj2 in vsyn[0]"
   ],
   "metadata": {
    "collapsed": false
   }
  },
  {
   "cell_type": "markdown",
   "source": [
    "6. Deduzimos que os dois enunciados anteriores não se referem à mesma intenção.\n",
    "\n",
    "As listas de sinônimos são ótimas para cálculos de similaridade semântica e muitos aplicativos de NLP do mundo real se beneficiam dessas listas pré-compiladas. O uso de sinônimos nem sempre é aplicável. Fazer um dicionário procurar cada palavra em uma frase pode se tornar ineficiente para grandes synsets. Na próxima seção, apresentaremos uma maneira mais eficiente de calcular a similaridade semântica com vetores de palavras.\n",
    "\n",
    "### Usando vetores de palavras para reconhecer similaridade semântica\n",
    "Já vimos que o vetor de palavras carrega semântica, incluindo informações de sinonímia. As listas de sinônimos são úteis se você trabalha em um domínio muito específico e o número de sinônimos é bastante baixo. Trabalhar com grandes synsets pode se tornar ineficiente em algum momento porque temos que fazer um dicionário procurar os verbos e objetos diretos a cada vez. No entanto, os vetores de palavras nos oferecem uma maneira muito conveniente e baseada em vetores para calcular a similaridade semântica.\n",
    "\n",
    "Vamos revisar o código da subseção anterior novamente. Desta vez, vamos calcular a distância semântica entre palavras com vetores de palavras spaCy. Vamos passo a passo:\n",
    "1. Primeiro, construímos dois objetos **doc** que queremos comparar:\n"
   ],
   "metadata": {
    "collapsed": false
   }
  },
  {
   "cell_type": "code",
   "execution_count": 125,
   "outputs": [],
   "source": [
    "doc = nlp(\"show me all aircrafts that cp uses\")\n",
    "doc2 = nlp(\"list all meals on my flight\")"
   ],
   "metadata": {
    "collapsed": false
   }
  },
  {
   "cell_type": "markdown",
   "source": [
    "2. Em seguida, extraímos o verbo e o objeto da primeira frase:"
   ],
   "metadata": {
    "collapsed": false
   }
  },
  {
   "cell_type": "code",
   "execution_count": 126,
   "outputs": [],
   "source": [
    "for token in doc:\n",
    "    if token.dep_ == \"dobj\":\n",
    "\t    obj = token\n",
    "\t    verb = token.head\n",
    "\t    break"
   ],
   "metadata": {
    "collapsed": false
   }
  },
  {
   "cell_type": "markdown",
   "source": [
    "3. Repetimos o mesmo procedimento na segunda frase:"
   ],
   "metadata": {
    "collapsed": false
   }
  },
  {
   "cell_type": "code",
   "execution_count": 127,
   "outputs": [],
   "source": [
    "for token in doc2:\n",
    "    if token.dep_ == \"dobj\":\n",
    "\t    obj2 = token\n",
    "\t    verb2 = token.head\n",
    "\t    break"
   ],
   "metadata": {
    "collapsed": false
   }
  },
  {
   "cell_type": "code",
   "execution_count": 128,
   "outputs": [
    {
     "name": "stdout",
     "output_type": "stream",
     "text": [
      "Verb 1: show - Object 1: aircrafts\n",
      "\n",
      "Verb 2: list - Object 2: meals\n"
     ]
    }
   ],
   "source": [
    "print(f\"Verb 1: {verb} - Object 1: {obj}\")\n",
    "print(f\"\\nVerb 2: {verb2} - Object 2: {obj2}\")"
   ],
   "metadata": {
    "collapsed": false
   }
  },
  {
   "cell_type": "markdown",
   "source": [
    "4. Agora, calculamos a similaridade semântica entre dois objetos diretos usando o método de similaridade baseado em vetor de palavras de spaCy:"
   ],
   "metadata": {
    "collapsed": false
   }
  },
  {
   "cell_type": "code",
   "execution_count": 129,
   "outputs": [
    {
     "data": {
      "text/plain": "0.12760281562805176"
     },
     "execution_count": 129,
     "metadata": {},
     "output_type": "execute_result"
    }
   ],
   "source": [
    "obj.similarity(obj2)\n",
    "# Uma pontuação muito baixa, podemos deduzir que esses 2 enunciados não estão relacionados neste momento."
   ],
   "metadata": {
    "collapsed": false
   }
  },
  {
   "cell_type": "markdown",
   "source": [
    "5. Por fim, calculamos a semelhança entre os verbos:"
   ],
   "metadata": {
    "collapsed": false
   }
  },
  {
   "cell_type": "code",
   "execution_count": 130,
   "outputs": [
    {
     "data": {
      "text/plain": "0.07597791403532028"
     },
     "execution_count": 130,
     "metadata": {},
     "output_type": "execute_result"
    }
   ],
   "source": [
    "verb.similarity(verb2)"
   ],
   "metadata": {
    "collapsed": false
   }
  },
  {
   "cell_type": "markdown",
   "source": [
    "O código anterior é diferente do código anterior. Desta vez, usamos os objetos token diretamente; nenhuma extração de *lemma* é necessária. Em seguida, chamamos o método **token.similarity(token2)** de *spaCy* para calcular a distância semântica entre os objetos diretos. A pontuação resultante é muito baixa. Neste ponto, deduzimos que esses dois enunciados não representam a mesma intenção.\n",
    "\n",
    "Esta é uma maneira fácil e eficiente de calcular a similaridade semântica. Observamos no primeiro capítulo que o spaCy fornece ferramentas fáceis de usar e eficientes para desenvolvedores de NLP, e agora podemos ver o porquê.\n",
    "## Juntando tudo\n",
    "Já extraímos as entidades e reconhecemos a intenção de várias maneiras. Agora estamos prontos para juntar tudo para calcular uma representação semântica para um enunciado do usuário!\n",
    "1. Processaremos a declaração do conjunto de dados de exemplo:\n",
    "\n",
    "`show me flights from denver to philadelphia on tuesday`\n",
    "\n",
    "Manteremos um objeto de dicionário para armazenar o resultado. O resultado incluirá as entidades e a intenção.\n",
    "\n",
    "2. Vamos extrair as entidades:"
   ],
   "metadata": {
    "collapsed": false
   }
  },
  {
   "cell_type": "code",
   "execution_count": 131,
   "outputs": [
    {
     "name": "stdout",
     "output_type": "stream",
     "text": [
      "from denver\n",
      "to philadelphia\n"
     ]
    }
   ],
   "source": [
    "import spacy\n",
    "from spacy.matcher import Matcher\n",
    "nlp = spacy.load(\"en_core_web_md\")\n",
    "matcher = Matcher(nlp.vocab)\n",
    "pattern = [{\"POS\": \"ADP\"}, {\"ENT_TYPE\": \"GPE\"}]\n",
    "matcher.add(\"prepositionLocation\", [pattern])\n",
    "# Location entities\n",
    "doc = nlp(\"show me flights from denver to philadelphia on tuesday\")\n",
    "matches = matcher(doc)\n",
    "for mid, start, end in matches:\n",
    "    print(doc[start:end])"
   ],
   "metadata": {
    "collapsed": false
   }
  },
  {
   "cell_type": "code",
   "execution_count": 132,
   "outputs": [
    {
     "data": {
      "text/plain": "(denver, philadelphia, tuesday)"
     },
     "execution_count": 132,
     "metadata": {},
     "output_type": "execute_result"
    }
   ],
   "source": [
    "# Todas as entidades:\n",
    "ents = doc.ents\n",
    "ents"
   ],
   "metadata": {
    "collapsed": false
   }
  },
  {
   "cell_type": "markdown",
   "source": [
    "3. Com essas informações, podemos gerar a seguinte representação semântica:"
   ],
   "metadata": {
    "collapsed": false
   }
  },
  {
   "cell_type": "code",
   "execution_count": 136,
   "outputs": [
    {
     "data": {
      "text/plain": "{'utterance': 'show me flights from denver to philadelphia on tuesday',\n 'entities': {'date': 'tuesday',\n  'locations': {'from': 'denver', 'to': 'philadelphia'}}}"
     },
     "execution_count": 136,
     "metadata": {},
     "output_type": "execute_result"
    }
   ],
   "source": [
    "{\n",
    "    'utterance': 'show me flights from denver to philadelphia on tuesday',\n",
    "\t'entities': {\n",
    "\t\t'date': 'tuesday',\n",
    "\t\t'locations': {\n",
    "\t\t\t'from': 'denver',\n",
    "\t\t\t'to': 'philadelphia'\n",
    "\t\t}\n",
    "\t}\n",
    "}"
   ],
   "metadata": {
    "collapsed": false
   }
  },
  {
   "cell_type": "markdown",
   "source": [
    "4. Em seguida, realizaremos o reconhecimento de intenção para gerar uma análise semântica completa:"
   ],
   "metadata": {
    "collapsed": false
   }
  },
  {
   "cell_type": "code",
   "execution_count": 134,
   "outputs": [
    {
     "name": "stdout",
     "output_type": "stream",
     "text": [
      "showFlight\n"
     ]
    }
   ],
   "source": [
    "import spacy\n",
    "nlp = spacy.load(\"en_core_web_md\")\n",
    "doc = nlp(\"show me flights from denver to philadelphia on tuesday\")\n",
    "for token in doc:\n",
    "\tif token.dep_ == \"dobj\":\n",
    "\t\tprint(token.head.lemma_ + token.lemma_.capitalize())"
   ],
   "metadata": {
    "collapsed": false
   }
  },
  {
   "cell_type": "markdown",
   "source": [
    "5. Depois de determinar a intenção, nossa análise semântica para esse enunciado agora se parece com isso:"
   ],
   "metadata": {
    "collapsed": false
   }
  },
  {
   "cell_type": "code",
   "execution_count": 135,
   "outputs": [
    {
     "data": {
      "text/plain": "{'utterance': 'show me flights from denver to philadelphia on tuesday',\n 'intent ': ' showFlight',\n 'entities': {'date': 'tuesday',\n  'locations': {'from': 'denver', 'to': 'philadelphia'}}}"
     },
     "execution_count": 135,
     "metadata": {},
     "output_type": "execute_result"
    }
   ],
   "source": [
    "{\n",
    "    'utterance': 'show me flights from denver to philadelphia on tuesday',\n",
    "\t'intent ': ' showFlight',\n",
    "\t'entities': {\n",
    "\t\t'date': 'tuesday',\n",
    "\t\t'locations': {\n",
    "\t\t\t'from': 'denver',\n",
    "\t\t\t'to': 'philadelphia'\n",
    "\t\t}\n",
    "\t}\n",
    "}"
   ],
   "metadata": {
    "collapsed": false
   }
  },
  {
   "cell_type": "markdown",
   "source": [
    "O resultado final é que a representação semântica completa desse enunciado, intenção e entidades é extraída. Esta é uma saída legível por máquina e utilizável. Passamos esse resultado para o componente do sistema que fez a chamada ao aplicativo NLP para gerar uma ação de resposta."
   ],
   "metadata": {
    "collapsed": false
   }
  }
 ],
 "metadata": {
  "kernelspec": {
   "display_name": "Python 3",
   "language": "python",
   "name": "python3"
  },
  "language_info": {
   "codemirror_mode": {
    "name": "ipython",
    "version": 2
   },
   "file_extension": ".py",
   "mimetype": "text/x-python",
   "name": "python",
   "nbconvert_exporter": "python",
   "pygments_lexer": "ipython2",
   "version": "2.7.6"
  }
 },
 "nbformat": 4,
 "nbformat_minor": 0
}
