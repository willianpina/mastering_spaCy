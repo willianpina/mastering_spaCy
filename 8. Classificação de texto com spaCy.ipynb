{
 "cells": [
  {
   "cell_type": "markdown",
   "source": [
    "<h1 align=center>Capítulo 8: Classificação de texto com spaCy</h1>\n",
    "<p align=center><img src=https://static.portugues.com.br/2021/01/tipos-textuais.jpg width=500></p>\n",
    "\n",
    "Este capítulo é dedicado a uma tarefa muito básica e popular da NLP: classificação de texto. Você aprenderá primeiro como treinar o componente classificador de texto do spaCy, **TextCategorizer**. Para isso, você aprenderá a preparar dados e alimentar os dados no classificador; então continuaremos a treinar o classificador. Você também praticará suas novas habilidades do **TextCategorizer** em um conjunto de dados popular para análise de sentimentos.\n",
    "\n",
    "Em seguida, você também fará a classificação de texto com a *API Keras do framework popular TensorFlow* junto com o *spaCy*. Você aprenderá os conceitos básicos de redes neurais, modelagem de dados sequenciais com LSTMs e como preparar texto para tarefas de aprendizado de máquina com o módulo de pré-processamento de texto do Keras. Você também aprenderá a projetar uma rede neural com **tf.keras**.\n",
    "\n",
    "Em seguida, faremos um experimento de classificação de texto de ponta a ponta, desde a preparação dos dados até o pré-processamento do texto com o Keras Tokenizer, o projeto da rede neural, o treinamento do modelo e a interpretação dos resultados da classificação. Isso é um pacote completo de aprendizado de máquina! Neste capítulo, abordaremos os seguintes tópicos principais:\n",
    "* Noções básicas de classificação de texto\n",
    "* Treinamento do classificador de texto spaCy\n",
    "* Análise de sentimentos com spaCy\n",
    "* Classificação de texto com spaCy e Keras\n",
    "\n",
    "## Entendendo os fundamentos da classificação de texto\n",
    "A classificação de texto é a tarefa de atribuir um conjunto de rótulos predefinidos ao texto. Dado um conjunto de classes predefinidas e algum texto, você deseja entender em qual classe predefinida esse texto se enquadra. Temos que determinar as classes nós mesmos pela natureza de nossos dados antes de iniciar a tarefa de classificação. Por exemplo, uma avaliação do cliente pode ser positiva, negativa ou neutra.\n",
    "\n",
    "Os classificadores de texto são usados para detectar e-mails de spam em sua caixa de correio, determinar o sentimento das avaliações do cliente, entender a intenção do cliente, classificar os tíquetes de reclamação do cliente e assim por diante.\n",
    "\n",
    "A classificação de textos é uma tarefa fundamental da NLP. Está ganhando importância no mundo dos negócios, pois permite que as empresas automatizem seus processos. Um exemplo imediato são os filtros de spam. Todos os dias, os usuários recebem muitos e-mails de spam, mas na maioria das vezes nunca veem esses e-mails e não recebem nenhuma notificação porque os filtros de spam evitam que os usuários se preocupem com e-mails irrelevantes e gastem tempo excluindo esses e-mails.\n",
    "\n",
    "Classificadores de texto podem vir em diferentes sabores. Alguns classificadores se concentram na emoção geral do texto, alguns classificadores se concentram na detecção do idioma do texto e alguns classificadores se concentram apenas em algumas palavras do texto, como verbos. A seguir estão alguns dos tipos mais comuns de classificação de texto e seus casos de uso:\n",
    "* **Detecção de tópico**: A detecção de tópico é a tarefa de entender o tópico de um determinado texto. Por exemplo, o texto em um e-mail do cliente pode estar solicitando um reembolso, solicitando uma fatura anterior ou simplesmente reclamando do atendimento ao cliente.\n",
    "* **Análise de sentimento**: A análise de sentimento é a tarefa de entender se o texto contém emoções positivas ou negativas sobre um determinado assunto. A análise de sentimentos é usada frequentemente para analisar as avaliações dos clientes sobre produtos e serviços.\n",
    "* **Detecção de idioma**: A detecção de idioma é o primeiro passo de muitos sistemas de NLP, como a tradução automática.\n",
    "\n",
    "A figura a seguir mostra um classificador de texto para um sistema de automação de atendimento ao cliente:"
   ],
   "metadata": {
    "collapsed": false
   }
  },
  {
   "cell_type": "code",
   "execution_count": 1,
   "outputs": [],
   "source": [],
   "metadata": {
    "collapsed": false
   }
  }
 ],
 "metadata": {
  "kernelspec": {
   "display_name": "Python 3",
   "language": "python",
   "name": "python3"
  },
  "language_info": {
   "codemirror_mode": {
    "name": "ipython",
    "version": 2
   },
   "file_extension": ".py",
   "mimetype": "text/x-python",
   "name": "python",
   "nbconvert_exporter": "python",
   "pygments_lexer": "ipython2",
   "version": "2.7.6"
  }
 },
 "nbformat": 4,
 "nbformat_minor": 0
}
