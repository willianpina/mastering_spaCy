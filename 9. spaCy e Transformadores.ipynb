{
 "cells": [
  {
   "cell_type": "markdown",
   "source": [
    "<h1 align=center>Capítulo 9: spaCy e transformadores</h1)\n",
    "<p align=center><img src=https://explosion.ai/static/6f986e95f28531d728b13625c583cc25/d0aba/spacy-transformers_social.jpg width=500></p>\n",
    "\n",
    "Neste capítulo, você aprenderá sobre o tópico mais recente em NLP, transformadores e como usá-los com TensorFlow e spaCy.\n",
    "\n",
    "Primeiro, você aprenderá sobre transformadores e transferência de aprendizado. Em segundo lugar, você aprenderá sobre os detalhes da arquitetura de transformadores comumente usada – **Representações de codificador bidirecional de transformadores (BERT)**. Você também aprenderá como os algoritmos **BERT Tokenizer** e **WordPiece** funcionam. Então você aprenderá como começar rapidamente com modelos de transformadores pré-treinados da biblioteca **HuggingFace**. Em seguida, você praticará como ajustar transformadores HuggingFace com TensorFlow e Keras. Por fim, você aprenderá como o spaCy v3.0 integra modelos de transformadores como pipelines pré-treinados.\n",
    "\n",
    "Ao final deste capítulo, você estará completando os tópicos estatísticos de NLP deste livro. Você adicionará seu conhecimento de transformadores ao conhecimento de Keras e TensorFlow adquirido no Capítulo 8, Classificação de texto com spaCy. Você será capaz de construir modelos de NLP de última geração com apenas algumas linhas de código com o poder dos modelos Transformer e transferência de aprendizado.\n",
    "\n",
    "Neste capítulo, abordaremos os seguintes tópicos principais:\n",
    "* Transformadores e aprendizado de transferência\n",
    "* Compreendendo o BERT\n",
    "* Transformadores e TensorFlow\n",
    "* Transformadores e spaCy"
   ],
   "metadata": {
    "collapsed": false
   }
  }
 ],
 "metadata": {
  "kernelspec": {
   "display_name": "Python 3",
   "language": "python",
   "name": "python3"
  },
  "language_info": {
   "codemirror_mode": {
    "name": "ipython",
    "version": 2
   },
   "file_extension": ".py",
   "mimetype": "text/x-python",
   "name": "python",
   "nbconvert_exporter": "python",
   "pygments_lexer": "ipython2",
   "version": "2.7.6"
  }
 },
 "nbformat": 4,
 "nbformat_minor": 0
}
