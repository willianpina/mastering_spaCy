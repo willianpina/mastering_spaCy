{
 "cells": [
  {
   "cell_type": "markdown",
   "metadata": {},
   "source": [
    "<h1 align=center>Capítulo 1 - Introdução ao spaCy</h1>\n",
    "<p><img src=https://files.realpython.com/media/How-to-Use-SpaCy-for-Natural-Language-Processing-in-Python_Watermarked_1.b363fc084a80.jpg width=300></p>\n"
   ]
  },
  {
   "cell_type": "markdown",
   "metadata": {},
   "source": [
    "A PNL é um subcampo da IA que analisa texto, fala e outras formas de dados de linguagem gerados por humanos. A linguagem humana é complicada – mesmo um parágrafo curto contém referências às palavras anteriores, apontamentos para objetos do mundo real, referências culturais e experiências pessoais do escritor ou falante."
   ]
  },
  {
   "cell_type": "markdown",
   "metadata": {},
   "source": [
    "## Obtendo uma visão geral de alto nível da biblioteca spaCy\n",
    "\n",
    "spaCy é uma biblioteca Python de código aberto para NLP moderno. Os criadores do spaCy descrevem seu trabalho como PNL de força industrial e, como colaborador, posso garantir que é verdade. spaCy é fornecido com modelos de linguagem pré-treinados e vetores de palavras para mais de 60 idiomas.\n",
    "\n",
    "O foco principal do NLTK era fornecer a estudantes e pesquisadores uma ideia de processamento de linguagem. Ele nunca reivindicou eficiência, precisão do modelo ou ser uma biblioteca de força industrial. spaCy focado em fornecer código pronto para produção desde o primeiro dia."
   ]
  },
  {
   "cell_type": "code",
   "execution_count": 4,
   "metadata": {},
   "outputs": [
    {
     "name": "stdout",
     "output_type": "stream",
     "text": [
      "A versão do spaCy é 3.4.1\n"
     ]
    }
   ],
   "source": [
    "import spacy\n",
    "\n",
    "print(f\"A versão do spaCy é {spacy.__version__}\")"
   ]
  },
  {
   "cell_type": "code",
   "execution_count": 6,
   "metadata": {},
   "outputs": [
    {
     "name": "stdout",
     "output_type": "stream",
     "text": [
      "['Any', 'Config', 'Dict', 'Errors', 'Iterable', 'Language', 'Path', 'Union', 'Vocab', '__builtins__', '__cached__', '__doc__', '__file__', '__loader__', '__name__', '__package__', '__path__', '__spec__', '__version__', 'about', 'attrs', 'blank', 'cli', 'compat', 'displacy', 'errors', 'explain', 'git_info', 'glossary', 'info', 'kb', 'lang', 'language', 'lexeme', 'load', 'logger', 'lookups', 'matcher', 'ml', 'morphology', 'parts_of_speech', 'pipe_analysis', 'pipeline', 'prefer_gpu', 'registry', 'require_cpu', 'require_gpu', 'schemas', 'scorer', 'setup_default_warnings', 'strings', 'symbols', 'sys', 'tokenizer', 'tokens', 'training', 'ty', 'util', 'vectors', 'vocab']\n"
     ]
    }
   ],
   "source": [
    "print(dir(spacy))"
   ]
  },
  {
   "cell_type": "markdown",
   "metadata": {},
   "source": [
    "Modelos grandes podem exigir muito espaço em disco, por exemplo, **en_core_web_lg** ocupa 746 MB, enquanto **en_core_web_md** precisa de 48 MB e **en_core_web_sm** ocupa apenas 11 MB. Modelos de tamanho médio funcionam bem para muitos propósitos de desenvolvimento, então usaremos o modelo **md** em inglês."
   ]
  },
  {
   "cell_type": "code",
   "execution_count": 9,
   "metadata": {},
   "outputs": [],
   "source": [
    "import spacy\n",
    "\n",
    "# Carrengo o Modelo\n",
    "nlp = spacy.load('en_core_web_md')\n",
    "\n",
    "doc = nlp('I have a ginger cat') "
   ]
  },
  {
   "cell_type": "code",
   "execution_count": 10,
   "metadata": {},
   "outputs": [],
   "source": [
    "import en_core_web_md\n",
    "nlp = en_core_web_md.load()\n",
    "doc = nlp('I have a ginger cat')"
   ]
  },
  {
   "cell_type": "markdown",
   "metadata": {},
   "source": [
    "## Visualização com displaCy"
   ]
  },
  {
   "cell_type": "markdown",
   "metadata": {},
   "source": [
    "A visualização é uma ferramenta importante que deve estar na caixa de ferramentas de todo cientista de dados. A visualização é a maneira mais fácil de explicar alguns conceitos para seus colegas, seu chefe e qualquer público técnico ou não técnico. A visualização de dados de idioma é especificamente útil e permite identificar padrões em seus dados rapidamente.\n",
    "\n",
    "Existem muitas bibliotecas e plugins *Python*, como *Matplotlib*, *seaborn*, *TensorBoard* e assim por diante. Sendo uma biblioteca industrial, **spaCy** vem com seu próprio visualizador – **displaCy**."
   ]
  },
  {
   "cell_type": "code",
   "execution_count": null,
   "metadata": {},
   "outputs": [],
   "source": []
  },
  {
   "cell_type": "code",
   "execution_count": null,
   "metadata": {},
   "outputs": [],
   "source": []
  }
 ],
 "metadata": {
  "kernelspec": {
   "display_name": "Python 3",
   "language": "python",
   "name": "python3"
  },
  "language_info": {
   "codemirror_mode": {
    "name": "ipython",
    "version": 3
   },
   "file_extension": ".py",
   "mimetype": "text/x-python",
   "name": "python",
   "nbconvert_exporter": "python",
   "pygments_lexer": "ipython3",
   "version": "3.8.5"
  }
 },
 "nbformat": 4,
 "nbformat_minor": 4
}
